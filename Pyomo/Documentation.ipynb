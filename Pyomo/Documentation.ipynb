{
 "cells": [
  {
   "attachments": {},
   "cell_type": "markdown",
   "metadata": {},
   "source": [
    "# Packages"
   ]
  },
  {
   "cell_type": "code",
   "execution_count": 1,
   "metadata": {},
   "outputs": [
    {
     "data": {
      "text/plain": [
       "'c:\\\\Users\\\\gilramolete\\\\OneDrive - UNIONBANK of the Philippines\\\\Documents 1\\\\Route Optimization\\\\Pyomo'"
      ]
     },
     "execution_count": 1,
     "metadata": {},
     "output_type": "execute_result"
    }
   ],
   "source": [
    "import pandas as pd\n",
    "import numpy as np\n",
    "import matplotlib.pyplot as plt\n",
    "import seaborn as sns\n",
    "\n",
    "import pyomo.environ as pyo\n",
    "from __future__ import division\n",
    "\n",
    "import os\n",
    "os.getcwd()"
   ]
  },
  {
   "attachments": {},
   "cell_type": "markdown",
   "metadata": {},
   "source": [
    "# Pyomo Overview"
   ]
  },
  {
   "attachments": {},
   "cell_type": "markdown",
   "metadata": {},
   "source": [
    "## Abstract vs. Concrete Models"
   ]
  },
  {
   "attachments": {},
   "cell_type": "markdown",
   "metadata": {},
   "source": [
    "A mathematical model can be defined using symbols that represent data values. For example, the following equations represent a linear program (LP) to find optimal values for the vector $x$ with parameters $n$ and $b$, and parameter vectors $a$ and $c$:\n",
    "\n",
    "$$ \\begin{align}\n",
    "\\text{min}   & \\sum^{n}_{j = 1} c_jx_j               & \\\\\n",
    "\n",
    "\\text{s.t.}         & \\sum^{n}_{j = 1} a_{ij}x_j \\geq b_i   & \\forall i = 1 \\dots m \\\\\n",
    "             & x_j \\geq 0                            & \\forall j = 1 \\dots n\n",
    "\\end{align}\n",
    "$$\n",
    "\n",
    "We call this an *abstract* or *symbolic* mathematical model since it relies on unspecified parameter values. Data values can be used to specify a *model instance*. The `AbstractModel` class provides a context for defining and initializing abstract optimization models in Pyomo when the data values will be supplied at the time a solution is to be obtained. \n",
    "\n",
    "In many contexts, a mathematical model can and should be directly defined with the data values supplied at the time of the model definition. We call these *concrete* mathematical models. For example, the following LP model is a concrete instance of the previous abstract model:\n",
    "\n",
    "$$ \\begin{align}\n",
    "\\text{min }          & 2x_1 + 3x_2 \\\\\n",
    "\\text{s.t. }         & 3x_1 + 4x_2 \\geq 1 \\\\\n",
    "                    & x_1, x2 \\geq 0\n",
    "\\end{align}\n",
    "$$\n",
    "\n",
    "The `ConcreteModel` class is used to define concrete optimization models in Pyomo."
   ]
  },
  {
   "attachments": {},
   "cell_type": "markdown",
   "metadata": {},
   "source": [
    "## Simple Models"
   ]
  },
  {
   "attachments": {},
   "cell_type": "markdown",
   "metadata": {},
   "source": [
    "We can showcase the concrete model here."
   ]
  },
  {
   "cell_type": "code",
   "execution_count": 3,
   "metadata": {},
   "outputs": [],
   "source": [
    "model = pyo.ConcreteModel()\n",
    "model.x = pyo.Var([1, 2], domain = pyo.NonNegativeReals)\n",
    "model.OBJ = pyo.Objective(expr = 2 * model.x[1] + 3 * model.x[2])\n",
    "model.Constraint1 = pyo.Constraint(expr = 3 * model.x[1] + 4 * model.x[2] >= 1)"
   ]
  },
  {
   "attachments": {},
   "cell_type": "markdown",
   "metadata": {},
   "source": [
    "We can also showcase the abstract model here."
   ]
  },
  {
   "cell_type": "code",
   "execution_count": 6,
   "metadata": {},
   "outputs": [],
   "source": [
    "model = pyo.AbstractModel()\n",
    "\n",
    "model.m = pyo.Param(within = pyo.NonNegativeIntegers)\n",
    "model.n = pyo.Param(within = pyo.NonNegativeIntegers)\n",
    "\n",
    "model.I = pyo.RangeSet(1, model.m)\n",
    "model.J = pyo.RangeSet(1, model.n)\n",
    "\n",
    "model.a = pyo.Param(model.I, model.J)\n",
    "model.b = pyo.Param(model.I)\n",
    "model.c = pyo.Param(model.J)\n",
    "\n",
    "# Declare a variable indexed by the set J\n",
    "model.x = pyo.Var(model.J, domain = pyo.NonNegativeReals)\n",
    "\n",
    "def obj_expression(m):\n",
    "    return pyo.summation(m.c, m.x)\n",
    "\n",
    "model.OBJ = pyo.Objective(rule = obj_expression)\n",
    "\n",
    "def ax_constraint_rule(m, i):\n",
    "    # Return expression for constraint for i\n",
    "    return sum(m.a[i, j] * m.x[j] for j in m.J) >= m.b[i]\n",
    "\n",
    "# Create one constraint for each member of the set\n",
    "model.AxbConstraint = pyo.Constraint(model.I, rule = ax_constraint_rule)"
   ]
  },
  {
   "attachments": {},
   "cell_type": "markdown",
   "metadata": {},
   "source": [
    "# Pyomo Modeling Components"
   ]
  },
  {
   "attachments": {},
   "cell_type": "markdown",
   "metadata": {},
   "source": [
    "## Sets"
   ]
  },
  {
   "attachments": {},
   "cell_type": "markdown",
   "metadata": {},
   "source": [
    "Sets can be declared using instances of the `Set` and `RangeSet` classes or by assigning set expressions. The simplest set declaration creates a set and postpones creation of its members:"
   ]
  },
  {
   "cell_type": "code",
   "execution_count": 7,
   "metadata": {},
   "outputs": [],
   "source": [
    "model.A = pyo.Set()"
   ]
  },
  {
   "attachments": {},
   "cell_type": "markdown",
   "metadata": {},
   "source": [
    "The `Set` class takes optional arguments such as:\n",
    "- `dimen` = Dimension of the members of the set\n",
    "- `doc` = String describing the set\n",
    "- `filter` = A Boolean function used during construction to indicate if a potential new member should be assigned to the set\n",
    "- `initialize` = An iterable containing the initial members of the Set, or function that returns an iterable of the initial members the set.\n",
    "- `ordered` = A Boolean indicator that the set is ordered; the default is `True`\n",
    "- `validate` = A Boolean function that validates new member data\n",
    "- `within` = Set used for validation; it is a super-set of the set being declared.\n",
    "\n",
    "In general, Pyomo attempts to infer the “dimensionality” of Set components (that is, the number of apparent indices) when they are constructed. However, there are situations where Pyomo either cannot detect a dimensionality (e.g., a `Set` that was not initialized with any members), or you the user may want to assert the dimensionality of the set. This can be accomplished through the dim`en keyword. For example, to create a set whose members will be tuples with two items, one could write:"
   ]
  },
  {
   "cell_type": "code",
   "execution_count": 8,
   "metadata": {},
   "outputs": [],
   "source": [
    "model = pyo.Set(dimen = 2)"
   ]
  },
  {
   "attachments": {},
   "cell_type": "markdown",
   "metadata": {},
   "source": [
    "To create a set of all the numbers in set `model.A` doubles, one could use:"
   ]
  },
  {
   "cell_type": "code",
   "execution_count": 9,
   "metadata": {},
   "outputs": [],
   "source": [
    "def DoubleA_init(model):\n",
    "    return (i * 2 for i in model.A)\n",
    "\n",
    "model.C = pyo.Set(initialize = DoubleA_init)"
   ]
  },
  {
   "attachments": {},
   "cell_type": "markdown",
   "metadata": {},
   "source": [
    "As an aside we note that as always in Python, there are lot of ways to accomplish the same thing. Also, note that this will generate an error if `model.A` contains elements for which multiplication times two is not defined.\n",
    "\n",
    "The `initialize` option can accept any Python iterable, including a `set`, `list`, or `tuple`. This data may be returned from a function or specified directly as in"
   ]
  },
  {
   "cell_type": "code",
   "execution_count": 10,
   "metadata": {},
   "outputs": [],
   "source": [
    "model.D = pyo.Set(initialize = ['red', 'green', 'blue'])"
   ]
  },
  {
   "attachments": {},
   "cell_type": "markdown",
   "metadata": {},
   "source": [
    "The `initialize` option can also specify either a generator or a function to specify the Set members. In the case of a generator, all data yielded by the generator will become the initial set members:"
   ]
  },
  {
   "cell_type": "code",
   "execution_count": 16,
   "metadata": {},
   "outputs": [],
   "source": [
    "def X_init(m):\n",
    "    for i in range(10):\n",
    "        yield 2 * i + 1\n",
    "\n",
    "model.X = pyo.Set(initialize = X_init)\n",
    "\n",
    "def Y_init(m):\n",
    "    return [2 * i + 1 for i in range(10)]\n",
    "model.Y = pyo.Set(initialize = Y_init)"
   ]
  },
  {
   "attachments": {},
   "cell_type": "markdown",
   "metadata": {},
   "source": [
    "In the second signature, the function is called for each element, passing the element number in as an extra argument. This is repeated until the function returns the special value `Set.End`:"
   ]
  },
  {
   "cell_type": "code",
   "execution_count": 17,
   "metadata": {},
   "outputs": [],
   "source": [
    "def Z_init(model, i):\n",
    "    if i < 10:\n",
    "        return pyo.Set.End\n",
    "    return 2 * i + 1\n",
    "\n",
    "model.Z = pyo.Set(initialize = Z_init)"
   ]
  },
  {
   "attachments": {},
   "cell_type": "markdown",
   "metadata": {},
   "source": [
    "Note that the element number starts with 1 and not 0."
   ]
  },
  {
   "cell_type": "code",
   "execution_count": 18,
   "metadata": {},
   "outputs": [
    {
     "name": "stdout",
     "output_type": "stream",
     "text": [
      "AbstractOrderedScalarSet : Size=0, Index=None, Ordered=Insertion\n",
      "    Key : Dimen : Domain : Size : Members\n"
     ]
    }
   ],
   "source": [
    "model.X.pprint()"
   ]
  },
  {
   "cell_type": "code",
   "execution_count": 19,
   "metadata": {},
   "outputs": [
    {
     "name": "stdout",
     "output_type": "stream",
     "text": [
      "AbstractOrderedScalarSet : Size=0, Index=None, Ordered=Insertion\n",
      "    Key : Dimen : Domain : Size : Members\n"
     ]
    }
   ],
   "source": [
    "model.Y.pprint()"
   ]
  },
  {
   "cell_type": "code",
   "execution_count": 20,
   "metadata": {},
   "outputs": [
    {
     "name": "stdout",
     "output_type": "stream",
     "text": [
      "AbstractOrderedScalarSet : Size=0, Index=None, Ordered=Insertion\n",
      "    Key : Dimen : Domain : Size : Members\n"
     ]
    }
   ],
   "source": [
    "model.Z.pprint()"
   ]
  },
  {
   "cell_type": "code",
   "execution_count": null,
   "metadata": {},
   "outputs": [],
   "source": []
  }
 ],
 "metadata": {
  "kernelspec": {
   "display_name": "Python 3",
   "language": "python",
   "name": "python3"
  },
  "language_info": {
   "codemirror_mode": {
    "name": "ipython",
    "version": 3
   },
   "file_extension": ".py",
   "mimetype": "text/x-python",
   "name": "python",
   "nbconvert_exporter": "python",
   "pygments_lexer": "ipython3",
   "version": "3.10.0"
  },
  "orig_nbformat": 4,
  "vscode": {
   "interpreter": {
    "hash": "89fcffa4e5c0b8de1000b7bd1cb06ecfe8e894727bdfc6006168278143d46145"
   }
  }
 },
 "nbformat": 4,
 "nbformat_minor": 2
}
