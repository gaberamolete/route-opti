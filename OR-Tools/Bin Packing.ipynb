{
 "cells": [
  {
   "attachments": {},
   "cell_type": "markdown",
   "metadata": {},
   "source": [
    "# Packages"
   ]
  },
  {
   "cell_type": "code",
   "execution_count": 16,
   "metadata": {},
   "outputs": [
    {
     "data": {
      "text/plain": [
       "'c:\\\\Users\\\\gilramolete\\\\OneDrive - UNIONBANK of the Philippines\\\\Documents 1\\\\Route Optimization\\\\OR-Tools'"
      ]
     },
     "execution_count": 16,
     "metadata": {},
     "output_type": "execute_result"
    }
   ],
   "source": [
    "from ortools.linear_solver import pywraplp\n",
    "from ortools.constraint_solver import pywrapcp\n",
    "from ortools.sat.python import cp_model\n",
    "\n",
    "import os\n",
    "os.getcwd()"
   ]
  },
  {
   "attachments": {},
   "cell_type": "markdown",
   "metadata": {},
   "source": [
    "# Overview"
   ]
  },
  {
   "attachments": {},
   "cell_type": "markdown",
   "metadata": {},
   "source": [
    "The goal of *packing* problems is to find the best way to **pack a set of items of given sizes into containers with fixed capacities**. A typical application is loading boxes onto delivery trucks efficiently. Often, it's not possible to pack all the items, due to the capacity constraints. In that case, the problem is to find a subset of the items with maximum total size that will fit in the containers.\n",
    "\n",
    "There are many types of packing problems. Two of the most important are knapsack problems and bin packing."
   ]
  },
  {
   "attachments": {},
   "cell_type": "markdown",
   "metadata": {},
   "source": [
    "## Knapsack problems"
   ]
  },
  {
   "attachments": {},
   "cell_type": "markdown",
   "metadata": {},
   "source": [
    "In the simple knapsack problem, there is a single container (a knapsack). The items have values as well as sizes, and the goal is to pack a subset of the items that has maximum total value. For the special case in which value is equal to size, the goal is to maximize the total size of the packed items.\n",
    "\n",
    "OR-Tools provides several solvers for knapsack problems in its algorithms library. There are also more general versions of the knapsack problem. Here are a couple of examples:\n",
    "- **Multidimensional knapsack problems**, in which the **items have more than one physical quantity**, such as weight and volume, and the **knapsack has a capacity for each quantity**. Here, the term dimension does not necessarily refer to the usual spatial dimensions of height, length, and width. However, some problems might involve spatial dimensions, for example, finding the optimal way to pack rectangular boxes into a rectangular storage bin.\n",
    "- **Multiple knapsack problems**, in which there are multiple knapsacks, and the goal is to **maximize the total value of the packed items in all knapsacks**.\n",
    "\n",
    "Note that you can have a multidimensional problem with a single knapsack, or a multiple knapsack problem with just one dimension."
   ]
  },
  {
   "attachments": {},
   "cell_type": "markdown",
   "metadata": {},
   "source": [
    "## Bin-packing problem"
   ]
  },
  {
   "attachments": {},
   "cell_type": "markdown",
   "metadata": {},
   "source": [
    "One of the most well-known packing problems is bin-packing, in which there are multiple containers (called bins) of equal capacity. Unlike the multiple knapsack problem, the number of bins is not fixed. Instead, the goal is to find the smallest number of bins that will hold all the items.\n",
    "\n",
    "Here's a simple example to illustrate the difference between the multiple knapsack problem and the bin-packing problem. Suppose a company has delivery trucks, each of which has an 18,000 pound weight capacity, and 130,000 pounds of items to deliver.\n",
    "- **Multiple knapsack**: You have five trucks and you want to load a subset of the items that has maximum weight onto them.\n",
    "- **Bin packing**: You have 20 trucks (more than enough to hold all the items) and you want to use the fewest trucks that will hold them all."
   ]
  },
  {
   "attachments": {},
   "cell_type": "markdown",
   "metadata": {},
   "source": [
    "# Solving a Multiple Knapsack Problem"
   ]
  },
  {
   "attachments": {},
   "cell_type": "markdown",
   "metadata": {},
   "source": [
    "You start with a collection of items of varying weights and values. The problem is to pack a subset of the items into five bins, each of which has a maximum capacity of 100, so that the total packed value is a maximum."
   ]
  },
  {
   "attachments": {},
   "cell_type": "markdown",
   "metadata": {},
   "source": [
    "## MIP solution"
   ]
  },
  {
   "cell_type": "code",
   "execution_count": 17,
   "metadata": {},
   "outputs": [],
   "source": [
    "# Create data\n",
    "data = {}\n",
    "data['weights'] = [\n",
    "    48, 30, 42, 36, 36, 48, 42, 42, 36, 24, 30, 30, 42, 36, 36\n",
    "]\n",
    "data['values'] = [\n",
    "    10, 30, 25, 50, 35, 30, 15, 40, 30, 35, 45, 10, 20, 30, 25\n",
    "]\n",
    "assert len(data['weights']) == len(data['values'])\n",
    "data['num_items'] = len(data['weights'])\n",
    "data['all_items'] = range(data['num_items'])\n",
    "\n",
    "data['bin_capacities'] = [100, 100, 100, 100, 100]\n",
    "data['num_bins'] = len(data['bin_capacities'])\n",
    "data['all_bins'] = range(data['num_bins'])"
   ]
  },
  {
   "attachments": {},
   "cell_type": "markdown",
   "metadata": {},
   "source": [
    "The data includes the following:\n",
    "- `weights`: A vector containing the weights of the items.\n",
    "- `values`: A vector containing the values of the items.\n",
    "- `capacities`: A vector containing the capacities of the bins.\n",
    "\n",
    "In this example, all the bins have the same capacity, but that need not be true in general."
   ]
  },
  {
   "cell_type": "code",
   "execution_count": 18,
   "metadata": {},
   "outputs": [],
   "source": [
    "# Declare MIP solver\n",
    "solver = pywraplp.Solver.CreateSolver('SCIP')\n",
    "\n",
    "# Create variables\n",
    "# x[i, j] = 1 if item i is packed in bin j\n",
    "x = {}\n",
    "for i in data['all_items']:\n",
    "    for j in data['all_bins']:\n",
    "        x[i, j] = solver.BoolVar(f'x_{i}_{j}')"
   ]
  },
  {
   "attachments": {},
   "cell_type": "markdown",
   "metadata": {},
   "source": [
    "Each `x[(i, j)]` is a 0-1 variable, where `i` is an item and `j` is a bin. In the solution, `x[(i, j)]` will be 1 if item `i` is placed in bin `j`, and 0 otherwise."
   ]
  },
  {
   "cell_type": "code",
   "execution_count": 19,
   "metadata": {},
   "outputs": [],
   "source": [
    "# Define constraints\n",
    "# Each item is assigned to at most one bin\n",
    "for i in data['all_items']:\n",
    "    solver.Add(sum(x[i, j] for j in data['all_bins']) <= 1)\n",
    "\n",
    "# The amount packed in each bin cannot exceed its capacity\n",
    "for j in data['all_bins']:\n",
    "    solver.Add(\n",
    "        sum(x[i, j] * data['weights'][i] for i in data['all_items']) <= data['bin_capacities'][j]\n",
    "    )"
   ]
  },
  {
   "attachments": {},
   "cell_type": "markdown",
   "metadata": {},
   "source": [
    "The constraints are the following:\n",
    "- Each item can be placed in at most one bin. This constraint is set by requiring the sum of `x[i, j]` over all bins `j` to be less than or equal to 1.\n",
    "- The total weight packed in each bin can't exceed its capacity. This constraint is set by requiring the sum of the weights of items placed in bin `j` to be less than or equal to the capacity of the bin."
   ]
  },
  {
   "cell_type": "code",
   "execution_count": 20,
   "metadata": {},
   "outputs": [],
   "source": [
    "# Maximize total value of packed items\n",
    "objective = solver.Objective()\n",
    "for i in data['all_items']:\n",
    "    for j in data['all_bins']:\n",
    "        objective.SetCoefficient(x[i, j], data['values'][i])\n",
    "objective.SetMaximization()"
   ]
  },
  {
   "attachments": {},
   "cell_type": "markdown",
   "metadata": {},
   "source": [
    "Note that `x[i, j] * data['values'][i]` adds the value of item `i` to the objective if the item is placed in bin `j`. If `i` is not placed in any bin, its value doesn't contribute to the objective."
   ]
  },
  {
   "cell_type": "code",
   "execution_count": 21,
   "metadata": {},
   "outputs": [
    {
     "name": "stdout",
     "output_type": "stream",
     "text": [
      "Total packed value: 395.0\n",
      "Bin 0\n",
      "Item 5 weight: 48 value: 30\n",
      "Item 7 weight: 42 value: 40\n",
      "Packed bin weight: 90\n",
      "Packed bin value: 70\n",
      "\n",
      "Bin 1\n",
      "Item 1 weight: 30 value: 30\n",
      "Item 4 weight: 36 value: 35\n",
      "Item 10 weight: 30 value: 45\n",
      "Packed bin weight: 96\n",
      "Packed bin value: 110\n",
      "\n",
      "Bin 2\n",
      "Item 2 weight: 42 value: 25\n",
      "Item 3 weight: 36 value: 50\n",
      "Packed bin weight: 78\n",
      "Packed bin value: 75\n",
      "\n",
      "Bin 3\n",
      "Item 8 weight: 36 value: 30\n",
      "Item 9 weight: 24 value: 35\n",
      "Item 13 weight: 36 value: 30\n",
      "Packed bin weight: 96\n",
      "Packed bin value: 95\n",
      "\n",
      "Bin 4\n",
      "Item 12 weight: 42 value: 20\n",
      "Item 14 weight: 36 value: 25\n",
      "Packed bin weight: 78\n",
      "Packed bin value: 45\n",
      "\n",
      "Total packed weight: 438\n"
     ]
    }
   ],
   "source": [
    "# Invoke solver\n",
    "status = solver.Solve()\n",
    "\n",
    "# Print solution\n",
    "if status == pywraplp.Solver.OPTIMAL:\n",
    "    print(f'Total packed value: {objective.Value()}')\n",
    "    total_weight = 0\n",
    "    for j in data['all_bins']:\n",
    "        print(f'Bin {j}')\n",
    "        bin_weight = 0\n",
    "        bin_value = 0\n",
    "        for i in data['all_items']:\n",
    "            if x[i, j].solution_value() > 0:\n",
    "                print(f\"Item {i} weight: {data['weights'][i]} value: {data['values'][i]}\")\n",
    "                bin_weight += data['weights'][i]\n",
    "                bin_value += data['values'][i]\n",
    "        print(f'Packed bin weight: {bin_weight}')\n",
    "        print(f'Packed bin value: {bin_value}\\n')\n",
    "        total_weight += bin_weight\n",
    "    print(f'Total packed weight: {total_weight}')\n",
    "else:\n",
    "    print('The problem does not have an optimal solution.')"
   ]
  },
  {
   "attachments": {},
   "cell_type": "markdown",
   "metadata": {},
   "source": [
    "## CP SAT solution"
   ]
  },
  {
   "cell_type": "code",
   "execution_count": 22,
   "metadata": {},
   "outputs": [
    {
     "name": "stdout",
     "output_type": "stream",
     "text": [
      "Total packed value: 395.0\n",
      "Bin 0\n",
      "Item 4 weight: 36 value: 35\n",
      "Item 9 weight: 24 value: 35\n",
      "Item 14 weight: 36 value: 25\n",
      "Packed bin weight: 96\n",
      "Packed bin value: 95\n",
      "Bin 1\n",
      "Item 3 weight: 36 value: 50\n",
      "Item 5 weight: 48 value: 30\n",
      "Packed bin weight: 84\n",
      "Packed bin value: 80\n",
      "Bin 2\n",
      "Item 2 weight: 42 value: 25\n",
      "Item 7 weight: 42 value: 40\n",
      "Packed bin weight: 84\n",
      "Packed bin value: 65\n",
      "Bin 3\n",
      "Item 8 weight: 36 value: 30\n",
      "Item 12 weight: 42 value: 20\n",
      "Packed bin weight: 78\n",
      "Packed bin value: 50\n",
      "Bin 4\n",
      "Item 1 weight: 30 value: 30\n",
      "Item 10 weight: 30 value: 45\n",
      "Item 13 weight: 36 value: 30\n",
      "Packed bin weight: 96\n",
      "Packed bin value: 105\n",
      "Total packed value: 438\n"
     ]
    }
   ],
   "source": [
    "# Declare model\n",
    "model = cp_model.CpModel()\n",
    "\n",
    "# Create data\n",
    "data = {}\n",
    "data['weights'] = [\n",
    "    48, 30, 42, 36, 36, 48, 42, 42, 36, 24, 30, 30, 42, 36, 36\n",
    "]\n",
    "data['values'] = [\n",
    "    10, 30, 25, 50, 35, 30, 15, 40, 30, 35, 45, 10, 20, 30, 25\n",
    "]\n",
    "assert len(data['weights']) == len(data['values'])\n",
    "data['num_items'] = len(data['weights'])\n",
    "data['all_items'] = range(data['num_items'])\n",
    "\n",
    "data['bin_capacities'] = [100, 100, 100, 100, 100]\n",
    "data['num_bins'] = len(data['bin_capacities'])\n",
    "data['all_bins'] = range(data['num_bins'])\n",
    "\n",
    "# Create variables\n",
    "# x[i, b] = 1 if item i is packed in bin b.\n",
    "x = {}\n",
    "for i in data['all_items']:\n",
    "    for j in data['all_bins']:\n",
    "        x[i, j] = model.NewBoolVar(f'x_{i}_{j}')\n",
    "\n",
    "# Create constraints\n",
    "# Each item is assigned to at most one bin\n",
    "for i in data['all_items']:\n",
    "    model.AddAtMostOne(x[i, j] for j in data['all_bins'])\n",
    "\n",
    "# The amount packed in each bin cannot exceed its capacity\n",
    "for j in data['all_bins']:\n",
    "    model.Add(\n",
    "        sum(x[i, j] * data['weights'][i] for i in data['all_items']) <= data['bin_capacities'][j]\n",
    "    )\n",
    "\n",
    "# Create objective function\n",
    "objective = []\n",
    "for i in data['all_items']:\n",
    "    for j in data['all_bins']:\n",
    "        objective.append(cp_model.LinearExpr.Term(x[i, j], data['values'][i]))\n",
    "model.Maximize(cp_model.LinearExpr.Sum(objective))\n",
    "\n",
    "# Invoke solver\n",
    "solver = cp_model.CpSolver()\n",
    "status = solver.Solve(model)\n",
    "\n",
    "# Print solution\n",
    "if status == cp_model.OPTIMAL:\n",
    "    print(f'Total packed value: {solver.ObjectiveValue()}')\n",
    "    total_weight = 0\n",
    "    for j in data['all_bins']:\n",
    "        print(f'Bin {j}')\n",
    "        bin_weight = 0\n",
    "        bin_value = 0\n",
    "        for i in data['all_items']:\n",
    "            if solver.Value(x[i, j]) > 0:\n",
    "                print(f\"Item {i} weight: {data['weights'][i]} value: {data['values'][i]}\")\n",
    "                bin_weight += data['weights'][i]\n",
    "                bin_value += data['values'][i]\n",
    "        print(f'Packed bin weight: {bin_weight}')\n",
    "        print(f'Packed bin value: {bin_value}')\n",
    "        total_weight += bin_weight\n",
    "    print(f'Total packed value: {total_weight}')\n",
    "else:\n",
    "    print('The problem does not have an optimal solution.')"
   ]
  },
  {
   "attachments": {},
   "cell_type": "markdown",
   "metadata": {},
   "source": [
    "# The Bin Packing Problem"
   ]
  },
  {
   "attachments": {},
   "cell_type": "markdown",
   "metadata": {},
   "source": [
    "In this example, items of various weights need to be packed into a set of bins with a common capacity. Assuming that there are enough bins to hold all the items, the problem is to find the fewest that will suffice."
   ]
  },
  {
   "cell_type": "code",
   "execution_count": 23,
   "metadata": {},
   "outputs": [],
   "source": [
    "# Create data\n",
    "def create_data_model():\n",
    "    \"\"\"Create the data for the example.\"\"\"\n",
    "    data = {}\n",
    "    weights = [48, 30, 19, 36, 36, 27, 42, 42, 36, 24, 30]\n",
    "    data['weights'] = weights\n",
    "    data['items'] = list(range(len(weights)))\n",
    "    data['bins'] = data['items']\n",
    "    data['bin_capacity'] = 100\n",
    "    return data\n",
    "data = create_data_model()"
   ]
  },
  {
   "attachments": {},
   "cell_type": "markdown",
   "metadata": {},
   "source": [
    "The data includes the following:\n",
    "`weights`: A vector containing the weights of the items.\n",
    "`bin_capacity`: A single number giving the capacity of the bins.\n",
    "There are no values assigned to the items because the goal of minimizing the number of bins doesn't involve value.\n",
    "\n",
    "Note that `num_bins` is set to the number of items. This is because if the problem has a solution, then the weight of every item must be less than or equal to the bin capacity. In that case, the maximum number of bins you could need is the number of items, because you could always put each item in a separate bin."
   ]
  },
  {
   "cell_type": "code",
   "execution_count": 24,
   "metadata": {},
   "outputs": [],
   "source": [
    "# Declare solver\n",
    "solver = pywraplp.Solver.CreateSolver('SCIP')\n",
    "\n",
    "# Create variables\n",
    "# x[i, j] = 1 if item i is packed in bin j\n",
    "x = {}\n",
    "for i in data['items']:\n",
    "    for j in data['bins']:\n",
    "        x[(i, j)] = solver.IntVar(0, 1, 'x_%i_%i' % (i, j))\n",
    "\n",
    "# y[j] = 1 if bin j is used\n",
    "y = {}\n",
    "for j in data['bins']:\n",
    "    y[j] = solver.IntVar(0, 1, 'y[%i]' % j)"
   ]
  },
  {
   "attachments": {},
   "cell_type": "markdown",
   "metadata": {},
   "source": [
    "As in the multiple knapsack example, you define an array of variables `x[(i, j)]`, whose value is 1 if item `i` is placed in bin `j`, and 0 otherwise.\n",
    "\n",
    "For bin packing, you also define an array of variables, `y[j]`, whose value is 1 if bin `j` is used — that is, if any items are packed in it — and 0 otherwise. The sum of the `y[j]` will be the number of bins used."
   ]
  },
  {
   "cell_type": "code",
   "execution_count": 25,
   "metadata": {},
   "outputs": [],
   "source": [
    "# Define constraints\n",
    "# Each item must be in exactly one bin\n",
    "for i in data['items']:\n",
    "    solver.Add(sum(x[i, j] for j in data['bins']) == 1)\n",
    "\n",
    "# The amount packed in each bin cannot exceed its capacity\n",
    "for j in data['bins']:\n",
    "    solver.Add(\n",
    "        sum(x[i, j] * data['weights'][i] for i in data['items']) <= y[j] * data['bin_capacity']\n",
    "    )"
   ]
  },
  {
   "attachments": {},
   "cell_type": "markdown",
   "metadata": {},
   "source": [
    "The constraints are the following:\n",
    "- Each item must be placed in exactly one bin. This constraint is set by requiring that the sum of `x[i][j]` over all bins `j` is equal to 1. Note that this differs from the multiple knapsack problem, in which the sum is only required to be less than or equal to 1, because not all items have to be packed.\n",
    "- The total weight packed in each bin can't exceed its capacity. This is the same constraint as in the multiple knapsack problem, but in this case you multiply the bin capacity on the right side of the inequalities by `y[j]`.\n",
    "\n",
    "Why multiply by `y[j]`? Because it forces `y[j]` to equal 1 if any item is packed in bin `j`. This is so because if `y[j]` were 0, the right side of the inequality would be 0, while the bin weight on the left side would be greater than 0, violating the constraint. This connects the variables `y[j]` to the objective of the problem, for now the solver will try to minimize the number of bins for which `y[j]` is 1."
   ]
  },
  {
   "cell_type": "code",
   "execution_count": 26,
   "metadata": {},
   "outputs": [
    {
     "name": "stdout",
     "output_type": "stream",
     "text": [
      "Bin number 0\n",
      "   Items packed: [0, 1, 2]\n",
      "   Total weight: 97\n",
      "\n",
      "Bin number 1\n",
      "   Items packed: [3, 4, 5]\n",
      "   Total weight: 99\n",
      "\n",
      "Bin number 2\n",
      "   Items packed: [6, 7]\n",
      "   Total weight: 84\n",
      "\n",
      "Bin number 3\n",
      "   Items packed: [8, 9, 10]\n",
      "   Total weight: 90\n",
      "\n",
      "\n",
      "Number of bins used: 4\n",
      "Time = 121 milliseconds\n"
     ]
    }
   ],
   "source": [
    "# Define objective\n",
    "solver.Minimize(solver.Sum([y[j] for j in data['bins']]))\n",
    "\n",
    "# Call solver and print solution\n",
    "status = solver.Solve()\n",
    "if status == pywraplp.Solver.OPTIMAL:\n",
    "    num_bins = 0\n",
    "    for j in data['bins']:\n",
    "        if y[j].solution_value() == 1:\n",
    "            bin_items = []\n",
    "            bin_weight = 0\n",
    "            for i in data['items']:\n",
    "                if x[i, j].solution_value() > 0:\n",
    "                    bin_items.append(i)\n",
    "                    bin_weight += data['weights'][i]\n",
    "            if bin_items:\n",
    "                num_bins += 1\n",
    "                print('Bin number', j)\n",
    "                print('   Items packed:', bin_items)\n",
    "                print('   Total weight:', bin_weight)\n",
    "                print()\n",
    "    print()\n",
    "    print('Number of bins used:', num_bins)\n",
    "    print('Time =', solver.WallTime(), 'milliseconds')\n",
    "else:\n",
    "    print('The problem does not have an optimal solution.')"
   ]
  },
  {
   "cell_type": "code",
   "execution_count": null,
   "metadata": {},
   "outputs": [],
   "source": []
  }
 ],
 "metadata": {
  "kernelspec": {
   "display_name": "Python 3",
   "language": "python",
   "name": "python3"
  },
  "language_info": {
   "codemirror_mode": {
    "name": "ipython",
    "version": 3
   },
   "file_extension": ".py",
   "mimetype": "text/x-python",
   "name": "python",
   "nbconvert_exporter": "python",
   "pygments_lexer": "ipython3",
   "version": "3.10.0"
  },
  "orig_nbformat": 4,
  "vscode": {
   "interpreter": {
    "hash": "89fcffa4e5c0b8de1000b7bd1cb06ecfe8e894727bdfc6006168278143d46145"
   }
  }
 },
 "nbformat": 4,
 "nbformat_minor": 2
}
