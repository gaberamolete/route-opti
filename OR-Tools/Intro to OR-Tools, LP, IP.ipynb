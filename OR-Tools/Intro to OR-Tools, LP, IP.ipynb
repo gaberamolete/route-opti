{
 "cells": [
  {
   "attachments": {},
   "cell_type": "markdown",
   "metadata": {},
   "source": [
    "# Packages"
   ]
  },
  {
   "cell_type": "code",
   "execution_count": 1,
   "metadata": {},
   "outputs": [
    {
     "data": {
      "text/plain": [
       "'c:\\\\Users\\\\gilramolete\\\\OneDrive - UNIONBANK of the Philippines\\\\Documents 1\\\\Route Optimization\\\\OR-Tools'"
      ]
     },
     "execution_count": 1,
     "metadata": {},
     "output_type": "execute_result"
    }
   ],
   "source": [
    "from ortools.linear_solver import pywraplp\n",
    "from ortools.init import pywrapinit\n",
    "from ortools.sat.python import cp_model\n",
    "\n",
    "import os\n",
    "os.getcwd()"
   ]
  },
  {
   "attachments": {},
   "cell_type": "markdown",
   "metadata": {},
   "source": [
    "# Get Started with OR-Tools for Python"
   ]
  },
  {
   "attachments": {},
   "cell_type": "markdown",
   "metadata": {},
   "source": [
    "## What is an optimization problem?"
   ]
  },
  {
   "attachments": {},
   "cell_type": "markdown",
   "metadata": {},
   "source": [
    "The goal of optimization is to find the best solution to a problem out of a large set of possible solutions. (Sometimes you'll be satisfied with finding any feasible solution; OR-Tools can do that as well.)\n",
    "\n",
    "Here's a typical optimization problem. Suppose that a shipping company delivers packages to its customers using a fleet of trucks. Every day, the company must assign packages to trucks, and then choose a route for each truck to deliver its packages. Each possible assignment of packages and routes has a cost, based on the total travel distance for the trucks, and possibly other factors as well. The problem is to choose the assignments of packages and routes that has the least cost.\n",
    "\n",
    "Like all optimization problems, this problem has the following elements:\n",
    "- The **objective** — the quantity you want to optimize. In the example above, the objective is to *minimize cost*. To set up an optimization problem, you need to define a function that calculates the value of the objective for any possible solution. This is called the objective function. In the preceding example, the objective function would calculate the total cost of any assignment of packages and routes. An optimal solution is one for which the value of the objective function is the best. (\"Best\" can be either a maximum or a minimum.)\n",
    "- The **constraints** — restrictions on the set of possible solutions, based on the specific requirements of the problem. For example, if the shipping company can't assign packages above a given weight to trucks, this would impose a constraint on the solutions. A feasible solution is one that satisfies all the given constraints for the problem, without necessarily being optimal.\n",
    "\n",
    "The first step in solving an optimization problem is identifying the objective and constraints."
   ]
  },
  {
   "attachments": {},
   "cell_type": "markdown",
   "metadata": {},
   "source": [
    "## Solving an optimization problem"
   ]
  },
  {
   "attachments": {},
   "cell_type": "markdown",
   "metadata": {},
   "source": [
    "### A linear optimization example"
   ]
  },
  {
   "attachments": {},
   "cell_type": "markdown",
   "metadata": {},
   "source": [
    "One of the oldest and most widely-used areas of optimization is linear optimization (or linear programming), in which the objective function and the constraints can be written as linear expressions. Here's a simple example of this type of problem.\n",
    "\n",
    "**Maximize 3x + y subject to the following constraints:**\n",
    "$$0\t≤\tx\t≤\t1$$\n",
    "$$0\t≤\ty\t≤\t2$$\n",
    "$$x + y\t≤\t2$$\n",
    "\n",
    "The objective function in this example is 3x + y. Both the objective function and the constraints are given by linear expressions, which makes this a linear problem."
   ]
  },
  {
   "attachments": {},
   "cell_type": "markdown",
   "metadata": {},
   "source": [
    "### Main steps in solving the problem"
   ]
  },
  {
   "attachments": {},
   "cell_type": "markdown",
   "metadata": {},
   "source": [
    "- Import the required libraries.\n",
    "- Declare the solver.\n",
    "- Create the variables.\n",
    "- Define the constraints.\n",
    "- Define the objective function.\n",
    "- Invoke the solver and display the results."
   ]
  },
  {
   "attachments": {},
   "cell_type": "markdown",
   "metadata": {},
   "source": [
    "### Program"
   ]
  },
  {
   "cell_type": "code",
   "execution_count": 2,
   "metadata": {},
   "outputs": [
    {
     "name": "stdout",
     "output_type": "stream",
     "text": [
      "Number of Variables:  2\n",
      "Number of constriants:  1\n",
      "Solution:\n",
      "\n",
      "Objective value =  4.0\n",
      "x =  1.0\n",
      "y =  1.0\n"
     ]
    }
   ],
   "source": [
    "# Create the linear solver with GLOP backend\n",
    "solver = pywraplp.Solver.CreateSolver('GLOP')\n",
    "# if not solver:\n",
    "#     return\n",
    "\n",
    "# Create the variables\n",
    "x = solver.NumVar(0, 1, 'x')\n",
    "y = solver.NumVar(0, 2, 'y')\n",
    "print('Number of Variables: ', solver.NumVariables())\n",
    "\n",
    "# Define the linear constraint 0 <= x + y <= 2\n",
    "ct = solver.Constraint(0, 2, 'ct')\n",
    "ct.SetCoefficient(x, 1)\n",
    "ct.SetCoefficient(y, 1)\n",
    "print('Number of constriants: ', solver.NumConstraints())\n",
    "\n",
    "# Create the objective function 3 * x + y\n",
    "objective = solver.Objective()\n",
    "objective.SetCoefficient(x, 3)\n",
    "objective.SetCoefficient(y, 1)\n",
    "objective.SetMaximization() # maximization problem\n",
    "\n",
    "# Invoke the solver and display the results\n",
    "solver.Solve()\n",
    "print('Solution:\\n')\n",
    "print('Objective value = ', objective.Value())\n",
    "print('x = ', x.solution_value())\n",
    "print('y = ', y.solution_value())"
   ]
  },
  {
   "attachments": {},
   "cell_type": "markdown",
   "metadata": {},
   "source": [
    "## Identifying the type of problem you wish to solve"
   ]
  },
  {
   "attachments": {},
   "cell_type": "markdown",
   "metadata": {},
   "source": [
    "There are many different types of optimization problems in the world. For each type of problem, there are different approaches and algorithms for finding an optimal solution. Before you can start writing a program to solve an optimization problem, you need to identify what type of problem you are dealing with, and then choose an appropriate solver — an algorithm for finding an optimal solution.\n",
    "\n",
    "Below you will find a brief overview of the types of problems that OR-Tools solves, and links to the sections in this guide that explain how to solve each problem type."
   ]
  },
  {
   "attachments": {},
   "cell_type": "markdown",
   "metadata": {},
   "source": [
    "### Linear optimization"
   ]
  },
  {
   "attachments": {},
   "cell_type": "markdown",
   "metadata": {},
   "source": [
    "A linear optimization problem is one in which the objective function and the constraints are linear expressions in the variables. The primary solver in OR-Tools for this type of problem is the linear optimization solver, which is actually a wrapper for several different libraries for linear and mixed-integer optimization, including third-party libraries."
   ]
  },
  {
   "attachments": {},
   "cell_type": "markdown",
   "metadata": {},
   "source": [
    "### Constraint optimization"
   ]
  },
  {
   "attachments": {},
   "cell_type": "markdown",
   "metadata": {},
   "source": [
    "Constraint optimization, or constraint programming (CP), identifies **feasible solutions out of a very large set of candidates**, where the problem can be modeled in terms of arbitrary constraints. CP is based on **feasibility (finding a feasible solution)** rather than optimization (finding an optimal solution) and focuses on the constraints and variables rather than the objective function. However, CP can be used to solve optimization problems, simply by comparing the values of the objective function for all feasible solutions."
   ]
  },
  {
   "attachments": {},
   "cell_type": "markdown",
   "metadata": {},
   "source": [
    "### Mixed-integer optimization"
   ]
  },
  {
   "attachments": {},
   "cell_type": "markdown",
   "metadata": {},
   "source": [
    "A mixed integer optimization problem is one in which **some or all of the variables are required to be integers**. An example is the *assignment problem*, in which a group of workers needs be assigned to a set of tasks. For each worker and task, you define a variable whose value is 1 if the given worker is assigned to the given task, and 0 otherwise. In this case, the variables can only take on the values 0 or 1."
   ]
  },
  {
   "attachments": {},
   "cell_type": "markdown",
   "metadata": {},
   "source": [
    "### Bin packing"
   ]
  },
  {
   "attachments": {},
   "cell_type": "markdown",
   "metadata": {},
   "source": [
    "Bin packing is the problem of **packing a set of objects of different sizes into containers with different capacities**. The goal is to pack as many of the objects as possible, subject to the capacities of the containers. A special case of this is the knapsack problem, in which there is just one container."
   ]
  },
  {
   "attachments": {},
   "cell_type": "markdown",
   "metadata": {},
   "source": [
    "### Network flows"
   ]
  },
  {
   "attachments": {},
   "cell_type": "markdown",
   "metadata": {},
   "source": [
    "Many optimization problems can be represented by a **directed graph consisting of nodes and directed arcs between them**. For example, transportation problems, in which goods are shipped across a railway network, can be represented by a graph in which the arcs are rail lines and the nodes are distribution centers. In the maximum flow problem, each arc has a maximum capacity that can be transported across it. The problem is to assign the amount of goods to be shipped across each arc so that the total quantity being transported is as large as possible."
   ]
  },
  {
   "attachments": {},
   "cell_type": "markdown",
   "metadata": {},
   "source": [
    "### Assignment"
   ]
  },
  {
   "attachments": {},
   "cell_type": "markdown",
   "metadata": {},
   "source": [
    "Assignment problems involve assigning a **group of agents** (say, workers or machines) to a set of tasks, where there is **a fixed cost for assigning each agent to a specific task**. The problem is to find the assignment with the least total cost. Assignment problems are actually a special case of network flow problems."
   ]
  },
  {
   "attachments": {},
   "cell_type": "markdown",
   "metadata": {},
   "source": [
    "### Scheduling"
   ]
  },
  {
   "attachments": {},
   "cell_type": "markdown",
   "metadata": {},
   "source": [
    "Scheduling problems involve **assigning resources to perform a set of tasks at specific times**. An important example is the job shop problem, in which multiple jobs are processed on several machines. Each job consists of a **sequence of tasks, which must be performed in a given order, and each task must be processed on a specific machine**. The problem is to assign a schedule so that all jobs are completed in as short an interval of time as possible."
   ]
  },
  {
   "attachments": {},
   "cell_type": "markdown",
   "metadata": {},
   "source": [
    "### Routing"
   ]
  },
  {
   "attachments": {},
   "cell_type": "markdown",
   "metadata": {},
   "source": [
    "Routing problems involve finding the **optimal routes for a fleet of vehicles to traverse a network, defined by a directed graph**. The problem of assigning packages to delivery trucks is one example of a routing problem. Another is the traveling salesperson problem."
   ]
  },
  {
   "attachments": {},
   "cell_type": "markdown",
   "metadata": {},
   "source": [
    "# Linear Optimization"
   ]
  },
  {
   "attachments": {},
   "cell_type": "markdown",
   "metadata": {},
   "source": [
    "Linear optimization (or linear programming) is the name given to computing the best solution to a problem modeled as a set of linear relationships. These problems arise in many scientific and engineering disciplines. (The word \"programming\" is a bit of a misnomer, similar to how \"computer\" once meant \"a person who computes.\" Here, \"programming\" refers to the arrangement of a plan, rather than programming in a computer language.)\n",
    "\n",
    "Google's open source software suite for optimization, OR-Tools, provides the MPSolver wrapper for solving linear programming and mixed integer programming problems.\n",
    "\n",
    "To solve pure integer programming problems you can also use the [CP-SAT](https://developers.google.com/optimization/cp/cp_solver) solver."
   ]
  },
  {
   "attachments": {},
   "cell_type": "markdown",
   "metadata": {},
   "source": [
    "## MPSolver"
   ]
  },
  {
   "attachments": {},
   "cell_type": "markdown",
   "metadata": {},
   "source": [
    "### Stigler diet problem using Glop"
   ]
  },
  {
   "attachments": {},
   "cell_type": "markdown",
   "metadata": {},
   "source": [
    "In this section, we show how to solve a classic problem called the Stigler diet, named for economics Nobel laureate George Stigler, who computed an inexpensive way to fulfill basic nutritional needs given a set of foods. He posed this as a mathematical exercise, not as eating recommendations, although the notion of computing optimal nutrition has of come into vogue recently.\n",
    "\n",
    "Our objective is simply minimizing the sum of foods.\n",
    "\n",
    "In 1944, Stigler calculated the best answer he could, noting with sadness:\n",
    "\n",
    "> ...there does not appear to be any direct method of finding the minimum of a linear function subject to linear conditions.\n",
    "\n",
    "He found a diet that cost $39.93 per year, in 1939 dollars. In 1947, Jack Laderman used the simplex method (then, a recent invention!) to determine the optimal solution. It took 120 man days of nine clerks on desk calculators to arrive at the answer."
   ]
  },
  {
   "cell_type": "code",
   "execution_count": 3,
   "metadata": {},
   "outputs": [
    {
     "name": "stdout",
     "output_type": "stream",
     "text": [
      "Number of variables:  77\n"
     ]
    }
   ],
   "source": [
    "# Nutrient minimums\n",
    "nutrients = [\n",
    "    ['Calories (kcal)', 3],\n",
    "    ['Protein (g)', 70],\n",
    "    ['Calcium (g)', 0.8],\n",
    "    ['Iron (mg)', 12],\n",
    "    ['Vitamin A (KIU)', 5],\n",
    "    ['Vitamin B1 (mg)', 1.8],\n",
    "    ['Vitamin B2 (mg)', 2.7],\n",
    "    ['Niacin (mg)', 18],\n",
    "    ['Vitamin C (mg)', 75],\n",
    "]\n",
    "\n",
    "# Commodity, Unit, 1939 price (cents), Calories (kcal), Protein (g),\n",
    "# Calcium (g), Iron (mg), Vitamin A (KIU), Vitamin B1 (mg), Vitamin B2 (mg),\n",
    "# Niacin (mg), Vitamin C (mg)\n",
    "data = [\n",
    "    [\n",
    "        'Wheat Flour (Enriched)', '10 lb.', 36, 44.7, 1411, 2, 365, 0, 55.4,\n",
    "        33.3, 441, 0\n",
    "    ],\n",
    "    ['Macaroni', '1 lb.', 14.1, 11.6, 418, 0.7, 54, 0, 3.2, 1.9, 68, 0],\n",
    "    [\n",
    "        'Wheat Cereal (Enriched)', '28 oz.', 24.2, 11.8, 377, 14.4, 175, 0,\n",
    "        14.4, 8.8, 114, 0\n",
    "    ],\n",
    "    ['Corn Flakes', '8 oz.', 7.1, 11.4, 252, 0.1, 56, 0, 13.5, 2.3, 68, 0],\n",
    "    [\n",
    "        'Corn Meal', '1 lb.', 4.6, 36.0, 897, 1.7, 99, 30.9, 17.4, 7.9, 106,\n",
    "        0\n",
    "    ],\n",
    "    [\n",
    "        'Hominy Grits', '24 oz.', 8.5, 28.6, 680, 0.8, 80, 0, 10.6, 1.6,\n",
    "        110, 0\n",
    "    ],\n",
    "    ['Rice', '1 lb.', 7.5, 21.2, 460, 0.6, 41, 0, 2, 4.8, 60, 0],\n",
    "    ['Rolled Oats', '1 lb.', 7.1, 25.3, 907, 5.1, 341, 0, 37.1, 8.9, 64, 0],\n",
    "    [\n",
    "        'White Bread (Enriched)', '1 lb.', 7.9, 15.0, 488, 2.5, 115, 0,\n",
    "        13.8, 8.5, 126, 0\n",
    "    ],\n",
    "    [\n",
    "        'Whole Wheat Bread', '1 lb.', 9.1, 12.2, 484, 2.7, 125, 0, 13.9,\n",
    "        6.4, 160, 0\n",
    "    ],\n",
    "    ['Rye Bread', '1 lb.', 9.1, 12.4, 439, 1.1, 82, 0, 9.9, 3, 66, 0],\n",
    "    ['Pound Cake', '1 lb.', 24.8, 8.0, 130, 0.4, 31, 18.9, 2.8, 3, 17, 0],\n",
    "    ['Soda Crackers', '1 lb.', 15.1, 12.5, 288, 0.5, 50, 0, 0, 0, 0, 0],\n",
    "    ['Milk', '1 qt.', 11, 6.1, 310, 10.5, 18, 16.8, 4, 16, 7, 177],\n",
    "    [\n",
    "        'Evaporated Milk (can)', '14.5 oz.', 6.7, 8.4, 422, 15.1, 9, 26, 3,\n",
    "        23.5, 11, 60\n",
    "    ],\n",
    "    ['Butter', '1 lb.', 30.8, 10.8, 9, 0.2, 3, 44.2, 0, 0.2, 2, 0],\n",
    "    ['Oleomargarine', '1 lb.', 16.1, 20.6, 17, 0.6, 6, 55.8, 0.2, 0, 0, 0],\n",
    "    ['Eggs', '1 doz.', 32.6, 2.9, 238, 1.0, 52, 18.6, 2.8, 6.5, 1, 0],\n",
    "    [\n",
    "        'Cheese (Cheddar)', '1 lb.', 24.2, 7.4, 448, 16.4, 19, 28.1, 0.8,\n",
    "        10.3, 4, 0\n",
    "    ],\n",
    "    ['Cream', '1/2 pt.', 14.1, 3.5, 49, 1.7, 3, 16.9, 0.6, 2.5, 0, 17],\n",
    "    [\n",
    "        'Peanut Butter', '1 lb.', 17.9, 15.7, 661, 1.0, 48, 0, 9.6, 8.1,\n",
    "        471, 0\n",
    "    ],\n",
    "    ['Mayonnaise', '1/2 pt.', 16.7, 8.6, 18, 0.2, 8, 2.7, 0.4, 0.5, 0, 0],\n",
    "    ['Crisco', '1 lb.', 20.3, 20.1, 0, 0, 0, 0, 0, 0, 0, 0],\n",
    "    ['Lard', '1 lb.', 9.8, 41.7, 0, 0, 0, 0.2, 0, 0.5, 5, 0],\n",
    "    [\n",
    "        'Sirloin Steak', '1 lb.', 39.6, 2.9, 166, 0.1, 34, 0.2, 2.1, 2.9,\n",
    "        69, 0\n",
    "    ],\n",
    "    ['Round Steak', '1 lb.', 36.4, 2.2, 214, 0.1, 32, 0.4, 2.5, 2.4, 87, 0],\n",
    "    ['Rib Roast', '1 lb.', 29.2, 3.4, 213, 0.1, 33, 0, 0, 2, 0, 0],\n",
    "    ['Chuck Roast', '1 lb.', 22.6, 3.6, 309, 0.2, 46, 0.4, 1, 4, 120, 0],\n",
    "    ['Plate', '1 lb.', 14.6, 8.5, 404, 0.2, 62, 0, 0.9, 0, 0, 0],\n",
    "    [\n",
    "        'Liver (Beef)', '1 lb.', 26.8, 2.2, 333, 0.2, 139, 169.2, 6.4, 50.8,\n",
    "        316, 525\n",
    "    ],\n",
    "    ['Leg of Lamb', '1 lb.', 27.6, 3.1, 245, 0.1, 20, 0, 2.8, 3.9, 86, 0],\n",
    "    [\n",
    "        'Lamb Chops (Rib)', '1 lb.', 36.6, 3.3, 140, 0.1, 15, 0, 1.7, 2.7,\n",
    "        54, 0\n",
    "    ],\n",
    "    ['Pork Chops', '1 lb.', 30.7, 3.5, 196, 0.2, 30, 0, 17.4, 2.7, 60, 0],\n",
    "    [\n",
    "        'Pork Loin Roast', '1 lb.', 24.2, 4.4, 249, 0.3, 37, 0, 18.2, 3.6,\n",
    "        79, 0\n",
    "    ],\n",
    "    ['Bacon', '1 lb.', 25.6, 10.4, 152, 0.2, 23, 0, 1.8, 1.8, 71, 0],\n",
    "    ['Ham, smoked', '1 lb.', 27.4, 6.7, 212, 0.2, 31, 0, 9.9, 3.3, 50, 0],\n",
    "    ['Salt Pork', '1 lb.', 16, 18.8, 164, 0.1, 26, 0, 1.4, 1.8, 0, 0],\n",
    "    [\n",
    "        'Roasting Chicken', '1 lb.', 30.3, 1.8, 184, 0.1, 30, 0.1, 0.9, 1.8,\n",
    "        68, 46\n",
    "    ],\n",
    "    ['Veal Cutlets', '1 lb.', 42.3, 1.7, 156, 0.1, 24, 0, 1.4, 2.4, 57, 0],\n",
    "    [\n",
    "        'Salmon, Pink (can)', '16 oz.', 13, 5.8, 705, 6.8, 45, 3.5, 1, 4.9,\n",
    "        209, 0\n",
    "    ],\n",
    "    ['Apples', '1 lb.', 4.4, 5.8, 27, 0.5, 36, 7.3, 3.6, 2.7, 5, 544],\n",
    "    ['Bananas', '1 lb.', 6.1, 4.9, 60, 0.4, 30, 17.4, 2.5, 3.5, 28, 498],\n",
    "    ['Lemons', '1 doz.', 26, 1.0, 21, 0.5, 14, 0, 0.5, 0, 4, 952],\n",
    "    ['Oranges', '1 doz.', 30.9, 2.2, 40, 1.1, 18, 11.1, 3.6, 1.3, 10, 1998],\n",
    "    ['Green Beans', '1 lb.', 7.1, 2.4, 138, 3.7, 80, 69, 4.3, 5.8, 37, 862],\n",
    "    ['Cabbage', '1 lb.', 3.7, 2.6, 125, 4.0, 36, 7.2, 9, 4.5, 26, 5369],\n",
    "    ['Carrots', '1 bunch', 4.7, 2.7, 73, 2.8, 43, 188.5, 6.1, 4.3, 89, 608],\n",
    "    ['Celery', '1 stalk', 7.3, 0.9, 51, 3.0, 23, 0.9, 1.4, 1.4, 9, 313],\n",
    "    ['Lettuce', '1 head', 8.2, 0.4, 27, 1.1, 22, 112.4, 1.8, 3.4, 11, 449],\n",
    "    ['Onions', '1 lb.', 3.6, 5.8, 166, 3.8, 59, 16.6, 4.7, 5.9, 21, 1184],\n",
    "    [\n",
    "        'Potatoes', '15 lb.', 34, 14.3, 336, 1.8, 118, 6.7, 29.4, 7.1, 198,\n",
    "        2522\n",
    "    ],\n",
    "    ['Spinach', '1 lb.', 8.1, 1.1, 106, 0, 138, 918.4, 5.7, 13.8, 33, 2755],\n",
    "    [\n",
    "        'Sweet Potatoes', '1 lb.', 5.1, 9.6, 138, 2.7, 54, 290.7, 8.4, 5.4,\n",
    "        83, 1912\n",
    "    ],\n",
    "    [\n",
    "        'Peaches (can)', 'No. 2 1/2', 16.8, 3.7, 20, 0.4, 10, 21.5, 0.5, 1,\n",
    "        31, 196\n",
    "    ],\n",
    "    [\n",
    "        'Pears (can)', 'No. 2 1/2', 20.4, 3.0, 8, 0.3, 8, 0.8, 0.8, 0.8, 5,\n",
    "        81\n",
    "    ],\n",
    "    [\n",
    "        'Pineapple (can)', 'No. 2 1/2', 21.3, 2.4, 16, 0.4, 8, 2, 2.8, 0.8,\n",
    "        7, 399\n",
    "    ],\n",
    "    [\n",
    "        'Asparagus (can)', 'No. 2', 27.7, 0.4, 33, 0.3, 12, 16.3, 1.4, 2.1,\n",
    "        17, 272\n",
    "    ],\n",
    "    [\n",
    "        'Green Beans (can)', 'No. 2', 10, 1.0, 54, 2, 65, 53.9, 1.6, 4.3,\n",
    "        32, 431\n",
    "    ],\n",
    "    [\n",
    "        'Pork and Beans (can)', '16 oz.', 7.1, 7.5, 364, 4, 134, 3.5, 8.3,\n",
    "        7.7, 56, 0\n",
    "    ],\n",
    "    ['Corn (can)', 'No. 2', 10.4, 5.2, 136, 0.2, 16, 12, 1.6, 2.7, 42, 218],\n",
    "    [\n",
    "        'Peas (can)', 'No. 2', 13.8, 2.3, 136, 0.6, 45, 34.9, 4.9, 2.5, 37,\n",
    "        370\n",
    "    ],\n",
    "    [\n",
    "        'Tomatoes (can)', 'No. 2', 8.6, 1.3, 63, 0.7, 38, 53.2, 3.4, 2.5,\n",
    "        36, 1253\n",
    "    ],\n",
    "    [\n",
    "        'Tomato Soup (can)', '10 1/2 oz.', 7.6, 1.6, 71, 0.6, 43, 57.9, 3.5,\n",
    "        2.4, 67, 862\n",
    "    ],\n",
    "    [\n",
    "        'Peaches, Dried', '1 lb.', 15.7, 8.5, 87, 1.7, 173, 86.8, 1.2, 4.3,\n",
    "        55, 57\n",
    "    ],\n",
    "    [\n",
    "        'Prunes, Dried', '1 lb.', 9, 12.8, 99, 2.5, 154, 85.7, 3.9, 4.3, 65,\n",
    "        257\n",
    "    ],\n",
    "    [\n",
    "        'Raisins, Dried', '15 oz.', 9.4, 13.5, 104, 2.5, 136, 4.5, 6.3, 1.4,\n",
    "        24, 136\n",
    "    ],\n",
    "    [\n",
    "        'Peas, Dried', '1 lb.', 7.9, 20.0, 1367, 4.2, 345, 2.9, 28.7, 18.4,\n",
    "        162, 0\n",
    "    ],\n",
    "    [\n",
    "        'Lima Beans, Dried', '1 lb.', 8.9, 17.4, 1055, 3.7, 459, 5.1, 26.9,\n",
    "        38.2, 93, 0\n",
    "    ],\n",
    "    [\n",
    "        'Navy Beans, Dried', '1 lb.', 5.9, 26.9, 1691, 11.4, 792, 0, 38.4,\n",
    "        24.6, 217, 0\n",
    "    ],\n",
    "    ['Coffee', '1 lb.', 22.4, 0, 0, 0, 0, 0, 4, 5.1, 50, 0],\n",
    "    ['Tea', '1/4 lb.', 17.4, 0, 0, 0, 0, 0, 0, 2.3, 42, 0],\n",
    "    ['Cocoa', '8 oz.', 8.6, 8.7, 237, 3, 72, 0, 2, 11.9, 40, 0],\n",
    "    ['Chocolate', '8 oz.', 16.2, 8.0, 77, 1.3, 39, 0, 0.9, 3.4, 14, 0],\n",
    "    ['Sugar', '10 lb.', 51.7, 34.9, 0, 0, 0, 0, 0, 0, 0, 0],\n",
    "    ['Corn Syrup', '24 oz.', 13.7, 14.7, 0, 0.5, 74, 0, 0, 0, 5, 0],\n",
    "    ['Molasses', '18 oz.', 13.6, 9.0, 0, 10.3, 244, 0, 1.9, 7.5, 146, 0],\n",
    "    [\n",
    "        'Strawberry Preserves', '1 lb.', 20.5, 6.4, 11, 0.4, 7, 0.2, 0.2,\n",
    "        0.4, 3, 0\n",
    "    ],\n",
    "]\n",
    "\n",
    "# Instatiate a Glop solver and name it\n",
    "solver = pywraplp.Solver.CreateSolver('GLOP')\n",
    "# if not solver:\n",
    "#     return\n",
    "\n",
    "# Declare an array to hold our variables\n",
    "foods = [solver.NumVar(0.0, solver.infinity(), item[0]) for item in data]\n",
    "print('Number of variables: ', solver.NumVariables())"
   ]
  },
  {
   "attachments": {},
   "cell_type": "markdown",
   "metadata": {},
   "source": [
    "The method `MakeNumVar` creates one variable, `food[i]`, for each row of the table. As mentioned previously, the nutritional data is per dollar, so `food[i]` is the amount of money to spend on commodity `i`.\n",
    "\n",
    "The constraints for Stigler diet require the total amount of nutrients provided by all foods to be at least the minimum requirements for each nutrient. Next, we write these constraints as inequalities involving the arrays `data` and `nutrients`, and the variables `food[i]`.\n",
    "\n",
    "First, the amount of nutrient `i` provided by food `j` per dollar is `data[j][i + 3]` (we add 3 to the column index because the nutrient data begins in the fourth column of `data`). Since the amount of money to be spent on food `j` is `food[j]`, the amount of nutrient `i` provided by food `j` is $ data[j][i + 3] \\cdot food[j] $. Finally, since the minimum requirement for nutrient `i` is `nutrients[i][1]`, we can write constraint `i` as follows:\n",
    "\n",
    "$$ \\sum^{}_{j}data[j][i + 3] \\cdot food[j] \\geq nutrients[i][1] $$"
   ]
  },
  {
   "cell_type": "code",
   "execution_count": 4,
   "metadata": {},
   "outputs": [
    {
     "name": "stdout",
     "output_type": "stream",
     "text": [
      "Number of constraints:  9\n"
     ]
    }
   ],
   "source": [
    "# Create the constraints, one per nutrient\n",
    "constraints = []\n",
    "for i, nutrient in enumerate(nutrients):\n",
    "    constraints.append(solver.Constraint(nutrient[1], solver.infinity()))\n",
    "    for j, item in enumerate(data):\n",
    "        constraints[i].SetCoefficient(foods[j], item[i + 3])\n",
    "print('Number of constraints: ', solver.NumConstraints())"
   ]
  },
  {
   "cell_type": "code",
   "execution_count": 5,
   "metadata": {},
   "outputs": [
    {
     "name": "stdout",
     "output_type": "stream",
     "text": [
      "\n",
      "Annual Foods:\n",
      "Wheat Flour (Enriched): $10.774457511918223\n",
      "Macaroni: $0.0\n",
      "Wheat Cereal (Enriched): $0.0\n",
      "Corn Flakes: $0.0\n",
      "Corn Meal: $0.0\n",
      "Hominy Grits: $0.0\n",
      "Rice: $0.0\n",
      "Rolled Oats: $0.0\n",
      "White Bread (Enriched): $0.0\n",
      "Whole Wheat Bread: $0.0\n",
      "Rye Bread: $0.0\n",
      "Pound Cake: $0.0\n",
      "Soda Crackers: $0.0\n",
      "Milk: $0.0\n",
      "Evaporated Milk (can): $0.0\n",
      "Butter: $0.0\n",
      "Oleomargarine: $0.0\n",
      "Eggs: $0.0\n",
      "Cheese (Cheddar): $0.0\n",
      "Cream: $0.0\n",
      "Peanut Butter: $0.0\n",
      "Mayonnaise: $0.0\n",
      "Crisco: $0.0\n",
      "Lard: $0.0\n",
      "Sirloin Steak: $0.0\n",
      "Round Steak: $0.0\n",
      "Rib Roast: $0.0\n",
      "Chuck Roast: $0.0\n",
      "Plate: $0.0\n",
      "Liver (Beef): $0.6907834111074193\n",
      "Leg of Lamb: $0.0\n",
      "Lamb Chops (Rib): $0.0\n",
      "Pork Chops: $0.0\n",
      "Pork Loin Roast: $0.0\n",
      "Bacon: $0.0\n",
      "Ham, smoked: $0.0\n",
      "Salt Pork: $0.0\n",
      "Roasting Chicken: $0.0\n",
      "Veal Cutlets: $0.0\n",
      "Salmon, Pink (can): $0.0\n",
      "Apples: $0.0\n",
      "Bananas: $0.0\n",
      "Lemons: $0.0\n",
      "Oranges: $0.0\n",
      "Green Beans: $0.0\n",
      "Cabbage: $4.093268864842877\n",
      "Carrots: $0.0\n",
      "Celery: $0.0\n",
      "Lettuce: $0.0\n",
      "Onions: $0.0\n",
      "Potatoes: $0.0\n",
      "Spinach: $1.8277960703546996\n",
      "Sweet Potatoes: $0.0\n",
      "Peaches (can): $0.0\n",
      "Pears (can): $0.0\n",
      "Pineapple (can): $0.0\n",
      "Asparagus (can): $0.0\n",
      "Green Beans (can): $0.0\n",
      "Pork and Beans (can): $0.0\n",
      "Corn (can): $0.0\n",
      "Peas (can): $0.0\n",
      "Tomatoes (can): $0.0\n",
      "Tomato Soup (can): $0.0\n",
      "Peaches, Dried: $0.0\n",
      "Prunes, Dried: $0.0\n",
      "Raisins, Dried: $0.0\n",
      "Peas, Dried: $0.0\n",
      "Lima Beans, Dried: $0.0\n",
      "Navy Beans, Dried: $22.275425687243036\n",
      "Coffee: $0.0\n",
      "Tea: $0.0\n",
      "Cocoa: $0.0\n",
      "Chocolate: $0.0\n",
      "Sugar: $0.0\n",
      "Corn Syrup: $0.0\n",
      "Molasses: $0.0\n",
      "Strawberry Preserves: $0.0\n",
      "\n",
      "Optimal annual price: $39.6617\n",
      "\n",
      "Nutrients per day:\n",
      "Calories (kcal): 3.0000 (min 3)\n",
      "Protein (g): 147.4135 (min 70)\n",
      "Calcium (g): 0.8000 (min 0.8)\n",
      "Iron (mg): 60.4669 (min 12)\n",
      "Vitamin A (KIU): 5.0000 (min 5)\n",
      "Vitamin B1 (mg): 4.1204 (min 1.8)\n",
      "Vitamin B2 (mg): 2.7000 (min 2.7)\n",
      "Niacin (mg): 27.3160 (min 18)\n",
      "Vitamin C (mg): 75.0000 (min 75)\n"
     ]
    }
   ],
   "source": [
    "# Objective function: Minimize the sum of (price-normalized) foods\n",
    "objective = solver.Objective()\n",
    "for food in foods:\n",
    "    objective.SetCoefficient(food, 1)\n",
    "objective.SetMinimization()\n",
    "\n",
    "# Invoke the solver\n",
    "status = solver.Solve()\n",
    "\n",
    "# Check that the problem has an optimal solution\n",
    "if status != solver.OPTIMAL:\n",
    "    print('The problem does not have an optimal solution!')\n",
    "    if status == solver.FEASIBLE:\n",
    "        print('A potentially feasible suboptimal solution was found.')\n",
    "    else:\n",
    "        print('The solver could not solve the problem.')\n",
    "        exit(1)\n",
    "\n",
    "# Display the amount (in dollars) to purchase of each food\n",
    "nutrients_result = [0] * len(nutrients)\n",
    "print('\\nAnnual Foods:')\n",
    "for i, food in enumerate(foods):\n",
    "    print(f'{data[i][0]}: ${365. * food.solution_value()}')\n",
    "    for j, _ in enumerate(nutrients):\n",
    "        nutrients_result[j] += data[i][j + 3] * food.solution_value()\n",
    "print(f'\\nOptimal annual price: ${365. * objective.Value():.4f}')\n",
    "\n",
    "print('\\nNutrients per day:')\n",
    "for i, nutrient in enumerate(nutrients):\n",
    "    print(f'{nutrient[0]}: {nutrients_result[i]:.4f} (min {nutrient[1]})')"
   ]
  },
  {
   "attachments": {},
   "cell_type": "markdown",
   "metadata": {},
   "source": [
    "### Solving an LP Problem"
   ]
  },
  {
   "attachments": {},
   "cell_type": "markdown",
   "metadata": {},
   "source": [
    "**Maximize 3x + 4y subject to the following constraints:**\n",
    "$$x + 2y\t≤\t14$$\n",
    "$$3x – y\t≥\t0$$\n",
    "$$x – y\t≤\t2$$\n",
    "\n",
    "Both the objective function, 3x + 4y, and the constraints are given by linear expressions, which makes this a linear problem.\n",
    "\n",
    "The constraints define the feasible region, which is the triangle shown below, including its interior.\n",
    "\n",
    "<p align = 'center'>\n",
    "    <img src = 'https://developers.google.com/static/optimization/images/lp/feasible_region.png'>\n",
    "</p>\n",
    "\n",
    "To solve an LP problem:\n",
    "1. Import the linear solver wrapper\n",
    "2. Declare the LP Solver\n",
    "3. Define the variables\n",
    "4. Define the constraints\n",
    "5. Define the objective function\n",
    "6. Call the LP Solver\n",
    "7. Display the solution"
   ]
  },
  {
   "cell_type": "code",
   "execution_count": 6,
   "metadata": {},
   "outputs": [
    {
     "name": "stdout",
     "output_type": "stream",
     "text": [
      "Number of variables = 2\n",
      "Number of constriants = 3\n",
      "Solution:\n",
      "Objective value = 34.0\n",
      "x = 6.0\n",
      "y = 3.9999999999999996\n"
     ]
    }
   ],
   "source": [
    "# Declare LP solver\n",
    "solver = pywraplp.Solver.CreateSolver('GLOP')\n",
    "# if not solver:\n",
    "#     return\n",
    "\n",
    "# Create variables\n",
    "x = solver.NumVar(0, solver.infinity(), 'x')\n",
    "y = solver.NumVar(0, solver.infinity(), 'y')\n",
    "print('Number of variables =', solver.NumVariables())\n",
    "\n",
    "# Define constraints\n",
    "solver.Add(x + 2 * y <= 14)\n",
    "solver.Add(3 + x - y >= 0)\n",
    "solver.Add(x - y <= 2.0)\n",
    "print('Number of constriants =', solver.NumConstraints())\n",
    "\n",
    "# Objective function\n",
    "solver.Maximize(3 * x + 4 * y)\n",
    "\n",
    "# Invoke solver\n",
    "status = solver.Solve()\n",
    "\n",
    "# Display solution\n",
    "if status == pywraplp.Solver.OPTIMAL:\n",
    "    print('Solution:')\n",
    "    print('Objective value =', solver.Objective().Value())\n",
    "    print('x =', x.solution_value())\n",
    "    print('y =', y.solution_value())\n",
    "else:\n",
    "    print('The problem does not have an optimal solution.')"
   ]
  },
  {
   "attachments": {},
   "cell_type": "markdown",
   "metadata": {},
   "source": [
    "### Solving an MIP Problem"
   ]
  },
  {
   "attachments": {},
   "cell_type": "markdown",
   "metadata": {},
   "source": [
    "**Maximize x + 10y subject to the following constraints:**\n",
    "$$x + 7 y\t≤\t17.5$$\n",
    "$$x\t≤\t3.5$$\n",
    "$$x\t≥\t0$$\n",
    "$$y\t≥\t0$$\n",
    "$$ \\text{x, y are integers}$$\n",
    "\n",
    "Since the constraints are linear, this is just a linear optimization problem in which the solutions are required to be integers. The graph below shows the integer points in the feasible region for the problem.\n",
    "\n",
    "<p align = 'center'>\n",
    "    <img src = 'https://developers.google.com/static/optimization/images/mip/feasible_region.png'>\n",
    "</p>\n",
    "\n",
    "The default OR-Tools MIP solver is SCIP. To solve an MIP problem:\n",
    "1. Import the linear solver wrapper,\n",
    "2. declare the MIP solver,\n",
    "3. define the variables,\n",
    "4. define the constraints,\n",
    "5. define the objective,\n",
    "6. call the MIP solver and\n",
    "7. display the solution"
   ]
  },
  {
   "cell_type": "code",
   "execution_count": 7,
   "metadata": {},
   "outputs": [
    {
     "name": "stdout",
     "output_type": "stream",
     "text": [
      "Number of variables = 2\n",
      "\n",
      "Number of constraints = 2\n",
      "\n",
      "Solution:\n",
      "Objective value = 23.0\n",
      "x = 3.0\n",
      "y = 2.0\n"
     ]
    }
   ],
   "source": [
    "# Create MIP solver with SCIP backend\n",
    "solver = pywraplp.Solver.CreateSolver('SCIP')\n",
    "# if not solver:\n",
    "#     return\n",
    "\n",
    "# Define variables; x and y are integer non-negative variables\n",
    "infinity = solver.infinity()\n",
    "x = solver.IntVar(0, infinity, 'x')\n",
    "y = solver.IntVar(0, infinity, 'y')\n",
    "print('Number of variables =', solver.NumVariables())\n",
    "\n",
    "# Define the constraints\n",
    "solver.Add(x + 7 * y <= 17.5)\n",
    "solver.Add(x <= 3.5)\n",
    "print('\\nNumber of constraints =', solver.NumConstraints())\n",
    "\n",
    "# Define objective\n",
    "solver.Maximize(x + 10 * y)\n",
    "\n",
    "# Call solver\n",
    "status = solver.Solve()\n",
    "\n",
    "# Display solution\n",
    "if status == pywraplp.Solver.OPTIMAL:\n",
    "    print('\\nSolution:')\n",
    "    print('Objective value =', solver.Objective().Value())\n",
    "    print('x =', x.solution_value())\n",
    "    print('y =', y.solution_value())\n",
    "else:\n",
    "    print('The problem does not have an optimal solution.')"
   ]
  },
  {
   "attachments": {},
   "cell_type": "markdown",
   "metadata": {},
   "source": [
    "### The Bin Packing Problem"
   ]
  },
  {
   "attachments": {},
   "cell_type": "markdown",
   "metadata": {},
   "source": [
    "Like the multiple knapsack problem, the bin packing problem also involves packing items into bins. However, the bin packing problem has a different objective: find the fewest bins that will hold all the items.\n",
    "\n",
    "The following summarizes the differences between the two problems:\n",
    "- Multiple knapsack problem: Pack a subset of the items into a fixed number of bins, with varying capacities, so that the total value of the packed items is a maximum.\n",
    "- Bin packing problem: Given as many bins with a common capacity as necessary, find the fewest that will hold all the items. In this problem, the items aren't assigned values, because the objective doesn't involve value.\n",
    "\n",
    "In this example, items of various weights need to be packed into a set of bins with a common capacity. Assuming that there are enough bins to hold all the items, the problem is to find the fewest that will suffice."
   ]
  },
  {
   "cell_type": "code",
   "execution_count": 8,
   "metadata": {},
   "outputs": [],
   "source": [
    "def create_data_model():\n",
    "    '''Create the data for the example.'''\n",
    "    data = {}\n",
    "    weights = [48, 30, 19, 36, 36, 27, 42, 42, 36, 24, 30]\n",
    "    data['weights'] = weights\n",
    "    data['items'] = list(range(len(weights)))\n",
    "    data['bins'] = data['items']\n",
    "    data['bin_capacity'] = 100\n",
    "    return data"
   ]
  },
  {
   "attachments": {},
   "cell_type": "markdown",
   "metadata": {},
   "source": [
    "The data includes the following:\n",
    "- `weights`: A vector containing the weights of the items.\n",
    "- `bin_capacity`: A single number giving the capacity of the bins.\n",
    "\n",
    "There are no values assigned to the items because the goal of minimizing the number of bins doesn't involve value.\n",
    "\n",
    "Note that `num_bins` is set to the number of items. This is because if the problem has a solution, then the weight of every item must be less than or equal to the bin capacity. In that case, the maximum number of bins you could need is the number of items, because you could always put each item in a separate bin."
   ]
  },
  {
   "cell_type": "code",
   "execution_count": 9,
   "metadata": {},
   "outputs": [
    {
     "data": {
      "text/plain": [
       "{'weights': [48, 30, 19, 36, 36, 27, 42, 42, 36, 24, 30],\n",
       " 'items': [0, 1, 2, 3, 4, 5, 6, 7, 8, 9, 10],\n",
       " 'bins': [0, 1, 2, 3, 4, 5, 6, 7, 8, 9, 10],\n",
       " 'bin_capacity': 100}"
      ]
     },
     "execution_count": 9,
     "metadata": {},
     "output_type": "execute_result"
    }
   ],
   "source": [
    "data = create_data_model()\n",
    "data"
   ]
  },
  {
   "cell_type": "code",
   "execution_count": 10,
   "metadata": {},
   "outputs": [
    {
     "name": "stdout",
     "output_type": "stream",
     "text": [
      "Bin number 0\n",
      "     Items packed: [0, 1, 2]\n",
      "     Total weight: 97\n",
      "\n",
      "Bin number 1\n",
      "     Items packed: [3, 4, 5]\n",
      "     Total weight: 99\n",
      "\n",
      "Bin number 2\n",
      "     Items packed: [6, 7]\n",
      "     Total weight: 84\n",
      "\n",
      "Bin number 3\n",
      "     Items packed: [8, 9, 10]\n",
      "     Total weight: 90\n",
      "\n",
      "\n",
      "Number of bins used: 4\n",
      "Time = 23  milliseconds.\n"
     ]
    }
   ],
   "source": [
    "# Declare solver\n",
    "solver = pywraplp.Solver.CreateSolver('SCIP')\n",
    "# if not solver:\n",
    "#     return\n",
    "\n",
    "# Create the variables\n",
    "# x[i, j] = 1 if item i is packed in bin j\n",
    "x = {}\n",
    "for i in data['items']:\n",
    "    for j in data['bins']:\n",
    "        x[(i, j)] = solver.IntVar(0, 1, ' x_%i_%i' % (i, j))\n",
    "\n",
    "# y[j] = 1 if bin j is used\n",
    "y = {}\n",
    "for j in data['bins']:\n",
    "    y[j] = solver.IntVar(0, 1, 'y[%i]' * j)\n",
    "\n",
    "# Define constraints\n",
    "# Each item must be in exactly one bin\n",
    "for i in data['items']:\n",
    "    solver.Add(sum(x[i, j] for j in data['bins']) == 1)\n",
    "\n",
    "# The amount packed in each bin cannot exceed its capability\n",
    "for j in data['bins']:\n",
    "    solver.Add(\n",
    "        sum(x[(i, j)] * data['weights'][i] for i in data['items']) <= y[j] * data['bin_capacity']\n",
    "    )\n",
    "\n",
    "# Define the objective; minimize bins used\n",
    "solver.Minimize(solver.Sum([y[j] for j in data['bins']]))\n",
    "\n",
    "# Call solver\n",
    "status = solver.Solve()\n",
    "\n",
    "# Display solution\n",
    "if status == pywraplp.Solver.OPTIMAL:\n",
    "    num_bins = 0\n",
    "    for j in data['bins']:\n",
    "        if y[j].solution_value() == 1:\n",
    "            bin_items = []\n",
    "            bin_weight = 0\n",
    "            for i in data['items']:\n",
    "                if x[i, j].solution_value() > 0:\n",
    "                    bin_items.append(i)\n",
    "                    bin_weight += data['weights'][i]\n",
    "            if bin_items:\n",
    "                num_bins += 1\n",
    "                print('Bin number', j)\n",
    "                print('     Items packed:', bin_items)\n",
    "                print('     Total weight:', bin_weight)\n",
    "                print()\n",
    "    print()\n",
    "    print('Number of bins used:', num_bins)\n",
    "    print('Time =', solver.WallTime(), ' milliseconds.')\n",
    "else:\n",
    "    print('The problem does not have an optimal solution.')"
   ]
  },
  {
   "attachments": {},
   "cell_type": "markdown",
   "metadata": {},
   "source": [
    "### Solving an Assignment Problem"
   ]
  },
  {
   "attachments": {},
   "cell_type": "markdown",
   "metadata": {},
   "source": [
    "In the example there are five workers (numbered 0-4) and four tasks (numbered 0-3). The costs of assigning workers to tasks are shown in the following table.\n",
    "\n",
    "| Worker | Task 0 | Task 1 | Task 2 | Task 3 |\n",
    "| --- | --- | --- | --- | --- |\n",
    "| 0  | 90 | 80 | 75  | 70 |\n",
    "| 1 | 35 | 85 | 55 | 65 |\n",
    "| 2 | 125 | 95 | 90 | 95 |\n",
    "| 3 | 125 | 110 | 95 | 115 |\n",
    "| 4 | 50 | 100 | 90 | 100 |\n",
    "\n",
    "The problem is to assign each worker to at most one task, with no two workers performing the same task, while minimizing the total cost. Since there are more workers than tasks, one worker will not be assigned a task."
   ]
  },
  {
   "attachments": {},
   "cell_type": "markdown",
   "metadata": {},
   "source": [
    "#### `pywraplp`"
   ]
  },
  {
   "cell_type": "code",
   "execution_count": 11,
   "metadata": {},
   "outputs": [
    {
     "name": "stdout",
     "output_type": "stream",
     "text": [
      "Total cost = 265.0\n",
      "\n",
      "Worker 0 assigned to task 3.\n",
      "Cost: 70\n",
      "\n",
      "Worker 1 assigned to task 2.\n",
      "Cost: 55\n",
      "\n",
      "Worker 2 assigned to task 1.\n",
      "Cost: 95\n",
      "\n",
      "Worker 3 assigned to task 0.\n",
      "Cost: 45\n",
      "\n"
     ]
    }
   ],
   "source": [
    "# Create the data\n",
    "costs = [\n",
    "    [90, 80, 75, 70],\n",
    "    [35, 85, 55, 65],\n",
    "    [125, 95, 90, 95],\n",
    "    [45, 110, 95, 115],\n",
    "    [50, 100, 90, 100],\n",
    "]\n",
    "\n",
    "num_workers = len(costs)\n",
    "num_tasks = len(costs[0])\n",
    "\n",
    "# Declare the MIP solver\n",
    "solver = pywraplp.Solver.CreateSolver('SCIP')\n",
    "# if not solver:\n",
    "#     return\n",
    "\n",
    "# Create the variables\n",
    "# x[i, j] is an array of 0-1 variables, which will be 1 is worker i is assigned to task j\n",
    "x = {}\n",
    "for i in range(num_workers):\n",
    "    for j in range(num_tasks):\n",
    "        x[i, j] = solver.IntVar(0, 1, '')\n",
    "\n",
    "# Create the constraints\n",
    "# Each worker is assigned to at most 1 task\n",
    "for i in range(num_workers):\n",
    "    solver.Add(solver.Sum([x[i, j] for j in range(num_tasks)]) <= 1)\n",
    "\n",
    "# Each task is assigned to exactly one worker\n",
    "for j in range(num_tasks):\n",
    "    solver.Add(solver.Sum([x[i, j] for i in range(num_workers)]) == 1)\n",
    "\n",
    "# Create the objective function\n",
    "# Value is the total cost over all variables that are assigned the value 1 by the solver\n",
    "objective_terms = []\n",
    "for i in range(num_workers):\n",
    "    for j in range(num_tasks):\n",
    "        objective_terms.append(costs[i][j] * x[i, j])\n",
    "solver.Minimize(solver.Sum(objective_terms))\n",
    "\n",
    "# Invoke the solver\n",
    "status = solver.Solve()\n",
    "\n",
    "# Display the solution\n",
    "if status == pywraplp.Solver.OPTIMAL or status == pywraplp.Solver.FEASIBLE:\n",
    "    print(f'Total cost = {solver.Objective().Value()}\\n')\n",
    "    for i in range(num_workers):\n",
    "        for j in range(num_tasks):\n",
    "            # Test if x[i, j] is 1 (with tolerance for floating point arithmetic)\n",
    "            if x[i, j].solution_value() > 0.5:\n",
    "                print(f'Worker {i} assigned to task {j}.')\n",
    "                print(f'Cost: {costs[i][j]}\\n')\n",
    "else:\n",
    "    print('No solution found.')"
   ]
  },
  {
   "attachments": {},
   "cell_type": "markdown",
   "metadata": {},
   "source": [
    "#### CP SAT solution"
   ]
  },
  {
   "cell_type": "code",
   "execution_count": 12,
   "metadata": {},
   "outputs": [
    {
     "name": "stdout",
     "output_type": "stream",
     "text": [
      "Total cost = 265.0\n",
      "\n",
      "Worker 0 assigned to task 3 Cost = 70\n",
      "Worker 1 assigned to task 2 Cost = 55\n",
      "Worker 2 assigned to task 1 Cost = 95\n",
      "Worker 3 assigned to task 0 Cost = 45\n"
     ]
    }
   ],
   "source": [
    "# Declare the model\n",
    "model = cp_model.CpModel()\n",
    "\n",
    "# Create data\n",
    "costs = [\n",
    "    [90, 80, 75, 70],\n",
    "    [35, 85, 55, 65],\n",
    "    [125, 95, 90, 95],\n",
    "    [45, 110, 95, 115],\n",
    "    [50, 100, 90, 100],\n",
    "]\n",
    "num_workers = len(costs)\n",
    "num_tasks = len(costs[0])\n",
    "\n",
    "# Create variables\n",
    "x = []\n",
    "for i in range(num_workers):\n",
    "    t = []\n",
    "    for j in range(num_tasks):\n",
    "        t.append(model.NewBoolVar(f'x[{i}, {j}]'))\n",
    "    x.append(t)\n",
    "\n",
    "# Create the constraints\n",
    "# Each worker is assigned to at most one task\n",
    "for i in range(num_workers):\n",
    "    model.AddAtMostOne(x[i][j] for j in range(num_tasks))\n",
    "\n",
    "# Each task is assigned to exactly one worker\n",
    "for j in range(num_tasks):\n",
    "    model.AddExactlyOne(x[i][j] for i in range(num_workers))\n",
    "\n",
    "# Create objective function\n",
    "objective_terms = []\n",
    "for i in range(num_workers):\n",
    "    for j in range(num_tasks):\n",
    "        objective_terms.append(costs[i][j] * x[i][j])\n",
    "model.Minimize(sum(objective_terms))\n",
    "\n",
    "# Invoke solver\n",
    "solver = cp_model.CpSolver()\n",
    "status = solver.Solve(model)\n",
    "\n",
    "# Display solution\n",
    "if status == cp_model.OPTIMAL or status == cp_model.FEASIBLE:\n",
    "    print(f'Total cost = {solver.ObjectiveValue()}')\n",
    "    print()\n",
    "    for i in range(num_workers):\n",
    "        for j in range(num_tasks):\n",
    "            if solver.BooleanValue(x[i][j]):\n",
    "                print(\n",
    "                    f'Worker {i} assigned to task {j} Cost = {costs[i][j]}')\n",
    "else:\n",
    "    print('No solution found.')"
   ]
  },
  {
   "attachments": {},
   "cell_type": "markdown",
   "metadata": {},
   "source": [
    "### Using Arrays to Define a Model"
   ]
  },
  {
   "attachments": {},
   "cell_type": "markdown",
   "metadata": {},
   "source": [
    "The previous section showed how to solve a MIP with just a few variables and constraints, which are defined individually. For larger problems, it's more convenient to define the variables and constraints by looping over arrays. The next example illustrates this.\n",
    "\n",
    "**Maximize 7x1 + 8x2 + 2x3 + 9x4 + 6x5 subject to the following constraints:**\n",
    "$$5x_1\t+\t7x_2\t+\t9x_3\t+\t2x_4\t+\t1x_5\t≤\t250$$\n",
    "$$18x_1\t+\t4x_2\t-\t9x_3\t+\t10x_4\t+\t12x_5\t≤\t285$$\n",
    "$$4x_1\t+\t7x_2\t+\t3x_3\t+\t8x_4\t+\t5x_5\t≤\t211$$\n",
    "$$5x_1\t+\t13x_2\t+\t16x_3\t+\t3x_4\t-\t7x_5\t≤\t315$$\n",
    "where $x_1, x_2, ..., x_5$ are non-negative integers."
   ]
  },
  {
   "cell_type": "code",
   "execution_count": 13,
   "metadata": {},
   "outputs": [],
   "source": [
    "def create_data_model():\n",
    "    \"\"\"Stores the data for the problem.\"\"\"\n",
    "    data = {}\n",
    "    data['constraint_coeffs'] = [\n",
    "        [5, 7, 9, 2, 1],\n",
    "        [18, 4, -9, 10, 12],\n",
    "        [4, 7, 3, 8, 5],\n",
    "        [5, 13, 16, 3, -7],\n",
    "    ]\n",
    "    \n",
    "    data['bounds'] = [250, 285, 211, 315]\n",
    "    data['obj_coeffs'] = [7, 8, 2, 9, 6]\n",
    "    data['num_vars'] = 5\n",
    "    data['num_constraints'] = 4\n",
    "    return data"
   ]
  },
  {
   "cell_type": "code",
   "execution_count": 14,
   "metadata": {},
   "outputs": [
    {
     "name": "stdout",
     "output_type": "stream",
     "text": [
      "Number of variables = 5\n"
     ]
    },
    {
     "data": {
      "text/plain": [
       "{'constraint_coeffs': [[5, 7, 9, 2, 1],\n",
       "  [18, 4, -9, 10, 12],\n",
       "  [4, 7, 3, 8, 5],\n",
       "  [5, 13, 16, 3, -7]],\n",
       " 'bounds': [250, 285, 211, 315],\n",
       " 'obj_coeffs': [7, 8, 2, 9, 6],\n",
       " 'num_vars': 5,\n",
       " 'num_constraints': 4}"
      ]
     },
     "execution_count": 14,
     "metadata": {},
     "output_type": "execute_result"
    }
   ],
   "source": [
    "# Instatiate the data\n",
    "data = create_data_model()\n",
    "\n",
    "# Create solver\n",
    "solver = pywraplp.Solver.CreateSolver('SCIP')\n",
    "# if not solver:\n",
    "#     return\n",
    "\n",
    "# Define the variables\n",
    "infinity = solver.infinity()\n",
    "x = {}\n",
    "for j in range(data['num_vars']):\n",
    "    x[j] = solver.IntVar(0, infinity, 'x[%i]' % j)\n",
    "print('Number of variables =', solver.NumVariables())\n",
    "\n",
    "data"
   ]
  },
  {
   "attachments": {},
   "cell_type": "markdown",
   "metadata": {},
   "source": [
    "The following code creates the constraints for the example, using the method `MakeRowConstraint` (or some variant, depending on the coding language). The first two arguments to the method are the lower and upper bounds for the constraint. The third argument, a name for the constraint, is optional.\n",
    "\n",
    "For each constraint, you define the coefficients of the variables using the method `SetCoefficient`. The method assigns the coefficient of the variable `x[j]` in constraint `i` to be the `[i][j]` entry of the array `constraint_coeffs`."
   ]
  },
  {
   "cell_type": "code",
   "execution_count": 15,
   "metadata": {},
   "outputs": [
    {
     "name": "stdout",
     "output_type": "stream",
     "text": [
      "Number of constraints = 4\n",
      "Objective value = 259.99999999999966\n",
      "x[0] = 8.0\n",
      "x[1] = 21.0\n",
      "x[2] = 0.0\n",
      "x[3] = 2.0\n",
      "x[4] = 3.0\n",
      "\n",
      "Problem solved in 126.000000 milliseconds\n",
      "Problem solved in 71 iterations\n",
      "Problem solved in 7 branch-and-bound nodes\n"
     ]
    }
   ],
   "source": [
    "# Define the constraints\n",
    "for i in range(data['num_constraints']):\n",
    "    constraint = solver.RowConstraint(0, data['bounds'][i], '')\n",
    "    for j in range(data['num_vars']):\n",
    "        constraint.SetCoefficient(x[j], data['constraint_coeffs'][i][j])\n",
    "print('Number of constraints =', solver.NumConstraints())\n",
    "\n",
    "# In Python, you can also set the constraints as follows.\n",
    "    # for i in range(data['num_constraints']):\n",
    "    #  constraint_expr = data['constraint_coeffs'][i][j] * x[j] for j in range(data['num_vars'])]\n",
    "    #  solver.Add(sum(constraint_expr) <= data['bounds'][i])\n",
    "\n",
    "# Define objective\n",
    "objective = solver.Objective()\n",
    "for j in range(data['num_vars']):\n",
    "    objective.SetCoefficient(x[j], data['obj_coeffs'][j])\n",
    "objective.SetMaximization()\n",
    "# In Python, you can also set the objective as follows.\n",
    "    # obj_expr = [data['obj_coeffs'][j] * x[j] for j in range(data['num_vars'])]\n",
    "    # solver.Maximize(solver.Sum(obj_expr))\n",
    "\n",
    "# Call solver\n",
    "status = solver.Solve()\n",
    "\n",
    "# Display solution\n",
    "if status == pywraplp.Solver.OPTIMAL:\n",
    "    print('Objective value =', solver.Objective().Value())\n",
    "    for j in range(data['num_vars']):\n",
    "        print(x[j].name(), '=', x[j].solution_value())\n",
    "    print()\n",
    "    print('Problem solved in %f milliseconds' % solver.wall_time())\n",
    "    print('Problem solved in %d iterations' % solver.iterations())\n",
    "    print('Problem solved in %d branch-and-bound nodes' % solver.nodes())\n",
    "else:\n",
    "    print('The problem does not have an optimal solution.')"
   ]
  },
  {
   "attachments": {},
   "cell_type": "markdown",
   "metadata": {},
   "source": [
    "## Advanced LP Solving"
   ]
  },
  {
   "attachments": {},
   "cell_type": "markdown",
   "metadata": {},
   "source": [
    "Despite the maturity of LP technology, some use cases require more advanced techniques. For example, a number of different LP algorithms and implementations are available, each of which has strengths and weaknesses. Furthermore, numerical instability can cause solvers to slow down or fail to solve certain models."
   ]
  },
  {
   "attachments": {},
   "cell_type": "markdown",
   "metadata": {},
   "source": [
    "### Concepts"
   ]
  },
  {
   "attachments": {},
   "cell_type": "markdown",
   "metadata": {},
   "source": [
    "#### Families of LP algorithms"
   ]
  },
  {
   "attachments": {},
   "cell_type": "markdown",
   "metadata": {},
   "source": [
    "The following classes of algorithms for LP are accessible via OR-Tools.\n",
    "\n",
    "1. The **Simplex algorithm** was the first practical LP algorithm and remains the most popular. The algorithm **walks along the vertices (corner points) of the feasible region**, iteratively improving the value of the objective function until reaching an optimal solution. There are two types of simplex algorithms:\n",
    "    - **Primal simplex** takes steps along the vertices of the **primal feasible region**. This variant is particularly effective at solving a sequence of LP problems with varying objective functions, that is, where the primal feasible region is fixed.\n",
    "    - **Dual simplex** takes steps along the vertices of the **dual feasible region**. This variant is particularly effective at solving a sequence of LP problems where the dual feasible region is fixed, for example, when only bounds on variables change. For this reason, dual simplex is used extensively in MIP solvers.\n",
    "2. **Barrier** or **interior-point** methods were the second practical family of algorithms for LP. Barrier methods **pair theoretical guarantees of efficient (polynomial time) convergence with reliable performance** in practice. They complement the simplex algorithm when it performs poorly; for example, some solvers offer to run both simplex and barrier in parallel, returning the solution from the algorithm that finishes first.\n",
    "3. **First-order methods** are a family of algorithms that **use exclusively gradient information (that is, first-order derivatives) to guide the iterations**. Gradient descent is a well-known example. These methods are popular in nonlinear optimization and machine learning. For LP, first-order methods can scale to larger problems than simplex and barrier, and may also have much smaller memory requirements. On the other thand, they are more sensitive to numerical issues and may struggle to obtain highly accurate solutions.\n",
    "\n",
    "The table below lists the LP solvers available in OR-Tools and indicates which of the three families of algorithms is implemented in each solver.\n",
    "\n",
    "| Solver | Simplex | Barrier | First order |\n",
    "| --- | --- | --- | --- |\n",
    "| Clp | x | x |  |\n",
    "| CPLEX | x | x |  |\n",
    "| Glop | x |  |  |\n",
    "| GLPK | x | x |  |\n",
    "| Gurobi | x | x |  |\n",
    "| PDLP |  |  | x |\n",
    "| Xpress | x | x |  |"
   ]
  },
  {
   "attachments": {},
   "cell_type": "markdown",
   "metadata": {},
   "source": [
    "#### What does solving really mean?"
   ]
  },
  {
   "attachments": {},
   "cell_type": "markdown",
   "metadata": {},
   "source": [
    "For getting the most out of LP solvers, it's important to understand what is implied when a solver claims to have found a solution to an LP problem. This section covers the basics necessary for answering this question, in particular given numerical imprecision and non-uniqueness of solutions."
   ]
  },
  {
   "attachments": {},
   "cell_type": "markdown",
   "metadata": {},
   "source": [
    "##### Tolerances"
   ]
  },
  {
   "attachments": {},
   "cell_type": "markdown",
   "metadata": {},
   "source": [
    "LP solvers almost always use floating-point arithmetic, making their solutions subject to numerical imprecision. To account for this, and to improve performance by avoiding effort on solutions that are already good enough, solvers accept solutions — and claim to have solved a problem — when these solutions satisfy conditions up to certain *tolerances*.\n",
    "\n",
    "Consider the LP problem\n",
    "$$ \\text{min   } -2x_1 - x_2 $$\n",
    "$$ \\text{s.t.   } x_1 + x_2 \\leq 1$$\n",
    "$$ x_1, x_2 \\geq 0 $$\n",
    "\n",
    "and its corresponding dual problem\n",
    "$$ \\text{max   } y $$\n",
    "$$ \\text{s.t.   } - 2 - y \\geq 0 $$\n",
    "$$ - 1 - y \\geq 0 $$\n",
    "$$ y \\leq 0 $$\n",
    "\n",
    "This pair of problems has a unique primal solution of $ x_1 = 1 $, $ x_2 = 0 $ and dual solution $ y = -2 $. Which solutions could be selected as optimal by a solver? To answer this, we define the following quantities:\n",
    "- The **duality gap** is the difference between the primal objective value and the dual objective value, in this case, $|(-2x_1 - x_2) - y| $\n",
    "- The **primal infeasibilities** are the violations of the primal constraints, in this case, $ (max\\{(x_1 + x_2) -1, 0\\}, max\\{-x_1, 0\\}, max\\{-x_2, 0\\}) $\n",
    "- The **dual infeasibilities** are the violations of the dual constraints, in this case, $ (max\\{2 + y, 0\\}, max\\{1 + y, 0\\}, max\\{y, 0\\}) $\n",
    "\n",
    "A solver declares a solution as optimal if the duality gap, the primal infeasibilities, and the dual infeasibilities are smaller than a given tolerance.\n",
    "\n",
    "Notably, the application of the tolerances varies for both natural and idiosyncratic reasons across solvers and algorithms. For example, the duality gap in the simplex algorithm is drivel only by numerical imprecision, while the primal and dual infeasibilities are present even in exact arithmetic. Some methods enforce the bound constraints $ x_1 \\geq 0 $, $ x_2 \\geq 0 $, $ y \\leq 0 $, while others treat violations of bound constraints differently from violations of linear constraints like $ x_1 + x_2 \\leq 1 $. For some solvers, tolerances are *absolute*; that is, there is a parameter $\\epsilon$, and solutions are considered optimal if the duality gap and all primal and dual infeasibilties are less than or equal to $\\epsilon$. For other solvers, tolerances are *relative*, meaning that they scale with the size of the coefficients in the problem.\n",
    "\n",
    "For an example of the effect of tolerances, consider an absolute tolerance of $\\epsilon = \\frac{1}{2} $ applied to the above primal-dual pair. The solution $ x_1 = 1.5 $, $ x_2 = 0 $, $ y = -3 $ has zero duality gap and infeasibilities are all less than or equal to $\\epsilon$, hence a solver might declare this solution \"optimal\". Yet, its objective value (-3) differs by 1 from the true optimal objective value of -2. Typical default values of $\\epsilon$ are between $10^{-6}$ and $10^{-8}$, which makes such extreme examples rare but not impossible."
   ]
  },
  {
   "attachments": {},
   "cell_type": "markdown",
   "metadata": {},
   "source": [
    "##### Types of solutions"
   ]
  },
  {
   "attachments": {},
   "cell_type": "markdown",
   "metadata": {},
   "source": [
    "LP problems can have more than one optimal solution, even more so when accounting for tolerances. We briefly discuss the properties of solutions returned by the three different families of LP algorithms presented above.\n",
    "- Simplex algorithms always **return vertices or corner points** of the feasible region. These solutions are preferred in some situations because they tend to be sparser.\n",
    "- Barrier and first-order methods **do not generally return vertices**. (Theory provides additional characterizations that are beyond the scope of this guide.)\n",
    "\n",
    "For historical reasons and because vertex solutions have appealing properties, solvers often, by default, apply a **crossover procedure** to move to an optimal vertex from a solution found by a barrier algorithm. Crossover is not currently offered for solutions found by first-order methods."
   ]
  },
  {
   "attachments": {},
   "cell_type": "markdown",
   "metadata": {},
   "source": [
    "### Recommendations"
   ]
  },
  {
   "attachments": {},
   "cell_type": "markdown",
   "metadata": {},
   "source": [
    "#### Scaling of problem data"
   ]
  },
  {
   "attachments": {},
   "cell_type": "markdown",
   "metadata": {},
   "source": [
    "Solvers can experience slow convergence or failures on models because of numerical issues. Such issues can arise for many reasons; here we give one example.\n",
    "\n",
    "It is common for very small or large numerical constants to appear in LP models. Extending the example from above, if $x_1$ and $x_2$ represent the fraction of customers assigned to \"provider 1\" or \"provider 2\", and if we want to maximize benefit from serving these customers, we might write the following objective function,\n",
    "\n",
    "$$ \\text{min   } -c_1x_1 - c_2x_2 $$\n",
    "\n",
    "where:\n",
    "- $c_1$ is the benefit from assigning customers to provider 1\n",
    "- $c_2$ is the benefit from assigning customers to provider 2\n",
    "\n",
    "Duals satisfying the following constraints would be considered feasible with an absolute tolerance $\\epsilon$:\n",
    "- $ y \\leq -c_1 + \\epsilon $\n",
    "- $ y \\leq -c_2 + \\epsilon $\n",
    "\n",
    "If the benefit units of $c_1$ and $c_2$ are small fractional values that happen to be on the same scale as $\\epsilon$, then the dual feasibility conditions become rather weak, hence a very suboptimal primal may be declared optimal.\n",
    "\n",
    "If, on the other hand, the benefit units are \"microdollars\" (1 000 000 microdollars = 1 dollar), the resulting very large absolute values ask for very high precision in the solution, possibly unreasonably high given the limits of floating point numbers. Solvers may fail to converge if the problem is formulated in this way. As part of formulating a well-posed problem, advanced modelers should consider if the problem data are scaled in a way that's consistent with their solver's tolerances.\n",
    "\n",
    "In addition to avoiding numerical failures, tolerances may also be tuned for better performance. Simplex and barrier methods are not too sensitive to tolerances but occasionally might benefit from larger tolerances if progress is observed to stall at the end of the solve. On the other hand, first-order methods are typically much more sensitive. Users of first-order methods can benefit from faster solutions by relaxing tolerances, as the context allows.\n",
    "\n",
    "For Glop's tolerances, see `primal_feasibility_tolerance`, `dual_feasibility_tolerance`, and `solution_feasibility_tolerance` in `GlopParameters`. Note that `primal_feasibility_tolerance` and `dual_feasibility_tolerance` are used within the algorithm, while `solution_feasibility_tolerance` is checked post-solve to flag numerical issues. For PDLP, see `eps_optimal_absolute` and `eps_optimal_relative`."
   ]
  },
  {
   "attachments": {},
   "cell_type": "markdown",
   "metadata": {},
   "source": [
    "#### Choice of solvers and algorithms"
   ]
  },
  {
   "attachments": {},
   "cell_type": "markdown",
   "metadata": {},
   "source": [
    "##### Variability in practice"
   ]
  },
  {
   "attachments": {},
   "cell_type": "markdown",
   "metadata": {},
   "source": [
    "We illustrate the variability in performance across LP algorithms and solvers by comparing the solve times on a selection of instances that have been used by Hans Mittelmann for benchmarking LP solvers. The instances are explicitly chosen to show the extremes of relative performance and are not necessarily representative of typical behavior.\n",
    "\n",
    "Glop's primal and dual simplex methods are compared with Gurobi's barrier method (with and without crossover, which finds a vertex solution) and PDLP, a first-order method, in high and low precision. The table below reports solve times in seconds, with a limit of 20 minutes (1200 seconds).\n",
    "\n",
    "| Instance\t| Glop Primal Simplex |\tGlop Dual Simplex |\tGurobi Barrier with Crossover |\tGurobi Barrier without Crossover |\tPDLP High Precision |\tPDLP Low Precision |\n",
    "| --- | --- | --- | --- | --- | --- | --- | \n",
    "| ex10 |\t>1200 |\t>1200 |\t79.7 |\t63.5 |\t8.2\t| 2.7 |\n",
    "| nug08-3rd |\t>1200 |\t252.8 |\t144.6 |\t3.2 |\t1.1 |\t0.9 |\n",
    "| savsched1 |\t>1200 |\t>1200 |\t156.0 |\t22.6 |\t46.4 |\t32.4 |\n",
    "| wide15 |\t>1200 |\t20.8 |\t>1200 |\t>1200\t| 916.4 |\t56.3 |\n",
    "| buildingenergy |\t178.4 |\t267.5 |\t12.8 |\t12.3 |\t>1200 |\t157.2 |\n",
    "| s250r10 |\t12.1 |\t520.6 |\t15.2 |\t16.4 |\t>1200 |\t>1200 |\n",
    "| Solver Version |\tOR-Tools 9.3 |\tOR-Tools 9.3 |\tGurobi 9.0 |\tGurobi 9.0 |\tOR-Tools 9.3 |\tOR-Tools 9.3 |\n",
    "| `solver_specific_parameters` |\t(defaults) |\t`use_dual_simplex: true` |\t`Method 2, Threads 1` |\t`Method 2, Crossover 0, Threads 1` |\t`termination_criteria { eps_optimal_absolute: 1e-8 eps_optimal_relative: 1e-8 }` |\t`termination_criteria { eps_optimal_absolute: 1e-4 eps_optimal_relative: 1e-4 }` |\n",
    "\n",
    "From these results we can conclude the following:\n",
    "- The relative performance of algorithms and solvers can vary by orders of magnitude on a single instance.\n",
    "- No single algorithm and solver is uniformly better than others.\n",
    "- Crossover (enabled by default) increases solve time, sometimes substantially.\n",
    "- PDLP can solve to low precision sometimes 10 times faster than to high precision."
   ]
  },
  {
   "attachments": {},
   "cell_type": "markdown",
   "metadata": {},
   "source": [
    "##### A brief guide for choosing LP solvers"
   ]
  },
  {
   "attachments": {},
   "cell_type": "markdown",
   "metadata": {},
   "source": [
    "Given that no single LP algorithm or solver is the best, we recommend the following steps for discovering what is best for your use case. Start with the first step and proceed to the next if performance is not sufficient.\n",
    "1. Try Glop.\n",
    "    - Why: Glop is Google's in-house implementation of the **primal and dual simplex methods**. Glop is open source and trusted for Google's production workloads.\n",
    "    - If the default configuration (primal simplex) doesn't perform well, try switching to dual simplex using `use_dual_simplex: true`.\n",
    "2. If a license is available, try a **commercial solver (CPLEX, Gurobi, or Xpress)**. Experiment with simplex and barrier methods.\n",
    "    - Why: These solvers are **industry standard and highly optimized**. Also, barrier methods complement the simplex algorithms offered by Glop.\n",
    "    - If using barrier, disable \"crossover\" if you do not need a vertex solution.\n",
    "3. Try PDLP. Tune the convergence tolerances to your application.\n",
    "    - Why: PDLP is designed for the **largest problems**, where simplex and barrier methods hit memory limits or are too slow. PDLP performs best when an approximate but quick solution is preferred to an exact but slow solution."
   ]
  },
  {
   "attachments": {},
   "cell_type": "markdown",
   "metadata": {},
   "source": [
    "# Integer Optimization"
   ]
  },
  {
   "attachments": {},
   "cell_type": "markdown",
   "metadata": {},
   "source": [
    "Linear optimization problems that require some of the variables to be integers are called Mixed Integer Programs (MIPs). These variables can arise in a couple of ways:\n",
    "- **Integer variables** that represent numbers of items, such as cars or television sets, and the problem is to decide how many of each item to manufacture in order to maximize profit. Typically, such problems can be set up as standard linear optimization problems, with the added requirement that the variables must be integers. The next section shows an example of this type of problem.\n",
    "- **Boolean variables** that represent decisions with 0-1 values. As an example, consider a problem that involves assigning workers to tasks. To set up this type of problem, you can define Boolean variables xi,j that equal 1 if worker i is assigned to task j, and 0 otherwise."
   ]
  },
  {
   "attachments": {},
   "cell_type": "markdown",
   "metadata": {},
   "source": [
    "## Tools"
   ]
  },
  {
   "attachments": {},
   "cell_type": "markdown",
   "metadata": {},
   "source": [
    "Google provides few ways to solve MIP problems:\n",
    "- [MPSolver](https://developers.google.com/optimization/lp/mpsolver): A wrapper for several third-party MIP solvers, which use standard branch-and-bound techniques.\n",
    "- [CP-SAT solver](https://developers.google.com/optimization/cp/cp_solver): A *constraint programming* solver that uses SAT (satisfiability) methods.\n",
    "- [Original CP solver](https://developers.google.com/optimization/cp/original_cp_solver): A *constraint programming* solver."
   ]
  },
  {
   "attachments": {},
   "cell_type": "markdown",
   "metadata": {},
   "source": [
    "## Which solver should I use?"
   ]
  },
  {
   "attachments": {},
   "cell_type": "markdown",
   "metadata": {},
   "source": [
    "There's no ironclad rule for deciding whether to use a MIP solver or the CP-SAT solver. As a rough guide:\n",
    "- MIP solvers are better suited for problems that can be set up as a standard LP, but with arbitrary integer variables, like the first example above.\n",
    "- The CP-SAT solver is better suited for problems in which most of the variables are Boolean, like the second example above.\n",
    "\n",
    "For typical MIPs that have both integer and Boolean variables, there's often no clear difference in speed between the two solvers, so your choice may come down to personal preference."
   ]
  },
  {
   "cell_type": "markdown",
   "metadata": {},
   "source": []
  }
 ],
 "metadata": {
  "kernelspec": {
   "display_name": "Python 3",
   "language": "python",
   "name": "python3"
  },
  "language_info": {
   "codemirror_mode": {
    "name": "ipython",
    "version": 3
   },
   "file_extension": ".py",
   "mimetype": "text/x-python",
   "name": "python",
   "nbconvert_exporter": "python",
   "pygments_lexer": "ipython3",
   "version": "3.10.0"
  },
  "orig_nbformat": 4,
  "vscode": {
   "interpreter": {
    "hash": "89fcffa4e5c0b8de1000b7bd1cb06ecfe8e894727bdfc6006168278143d46145"
   }
  }
 },
 "nbformat": 4,
 "nbformat_minor": 2
}
