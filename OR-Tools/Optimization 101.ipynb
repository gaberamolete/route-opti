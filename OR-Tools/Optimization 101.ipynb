{
 "cells": [
  {
   "attachments": {},
   "cell_type": "markdown",
   "metadata": {},
   "source": [
    "# Packages"
   ]
  },
  {
   "cell_type": "code",
   "execution_count": 1,
   "metadata": {},
   "outputs": [
    {
     "data": {
      "text/plain": [
       "'c:\\\\Users\\\\gilramolete\\\\OneDrive - UNIONBANK of the Philippines\\\\Documents 1\\\\Route Optimization\\\\OR-Tools'"
      ]
     },
     "execution_count": 1,
     "metadata": {},
     "output_type": "execute_result"
    }
   ],
   "source": [
    "import numpy as np\n",
    "import pandas as pd\n",
    "import matplotlib.pyplot as plt\n",
    "import seaborn as sns\n",
    "import holoviews as hv\n",
    "\n",
    "from six.moves import xrange\n",
    "from scipy.spatial import distance_matrix\n",
    "from ortools.sat.python import cp_model\n",
    "from ortools.linear_solver import pywraplp\n",
    "from ortools.constraint_solver import routing_enums_pb2, pywrapcp\n",
    "# from ortools.graph.python import pywrapgraph\n",
    "\n",
    "import time\n",
    "import pprint\n",
    "import math\n",
    "from collections import Counter\n",
    "from glob import glob\n",
    "from IPython.display import Image, display\n",
    "from IPython.core.display import HTML\n",
    "\n",
    "pd.options.display.max_rows = 999\n",
    "pd.options.display.width = 300\n",
    "pd.options.display.max_columns = 500\n",
    "start = time.time()\n",
    "\n",
    "import os\n",
    "os.getcwd()"
   ]
  },
  {
   "attachments": {},
   "cell_type": "markdown",
   "metadata": {},
   "source": [
    "# Data Wrangling"
   ]
  },
  {
   "cell_type": "code",
   "execution_count": 4,
   "metadata": {},
   "outputs": [],
   "source": [
    "def list_lines(file_name):\n",
    "    '''Returns a list of integer lists.'''\n",
    "    with open(file_name) as file:\n",
    "        lines = file.read().splitlines()\n",
    "    line_list = [[int(n) for n in ll.split()] for ll in lines]\n",
    "    return line_list\n",
    "\n",
    "def set_params(line_list):\n",
    "    top_line = line_list[0]\n",
    "    params = {\n",
    "        'DRONE_COUNT': top_line[2],\n",
    "        'WT_CAP': top_line[4],\n",
    "        'END_TIME': top_line[3]\n",
    "    }\n",
    "    return params\n",
    "\n",
    "def find_wh_lines(line_list):\n",
    "    '''Provides the dividing line between the warehouse and order sections in the line list.'''\n",
    "    wh_count = line_list[3][0]\n",
    "    wh_endline = (wh_count * 2) + 4\n",
    "    return wh_endline\n",
    "\n",
    "def get_weights(line_list):\n",
    "    weights = np.arrayt(line_list[2])\n",
    "    return weights.astype(np.int16)\n",
    "\n",
    "def get_inventories(line_list):\n",
    "    '''Returns a 2D array of P products by W warehouses.'''\n",
    "    wh_endline = find_wh_lines(line_list)\n",
    "    invs = line_list[5:wh_endline + 1:2]\n",
    "    supply  = np.array(invs).transpose()\n",
    "    return supply.astype(np.int16)\n",
    "\n",
    "def get_orders(line_list):\n",
    "    '''Returns a 2D array of P products by C orders.'''\n",
    "    wh_endline = find_wh_lines(line_list)\n",
    "    demand = np.zeros((line_list[1][0], line_list[wh_endline][0]),\n",
    "                        dtype = np.int16)\n",
    "    orders = line_list[wh_endline+3::3]\n",
    "    for i, ord in enumerate(orders):\n",
    "        for prod in ord:\n",
    "            demand[prod, i] += i\n",
    "    return demand.astype(np.int16)\n",
    "\n",
    "def get_locs(line_list):\n",
    "    wh_endline = find_wh_lines(line_list)\n",
    "    wh_locs = np.array(line_list[4:wh_endline:2])\n",
    "    cust_locs = np.array(line_list[wh_endline+1::3])\n",
    "    return wh_locs.astype(np.int16), cust_locs.astype(np.int16)"
   ]
  },
  {
   "cell_type": "code",
   "execution_count": null,
   "metadata": {},
   "outputs": [],
   "source": []
  }
 ],
 "metadata": {
  "kernelspec": {
   "display_name": "Python 3",
   "language": "python",
   "name": "python3"
  },
  "language_info": {
   "codemirror_mode": {
    "name": "ipython",
    "version": 3
   },
   "file_extension": ".py",
   "mimetype": "text/x-python",
   "name": "python",
   "nbconvert_exporter": "python",
   "pygments_lexer": "ipython3",
   "version": "3.10.0"
  },
  "orig_nbformat": 4,
  "vscode": {
   "interpreter": {
    "hash": "89fcffa4e5c0b8de1000b7bd1cb06ecfe8e894727bdfc6006168278143d46145"
   }
  }
 },
 "nbformat": 4,
 "nbformat_minor": 2
}
