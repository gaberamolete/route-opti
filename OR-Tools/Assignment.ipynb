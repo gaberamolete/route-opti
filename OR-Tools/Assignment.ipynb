{
 "cells": [
  {
   "attachments": {},
   "cell_type": "markdown",
   "metadata": {},
   "source": [
    "# Packages"
   ]
  },
  {
   "cell_type": "code",
   "execution_count": 28,
   "metadata": {},
   "outputs": [
    {
     "data": {
      "text/plain": [
       "'c:\\\\Users\\\\gilramolete\\\\OneDrive - UNIONBANK of the Philippines\\\\Documents 1\\\\Route Optimization\\\\OR-Tools'"
      ]
     },
     "execution_count": 28,
     "metadata": {},
     "output_type": "execute_result"
    }
   ],
   "source": [
    "import numpy as np\n",
    "\n",
    "from ortools.sat.python import cp_model\n",
    "from ortools.linear_solver import pywraplp\n",
    "from ortools.graph.python import linear_sum_assignment\n",
    "\n",
    "import os\n",
    "os.getcwd()"
   ]
  },
  {
   "attachments": {},
   "cell_type": "markdown",
   "metadata": {},
   "source": [
    "# Overview"
   ]
  },
  {
   "attachments": {},
   "cell_type": "markdown",
   "metadata": {},
   "source": [
    "One of the most well-known combinatorial optimization problems is the assignment problem. Here's an example: suppose a group of workers needs to perform a set of tasks, and for each worker and task, there is a cost for assigning the worker to the task. The problem is to assign each worker to at most one task, with no two workers performing the same task, while minimizing the total cost.\n",
    "\n",
    "You can visualize this problem by the graph below, in which there are four workers and four tasks. The edges represent all possible ways to assign workers to tasks. The labels on the edges are the costs of assigning workers to tasks.\n",
    "\n",
    "<p align = 'center'>\n",
    "    <img src = 'https://developers.google.com/static/optimization/images/assignment/assignment.svg'>\n",
    "</p>\n",
    "\n",
    "An assignment corresponds to a subset of the edges, in which each worker has at most one edge leading out, and no two workers have edges leading to the same task. One possible assignment is shown below.\n",
    "\n",
    "<p align = 'center'>\n",
    "    <img src = 'https://developers.google.com/static/optimization/images/assignment/assignment_solution.svg'>\n",
    "</p>\n",
    "\n",
    "The total cost of the assignment is `70 + 55 + 95 + 45 = 265`."
   ]
  },
  {
   "attachments": {},
   "cell_type": "markdown",
   "metadata": {},
   "source": [
    "# Assignment with Teams of Workers"
   ]
  },
  {
   "attachments": {},
   "cell_type": "markdown",
   "metadata": {},
   "source": [
    "## CP-SAT solution"
   ]
  },
  {
   "cell_type": "code",
   "execution_count": 6,
   "metadata": {},
   "outputs": [
    {
     "name": "stdout",
     "output_type": "stream",
     "text": [
      "Total cost = 250.0\n",
      "\n",
      "Worker 0 assigned to task 3. Cost = 70\n",
      "Worker 1 assigned to task 0. Cost = 35\n",
      "Worker 4 assigned to task 2. Cost = 80\n",
      "Worker 5 assigned to task 1. Cost = 65\n"
     ]
    }
   ],
   "source": [
    "# Define data\n",
    "costs = [\n",
    "    [90, 76, 75, 70],\n",
    "    [35, 85, 55, 65],\n",
    "    [125, 95, 90, 105],\n",
    "    [45, 110, 95, 115],\n",
    "    [60, 105, 80, 75],\n",
    "    [45, 65, 110, 95],\n",
    "]\n",
    "num_workers = len(costs)\n",
    "num_tasks = len(costs[0])\n",
    "\n",
    "team1 = [0, 2, 4]\n",
    "team2 = [1, 3, 5]\n",
    "# Maximum total of tasks for any team\n",
    "team_max = 2\n",
    "\n",
    "# Create model\n",
    "model = cp_model.CpModel()\n",
    "\n",
    "# Create variables\n",
    "x = {}\n",
    "for worker in range(num_workers):\n",
    "    for task in range(num_tasks):\n",
    "        x[worker, task] = model.NewBoolVar(f'x[{worker}, {task}]')\n",
    "\n",
    "# Add constraints\n",
    "# Each worker is assigned to at most one task\n",
    "for worker in range(num_workers):\n",
    "    model.AddAtMostOne(x[worker, task] for task in range(num_tasks))\n",
    "\n",
    "# Each task is assigned to exactly one worker\n",
    "for task in range(num_tasks):\n",
    "    model.AddExactlyOne(x[worker, task] for worker in range(num_workers))\n",
    "\n",
    "# Each team takes at most two tasks\n",
    "team1_tasks = []\n",
    "for worker in team1:\n",
    "    for task in range(num_tasks):\n",
    "        team1_tasks.append(x[worker, task])\n",
    "model.Add(sum(team1_tasks) <= team_max)\n",
    "\n",
    "team2_tasks = []\n",
    "for worker in team2:\n",
    "    for task in range(num_tasks):\n",
    "        team2_tasks.append(x[worker, task])\n",
    "model.Add(sum(team2_tasks) <= team_max)\n",
    "\n",
    "# Create the objective\n",
    "objective_terms = []\n",
    "for worker in range(num_workers):\n",
    "    for task in range(num_tasks):\n",
    "        objective_terms.append(costs[worker][task] * x[worker, task])\n",
    "model.Minimize(sum(objective_terms))\n",
    "\n",
    "# Invoke the solver\n",
    "solver = cp_model.CpSolver()\n",
    "status = solver.Solve(model)\n",
    "\n",
    "# Display results\n",
    "if status == cp_model.OPTIMAL or status == cp_model.FEASIBLE:\n",
    "    print(f'Total cost = {solver.ObjectiveValue()}\\n')\n",
    "    for worker in range(num_workers):\n",
    "        for task in range(num_tasks):\n",
    "            if solver.BooleanValue(x[worker, task]):\n",
    "                print(f'Worker {worker} assigned to task {task}. Cost = {costs[worker][task]}')\n",
    "else:\n",
    "    print('No solution found.')"
   ]
  },
  {
   "attachments": {},
   "cell_type": "markdown",
   "metadata": {},
   "source": [
    "## MIP Solution"
   ]
  },
  {
   "cell_type": "code",
   "execution_count": 7,
   "metadata": {},
   "outputs": [
    {
     "name": "stdout",
     "output_type": "stream",
     "text": [
      "Total cost = 249.99999999999997\n",
      "\n",
      "Worker 0 assigned to task 2. Cost = 75\n",
      "Worker 1 assigned to task 0. Cost = 35\n",
      "Worker 4 assigned to task 3. Cost = 75\n",
      "Worker 5 assigned to task 1. Cost = 65\n"
     ]
    }
   ],
   "source": [
    "# Declare solver\n",
    "solver = pywraplp.Solver.CreateSolver('SCIP')\n",
    "\n",
    "# Create variables\n",
    "# x[i, j] is an array of 0-1 variables, which will be 1 if worker i is assigned to task j\n",
    "x = {}\n",
    "for worker in range(num_workers):\n",
    "    for task in range(num_tasks):\n",
    "        x[worker, task] = solver.BoolVar(f'x[{worker}, {task}]')\n",
    "\n",
    "# Add constraints\n",
    "# Each worker is assigned at most 1 task\n",
    "for worker in range(num_workers):\n",
    "    solver.Add(solver.Sum([x[worker, task] for task in range(num_tasks)]) <= 1)\n",
    "\n",
    "# Each task is assigned to exactly one worker\n",
    "for task in range(num_tasks):\n",
    "    solver.Add(solver.Sum([x[worker, task] for worker in range(num_workers)]) == 1)\n",
    "\n",
    "# Each team takes at most two tasks\n",
    "team1_tasks = []\n",
    "for worker in team1:\n",
    "    for task in range(num_tasks):\n",
    "        team1_tasks.append(x[worker, task])\n",
    "solver.Add(solver.Sum(team1_tasks) <= team_max)\n",
    "\n",
    "team2_tasks = []\n",
    "for worker in team2:\n",
    "    for task in range(num_tasks):\n",
    "        team2_tasks.append(x[worker, task])\n",
    "solver.Add(solver.Sum(team2_tasks) <= team_max)\n",
    "\n",
    "# Create the objective\n",
    "objective_terms = []\n",
    "for worker in range(num_workers):\n",
    "    for task in range(num_tasks):\n",
    "        objective_terms.append(costs[worker][task] * x[worker, task])\n",
    "solver.Minimize(solver.Sum(objective_terms))\n",
    "\n",
    "# Invoke solver\n",
    "status = solver.Solve()\n",
    "\n",
    "# Display solutions\n",
    "if status == pywraplp.Solver.OPTIMAL or status == pywraplp.Solver.FEASIBLE:\n",
    "    print(f'Total cost = {solver.Objective().Value()}\\n')\n",
    "    for worker in range(num_workers):\n",
    "        for task in range(num_tasks):\n",
    "            if x[worker, task].solution_value() > 0.5:\n",
    "                print(f'Worker {worker} assigned to task {task}. Cost = {costs[worker][task]}')\n",
    "else:\n",
    "    print('No solution found.')"
   ]
  },
  {
   "attachments": {},
   "cell_type": "markdown",
   "metadata": {},
   "source": [
    "# Assignment with Task Sizes"
   ]
  },
  {
   "attachments": {},
   "cell_type": "markdown",
   "metadata": {},
   "source": [
    "This section describes an assignment problem in which each task has a **size**, which represents how much time or effort the task requires. The total size of the tasks performed by each worker has a fixed bound."
   ]
  },
  {
   "cell_type": "code",
   "execution_count": 8,
   "metadata": {},
   "outputs": [],
   "source": [
    "# Define the data\n",
    "costs = [\n",
    "    [90, 76, 75, 70, 50, 74, 12, 68],\n",
    "    [35, 85, 55, 65, 48, 101, 70, 83],\n",
    "    [125, 95, 90, 105, 59, 120, 36, 73],\n",
    "    [45, 110, 95, 115, 104, 83, 37, 71],\n",
    "    [60, 105, 80, 75, 59, 62, 93, 88],\n",
    "    [45, 65, 110, 95, 47, 31, 81, 34],\n",
    "    [38, 51, 107, 41, 69, 99, 115, 48],\n",
    "    [47, 85, 57, 71, 92, 77, 109, 36],\n",
    "    [39, 63, 97, 49, 118, 56, 92, 61],\n",
    "    [47, 101, 71, 60, 88, 109, 52, 90],\n",
    "]\n",
    "num_workers = len(costs)\n",
    "num_tasks = len(costs[0])\n",
    "\n",
    "task_sizes = [10, 7, 3, 12, 15, 4, 11, 5]\n",
    "# Maximum total of task sizes for any worker\n",
    "total_size_max = 15"
   ]
  },
  {
   "attachments": {},
   "cell_type": "markdown",
   "metadata": {},
   "source": [
    "## CP-SAT solution"
   ]
  },
  {
   "cell_type": "code",
   "execution_count": 10,
   "metadata": {},
   "outputs": [
    {
     "name": "stdout",
     "output_type": "stream",
     "text": [
      "Total costs = 326.0\n",
      "\n",
      "Worker 0 assigned to task 6. Cost = 12\n",
      "Worker 1 assigned to task 0. Cost = 35\n",
      "Worker 1 assigned to task 2. Cost = 55\n",
      "Worker 4 assigned to task 4. Cost = 59\n",
      "Worker 5 assigned to task 5. Cost = 31\n",
      "Worker 5 assigned to task 7. Cost = 34\n",
      "Worker 6 assigned to task 1. Cost = 51\n",
      "Worker 8 assigned to task 3. Cost = 49\n"
     ]
    }
   ],
   "source": [
    "# Create the model\n",
    "model = cp_model.CpModel()\n",
    "\n",
    "# Create variables\n",
    "x = {}\n",
    "for worker in range(num_workers):\n",
    "    for task in range(num_tasks):\n",
    "        x[worker, task] = model.NewBoolVar(f'x[{worker}, {task}]')\n",
    "\n",
    "# Create constraints\n",
    "# Each worker is assigned to at most one task\n",
    "for worker in range(num_workers):\n",
    "    model.Add(sum(task_sizes[task] * x[worker, task] for task in range(num_tasks)) <= total_size_max)\n",
    "\n",
    "# Each task is assigned to exactly one worker\n",
    "for task in range(num_tasks):\n",
    "    model.AddExactlyOne(x[worker, task] for worker in range(num_workers))\n",
    "\n",
    "# Create objective\n",
    "objective_terms = []\n",
    "for worker in range(num_workers):\n",
    "    for task in range(num_tasks):\n",
    "        objective_terms.append(costs[worker][task] * x[worker, task])\n",
    "model.Minimize(sum(objective_terms))\n",
    "\n",
    "# Invoke solver\n",
    "solver = cp_model.CpSolver()\n",
    "status = solver.Solve(model)\n",
    "\n",
    "# Display solutions\n",
    "if status == cp_model.OPTIMAL or status == cp_model.FEASIBLE:\n",
    "    print(f'Total costs = {solver.ObjectiveValue()}\\n')\n",
    "    for worker in range(num_workers):\n",
    "        for task in range(num_tasks):\n",
    "            if solver.BooleanValue(x[worker, task]):\n",
    "                print(f'Worker {worker} assigned to task {task}. Cost = {costs[worker][task]}')\n",
    "else:\n",
    "    print('No solution found.')"
   ]
  },
  {
   "attachments": {},
   "cell_type": "markdown",
   "metadata": {},
   "source": [
    "## MIP Solution"
   ]
  },
  {
   "cell_type": "code",
   "execution_count": 11,
   "metadata": {},
   "outputs": [
    {
     "name": "stdout",
     "output_type": "stream",
     "text": [
      "Total cost = 326.0\n",
      "\n",
      "Worker 0 assigned to task 6. Cost: 12\n",
      "Worker 1 assigned to task 0. Cost: 35\n",
      "Worker 1 assigned to task 2. Cost: 55\n",
      "Worker 4 assigned to task 4. Cost: 59\n",
      "Worker 5 assigned to task 5. Cost: 31\n",
      "Worker 5 assigned to task 7. Cost: 34\n",
      "Worker 6 assigned to task 1. Cost: 51\n",
      "Worker 8 assigned to task 3. Cost: 49\n"
     ]
    }
   ],
   "source": [
    "# Declare solver\n",
    "solver = pywraplp.Solver.CreateSolver('SCIP')\n",
    "\n",
    "# Create variables\n",
    "# x[i, j] is an array of 0-1 variables, which will be 1 if worker i is assigned to task j.\n",
    "x = {}\n",
    "for worker in range(num_workers):\n",
    "    for task in range(num_tasks):\n",
    "        x[worker, task] = solver.BoolVar(f'x[{worker},{task}]')\n",
    "\n",
    "# Add constraints\n",
    "# The total size of the tasks each worker takes on is at most total_size_max.\n",
    "for worker in range(num_workers):\n",
    "    solver.Add(\n",
    "        solver.Sum([\n",
    "            task_sizes[task] * x[worker, task] for task in range(num_tasks)\n",
    "        ]) <= total_size_max)\n",
    "\n",
    "# Each task is assigned to exactly one worker.\n",
    "for task in range(num_tasks):\n",
    "    solver.Add(\n",
    "        solver.Sum([x[worker, task] for worker in range(num_workers)]) == 1)\n",
    "\n",
    "# Create objective\n",
    "objective_terms = []\n",
    "for worker in range(num_workers):\n",
    "    for task in range(num_tasks):\n",
    "        objective_terms.append(costs[worker][task] * x[worker, task])\n",
    "solver.Minimize(solver.Sum(objective_terms))\n",
    "\n",
    "# Invoke solver\n",
    "status = solver.Solve()\n",
    "\n",
    "# Display results\n",
    "if status == pywraplp.Solver.OPTIMAL or status == pywraplp.Solver.FEASIBLE:\n",
    "    print(f'Total cost = {solver.Objective().Value()}\\n')\n",
    "    for worker in range(num_workers):\n",
    "        for task in range(num_tasks):\n",
    "            if x[worker, task].solution_value() > 0.5:\n",
    "                print(f'Worker {worker} assigned to task {task}.' +\n",
    "                      f' Cost: {costs[worker][task]}')\n",
    "else:\n",
    "    print('No solution found.')"
   ]
  },
  {
   "attachments": {},
   "cell_type": "markdown",
   "metadata": {},
   "source": [
    "# Assignment with Allowed Groups"
   ]
  },
  {
   "attachments": {},
   "cell_type": "markdown",
   "metadata": {},
   "source": [
    "This section describes an assignment problem in which only certain allowed groups of workers can be assigned to the tasks. In the example there are twelve workers, numbered 0 - 11. The allowed groups are combinations of the following pairs of workers."
   ]
  },
  {
   "cell_type": "code",
   "execution_count": 12,
   "metadata": {},
   "outputs": [],
   "source": [
    "group1 =  [[2, 3],       # Subgroups of workers 0 - 3\n",
    "             [1, 3],\n",
    "             [1, 2],\n",
    "             [0, 1],\n",
    "             [0, 2]]\n",
    "\n",
    "group2 =  [[6, 7],       # Subgroups of workers 4 - 7\n",
    "             [5, 7],\n",
    "             [5, 6],\n",
    "             [4, 5],\n",
    "             [4, 7]]\n",
    "\n",
    "group3 =  [[10, 11],     # Subgroups of workers 8 - 11\n",
    "             [9, 11],\n",
    "             [9, 10],\n",
    "             [8, 10],\n",
    "             [8, 11]]"
   ]
  },
  {
   "attachments": {},
   "cell_type": "markdown",
   "metadata": {},
   "source": [
    "An allowed group can be any combination of three pairs of workers, one pair from each of group1, group2, and group3. For example, combining `[2, 3]`, `[6, 7]`, and `[10, 11]` results in the allowed group `[2, 3, 6, 7, 10, 11]`. Since each of the three sets contains five elements, the total number of allowed groups is `5 * 5 * 5 = 125`.\n",
    "\n",
    "Note that a group of workers can be a solution to the problem if it belongs to any one of the allowed groups. In other words, the feasible set consists of points for which **any one of the constraints is satisfied**. This is an example of a **non-convex** problem. By contrast, the MIP Example, is a **convex problem**: for a point to be feasible, all constraints must be satisfied.\n",
    "\n",
    "For non-convex problems like this one, the CP-SAT solver is usually faster than a MIP solver. The following sections present solutions to the problem using the CP-SAT solver and the MIP solver, and compare the solution times for the two solvers."
   ]
  },
  {
   "cell_type": "code",
   "execution_count": 13,
   "metadata": {},
   "outputs": [],
   "source": [
    "costs = [\n",
    "    [90, 76, 75, 70, 50, 74],\n",
    "    [35, 85, 55, 65, 48, 101],\n",
    "    [125, 95, 90, 105, 59, 120],\n",
    "    [45, 110, 95, 115, 104, 83],\n",
    "    [60, 105, 80, 75, 59, 62],\n",
    "    [45, 65, 110, 95, 47, 31],\n",
    "    [38, 51, 107, 41, 69, 99],\n",
    "    [47, 85, 57, 71, 92, 77],\n",
    "    [39, 63, 97, 49, 118, 56],\n",
    "    [47, 101, 71, 60, 88, 109],\n",
    "    [17, 39, 103, 64, 61, 92],\n",
    "    [101, 45, 83, 59, 92, 27],\n",
    "]\n",
    "num_workers = len(costs)\n",
    "num_tasks = len(costs[0])"
   ]
  },
  {
   "attachments": {},
   "cell_type": "markdown",
   "metadata": {},
   "source": [
    "## CP-SAT solution"
   ]
  },
  {
   "attachments": {},
   "cell_type": "markdown",
   "metadata": {},
   "source": [
    "To define the allowed groups of workers for the CP-SAT solver, you create binary arrays that indicate which workers belong to a group. For example, for `group1` (workers 0 - 3), the binary vector `[0, 0, 1, 1]` specifies the group containing workers 2 and 3."
   ]
  },
  {
   "cell_type": "code",
   "execution_count": 14,
   "metadata": {},
   "outputs": [],
   "source": [
    "group1 = [\n",
    "    [0, 0, 1, 1],  # Workers 2, 3\n",
    "    [0, 1, 0, 1],  # Workers 1, 3\n",
    "    [0, 1, 1, 0],  # Workers 1, 2\n",
    "    [1, 1, 0, 0],  # Workers 0, 1\n",
    "    [1, 0, 1, 0],  # Workers 0, 2\n",
    "]\n",
    "\n",
    "group2 = [\n",
    "    [0, 0, 1, 1],  # Workers 6, 7\n",
    "    [0, 1, 0, 1],  # Workers 5, 7\n",
    "    [0, 1, 1, 0],  # Workers 5, 6\n",
    "    [1, 1, 0, 0],  # Workers 4, 5\n",
    "    [1, 0, 0, 1],  # Workers 4, 7\n",
    "]\n",
    "\n",
    "group3 = [\n",
    "    [0, 0, 1, 1],  # Workers 10, 11\n",
    "    [0, 1, 0, 1],  # Workers 9, 11\n",
    "    [0, 1, 1, 0],  # Workers 9, 10\n",
    "    [1, 0, 1, 0],  # Workers 8, 10\n",
    "    [1, 0, 0, 1],  # Workers 8, 11\n",
    "]"
   ]
  },
  {
   "cell_type": "code",
   "execution_count": 21,
   "metadata": {},
   "outputs": [],
   "source": [
    "# Model\n",
    "model = cp_model.CpModel()\n",
    "\n",
    "# Variables\n",
    "x = {}\n",
    "for worker in range(num_workers):\n",
    "    for task in range(num_tasks):\n",
    "        x[worker, task] = model.NewBoolVar(f'x[{worker}, {task}]')\n",
    "\n",
    "# Add constraints\n",
    "# Each worker is assigned to at most one task\n",
    "for worker in range(num_workers):\n",
    "    model.AddAtMostOne(x[worker, task] for task in range(num_tasks))\n",
    "\n",
    "# Each task is assigned to exactly one worker\n",
    "for task in range(num_tasks):\n",
    "    model.AddExactlyOne(x[worker, task] for worker in range(num_workers))"
   ]
  },
  {
   "attachments": {},
   "cell_type": "markdown",
   "metadata": {},
   "source": [
    "For CP-SAT it is not necessary to create all 125 combinations of these vectors in a loop. The CP-SAT solver provides a method, `AllowedAssignments`, which enables you to specify the constraints for the allowed groups separately for each of the three sets of workers (0 - 3, 4 - 7, and 8 - 11). Here's how it works:"
   ]
  },
  {
   "cell_type": "code",
   "execution_count": 19,
   "metadata": {},
   "outputs": [
    {
     "data": {
      "text/plain": [
       "<ortools.sat.python.cp_model.Constraint at 0x24c3772f9d0>"
      ]
     },
     "execution_count": 19,
     "metadata": {},
     "output_type": "execute_result"
    }
   ],
   "source": [
    "# Create variables for each worker, indicating whether they work on some task.\n",
    "work = {}\n",
    "for worker in range(num_workers):\n",
    "    work[worker] = model.NewBoolVar(f'work[{worker}]')\n",
    "\n",
    "for worker in range(num_workers):\n",
    "    for task in range(num_tasks):\n",
    "        model.Add(work[worker] == sum(\n",
    "            x[worker, task] for task in range(num_tasks)))\n",
    "\n",
    "# Define the allowed groups of worders\n",
    "model.AddAllowedAssignments([work[0], work[1], work[2], work[3]], group1)\n",
    "model.AddAllowedAssignments([work[4], work[5], work[6], work[7]], group2)\n",
    "model.AddAllowedAssignments([work[8], work[9], work[10], work[11]], group3)"
   ]
  },
  {
   "attachments": {},
   "cell_type": "markdown",
   "metadata": {},
   "source": [
    "The variables `work[i]` are 0-1 variables that indicate the work status or each worker. That is, `work[i]` equals 1 if worker i is assigned to a task, and 0 otherwise. The line `solver.Add(solver.AllowedAssignments([work[0], work[1], work[2], work[3]], group1))` defines the constraint that the work status of workers 0 - 3 must match one of the patterns in `group1`. You can see the full details of the code in the next section."
   ]
  },
  {
   "cell_type": "code",
   "execution_count": 22,
   "metadata": {},
   "outputs": [
    {
     "name": "stdout",
     "output_type": "stream",
     "text": [
      "Total cost = 239.0\n",
      "\n",
      "Worker 0 assigned to task 4. Cost = 50\n",
      "Worker 1 assigned to task 2. Cost = 55\n",
      "Worker 5 assigned to task 5. Cost = 31\n",
      "Worker 6 assigned to task 3. Cost = 41\n",
      "Worker 10 assigned to task 0. Cost = 17\n",
      "Worker 11 assigned to task 1. Cost = 45\n"
     ]
    }
   ],
   "source": [
    "# Create objective\n",
    "objective_terms = []\n",
    "for worker in range(num_workers):\n",
    "    for task in range(num_tasks):\n",
    "        objective_terms.append(costs[worker][task] * x[worker, task])\n",
    "model.Minimize(sum(objective_terms))\n",
    "\n",
    "# Invoke solver\n",
    "solver = cp_model.CpSolver()\n",
    "status = solver.Solve(model)\n",
    "\n",
    "# Display results\n",
    "if status == cp_model.OPTIMAL or status == cp_model.FEASIBLE:\n",
    "    print(f'Total cost = {solver.ObjectiveValue()}\\n')\n",
    "    for worker in range(num_workers):\n",
    "        for task in range(num_tasks):\n",
    "            if solver.BooleanValue(x[worker, task]):\n",
    "                print(f'Worker {worker} assigned to task {task}.' +\n",
    "                      f' Cost = {costs[worker][task]}')\n",
    "else:\n",
    "    print('No solution found.')"
   ]
  },
  {
   "attachments": {},
   "cell_type": "markdown",
   "metadata": {},
   "source": [
    "## MIP solution"
   ]
  },
  {
   "cell_type": "code",
   "execution_count": 27,
   "metadata": {},
   "outputs": [
    {
     "name": "stdout",
     "output_type": "stream",
     "text": [
      "Total cost = 239.00000000000003\n",
      "\n",
      "Worker 0 assigned to task 4. Cost: 50\n",
      "Worker 1 assigned to task 2. Cost: 55\n",
      "Worker 5 assigned to task 5. Cost: 31\n",
      "Worker 6 assigned to task 3. Cost: 41\n",
      "Worker 10 assigned to task 0. Cost: 17\n",
      "Worker 11 assigned to task 1. Cost: 45\n"
     ]
    }
   ],
   "source": [
    "\"\"\"Solve assignment problem for given group of workers.\"\"\"\n",
    "from ortools.linear_solver import pywraplp\n",
    "\n",
    "\n",
    "def main():\n",
    "    # Data\n",
    "    costs = [\n",
    "        [90, 76, 75, 70, 50, 74],\n",
    "        [35, 85, 55, 65, 48, 101],\n",
    "        [125, 95, 90, 105, 59, 120],\n",
    "        [45, 110, 95, 115, 104, 83],\n",
    "        [60, 105, 80, 75, 59, 62],\n",
    "        [45, 65, 110, 95, 47, 31],\n",
    "        [38, 51, 107, 41, 69, 99],\n",
    "        [47, 85, 57, 71, 92, 77],\n",
    "        [39, 63, 97, 49, 118, 56],\n",
    "        [47, 101, 71, 60, 88, 109],\n",
    "        [17, 39, 103, 64, 61, 92],\n",
    "        [101, 45, 83, 59, 92, 27],\n",
    "    ]\n",
    "    num_workers = len(costs)\n",
    "    num_tasks = len(costs[0])\n",
    "\n",
    "    # Allowed groups of workers:\n",
    "    group1 = [  # Subgroups of workers 0 - 3\n",
    "        [2, 3],\n",
    "        [1, 3],\n",
    "        [1, 2],\n",
    "        [0, 1],\n",
    "        [0, 2],\n",
    "    ]\n",
    "\n",
    "    group2 = [  # Subgroups of workers 4 - 7\n",
    "        [6, 7],\n",
    "        [5, 7],\n",
    "        [5, 6],\n",
    "        [4, 5],\n",
    "        [4, 7],\n",
    "    ]\n",
    "\n",
    "    group3 = [  # Subgroups of workers 8 - 11\n",
    "        [10, 11],\n",
    "        [9, 11],\n",
    "        [9, 10],\n",
    "        [8, 10],\n",
    "        [8, 11],\n",
    "    ]\n",
    "\n",
    "    # Solver.\n",
    "    # Create the mip solver with the SCIP backend.\n",
    "    solver = pywraplp.Solver.CreateSolver('SCIP')\n",
    "    if not solver:\n",
    "        return\n",
    "\n",
    "    # Variables\n",
    "    # x[worker, task] is an array of 0-1 variables, which will be 1\n",
    "    # if the worker is assigned to the task.\n",
    "    x = {}\n",
    "    for worker in range(num_workers):\n",
    "        for task in range(num_tasks):\n",
    "            x[worker, task] = solver.BoolVar(f'x[{worker},{task}]')\n",
    "\n",
    "    # Constraints\n",
    "    # The total size of the tasks each worker takes on is at most total_size_max.\n",
    "    for worker in range(num_workers):\n",
    "        solver.Add(\n",
    "            solver.Sum([x[worker, task] for task in range(num_tasks)]) <= 1)\n",
    "\n",
    "    # Each task is assigned to exactly one worker.\n",
    "    for task in range(num_tasks):\n",
    "        solver.Add(\n",
    "            solver.Sum([x[worker, task] for worker in range(num_workers)]) == 1)\n",
    "\n",
    "    # Create variables for each worker, indicating whether they work on some task.\n",
    "    work = {}\n",
    "    for worker in range(num_workers):\n",
    "        work[worker] = solver.BoolVar(f'work[{worker}]')\n",
    "\n",
    "    for worker in range(num_workers):\n",
    "        solver.Add(work[worker] == solver.Sum(\n",
    "            [x[worker, task] for task in range(num_tasks)]))\n",
    "\n",
    "    # Group1\n",
    "    constraint_g1 = solver.Constraint(1, 1)\n",
    "    for i in range(len(group1)):\n",
    "        # a*b can be transformed into 0 <= a + b - 2*p <= 1 with p in [0,1]\n",
    "        # p is True if a AND b, False otherwise\n",
    "        constraint = solver.Constraint(0, 1)\n",
    "        constraint.SetCoefficient(work[group1[i][0]], 1)\n",
    "        constraint.SetCoefficient(work[group1[i][1]], 1)\n",
    "        p = solver.BoolVar(f'g1_p{i}')\n",
    "        constraint.SetCoefficient(p, -2)\n",
    "\n",
    "        constraint_g1.SetCoefficient(p, 1)\n",
    "\n",
    "    # Group2\n",
    "    constraint_g2 = solver.Constraint(1, 1)\n",
    "    for i in range(len(group2)):\n",
    "        # a*b can be transformed into 0 <= a + b - 2*p <= 1 with p in [0,1]\n",
    "        # p is True if a AND b, False otherwise\n",
    "        constraint = solver.Constraint(0, 1)\n",
    "        constraint.SetCoefficient(work[group2[i][0]], 1)\n",
    "        constraint.SetCoefficient(work[group2[i][1]], 1)\n",
    "        p = solver.BoolVar(f'g2_p{i}')\n",
    "        constraint.SetCoefficient(p, -2)\n",
    "\n",
    "        constraint_g2.SetCoefficient(p, 1)\n",
    "\n",
    "    # Group3\n",
    "    constraint_g3 = solver.Constraint(1, 1)\n",
    "    for i in range(len(group3)):\n",
    "        # a*b can be transformed into 0 <= a + b - 2*p <= 1 with p in [0,1]\n",
    "        # p is True if a AND b, False otherwise\n",
    "        constraint = solver.Constraint(0, 1)\n",
    "        constraint.SetCoefficient(work[group3[i][0]], 1)\n",
    "        constraint.SetCoefficient(work[group3[i][1]], 1)\n",
    "        p = solver.BoolVar(f'g3_p{i}')\n",
    "        constraint.SetCoefficient(p, -2)\n",
    "\n",
    "        constraint_g3.SetCoefficient(p, 1)\n",
    "\n",
    "    # Objective\n",
    "    objective_terms = []\n",
    "    for worker in range(num_workers):\n",
    "        for task in range(num_tasks):\n",
    "            objective_terms.append(costs[worker][task] * x[worker, task])\n",
    "    solver.Minimize(solver.Sum(objective_terms))\n",
    "\n",
    "    # Solve\n",
    "    status = solver.Solve()\n",
    "\n",
    "    # Print solution.\n",
    "    if status == pywraplp.Solver.OPTIMAL or status == pywraplp.Solver.FEASIBLE:\n",
    "        print(f'Total cost = {solver.Objective().Value()}\\n')\n",
    "        for worker in range(num_workers):\n",
    "            for task in range(num_tasks):\n",
    "                if x[worker, task].solution_value() > 0.5:\n",
    "                    print(f'Worker {worker} assigned to task {task}.' +\n",
    "                          f' Cost: {costs[worker][task]}')\n",
    "    else:\n",
    "        print('No solution found.')\n",
    "\n",
    "\n",
    "if __name__ == '__main__':\n",
    "    main()"
   ]
  },
  {
   "attachments": {},
   "cell_type": "markdown",
   "metadata": {},
   "source": [
    "# Linear Sum Assignment Solver"
   ]
  },
  {
   "attachments": {},
   "cell_type": "markdown",
   "metadata": {},
   "source": [
    "This section describes the linear sum assignment solver, a specialized solver for the simple assignment problem, which can be faster than either the MIP or CP-SAT solver. However, the MIP and CP-SAT solvers can handle a much wider array of problems, so in most cases they are the best option."
   ]
  },
  {
   "attachments": {},
   "cell_type": "markdown",
   "metadata": {},
   "source": [
    "## Solving the problem"
   ]
  },
  {
   "cell_type": "code",
   "execution_count": 31,
   "metadata": {},
   "outputs": [
    {
     "data": {
      "text/plain": [
       "(array([0, 0, 0, 0, 1, 1, 1, 1, 2, 2, 2, 2, 3, 3, 3, 3]),\n",
       " array([0, 1, 2, 3, 0, 1, 2, 3, 0, 1, 2, 3, 0, 1, 2, 3]),\n",
       " array([ 90,  76,  75,  70,  35,  85,  55,  65, 125,  95,  90, 105,  45,\n",
       "        110,  95, 115]))"
      ]
     },
     "execution_count": 31,
     "metadata": {},
     "output_type": "execute_result"
    }
   ],
   "source": [
    "costs = np.array([\n",
    "    [90, 76, 75, 70],\n",
    "    [35, 85, 55, 65],\n",
    "    [125, 95, 90, 105],\n",
    "    [45, 110, 95, 115]\n",
    "])\n",
    "\n",
    "# Let's transform this into 3 parallel vectors (start_nodes, end_nodes, arc_costs)\n",
    "end_nodes_unraveled, start_nodes_unraveled = np.meshgrid(\n",
    "    np.arange(costs.shape[1]), np.arange(costs.shape[0])\n",
    ")\n",
    "start_nodes = start_nodes_unraveled.ravel()\n",
    "end_nodes = end_nodes_unraveled.ravel()\n",
    "arc_costs = costs.ravel()\n",
    "\n",
    "start_nodes, end_nodes, arc_costs"
   ]
  },
  {
   "attachments": {},
   "cell_type": "markdown",
   "metadata": {},
   "source": [
    "The array is the cost matrix, whose i, j entry is the cost for worker i to perform task j. There are four workers, corresponding to the rows of the matrix, and four tasks, corresponding to the columns."
   ]
  },
  {
   "cell_type": "code",
   "execution_count": 32,
   "metadata": {},
   "outputs": [
    {
     "name": "stdout",
     "output_type": "stream",
     "text": [
      "Total costs = 265\n",
      "\n",
      "Worker 0 assined to task 3. Cost = 70\n",
      "Worker 1 assined to task 2. Cost = 55\n",
      "Worker 2 assined to task 1. Cost = 95\n",
      "Worker 3 assined to task 0. Cost = 45\n"
     ]
    }
   ],
   "source": [
    "# Create solver\n",
    "assignment = linear_sum_assignment.SimpleLinearSumAssignment()\n",
    "\n",
    "# Add constraints\n",
    "assignment.add_arcs_with_cost(start_nodes, end_nodes, arc_costs)\n",
    "\n",
    "# Invole solver\n",
    "status = assignment.solve()\n",
    "\n",
    "# Display results\n",
    "if status == assignment.OPTIMAL:\n",
    "    print(f'Total costs = {assignment.optimal_cost()}\\n')\n",
    "    for i in range(0, assignment.num_nodes()):\n",
    "        print(f'Worker {i} assined to task {assignment.right_mate(i)}. Cost = {assignment.assignment_cost(i)}')\n",
    "elif status == assignment.INFEASIBLE:\n",
    "    print('No assignment is possible.')\n",
    "elif status == assignment.POSSIBLE_OVERFLOW:\n",
    "    print('Some input costs are too large and may cause an integer overflow.')"
   ]
  },
  {
   "attachments": {},
   "cell_type": "markdown",
   "metadata": {},
   "source": [
    "The following graph shows the solution as the dashed edges in the graph. The numbers next to the dashed edges are their costs. The total wait time of this assignment is the sum of the costs for the dashed edges, which is 265.\n",
    "\n",
    "<p align = 'center'>\n",
    "    <img src = 'https://developers.google.com/static/optimization/images/assignment/linear_assignment.svg'>\n",
    "</p>\n",
    "\n",
    "In graph theory, a set of edges in a bipartite graph that matches every node on the left with exactly one node on the right is called a *perfect matching*."
   ]
  },
  {
   "attachments": {},
   "cell_type": "markdown",
   "metadata": {},
   "source": [
    "## Solution when workers can't perform all tasks"
   ]
  },
  {
   "attachments": {},
   "cell_type": "markdown",
   "metadata": {},
   "source": [
    "In the previous example, we assumed that all workers can perform all tasks. But this not always the case - a worker might be unable to perform one or more tasks for various reasons. However, it is easy to modify the program above to handle this.\n",
    "\n",
    "As an example, suppose that worker 0 is unable to perform task 3. To modify the program to take this into account, make the following changes:\n",
    "1. Change the 0, 3 entry of the cost matrix to the string `NA`. (Any string will work.)\n",
    "\n",
    " ```python   \n",
    "    cost = [\n",
    "        [90, 76, 75, 'NA'],\n",
    "        [35, 85, 55, 65],\n",
    "        [125, 95, 90, 105],\n",
    "        [45, 110, 95, 115]\n",
    "    ]\n",
    "```\n",
    "\n",
    "2. In the section of the code that assigns costs to the solver, add the line `if cost[worker][task] != 'NA':`, as shown below. The added line prevents any edge whose entry in the cost matrix is 'NA' from being added to the solver:\n",
    "\n",
    "```python\n",
    "    for worker in range(0, rows):\n",
    "        for task in range(0, cols):\n",
    "            if cost[worker][task] != 'NA':\n",
    "                assignment.AddArcWithCost(worker, task, cost[worker][task])\n",
    "```\n",
    "After making these changes, you can see the following output:\n",
    "\n",
    "```text\n",
    "    Total cost = 276\n",
    "    Worker 0 assigned to task 1.  Cost = 76\n",
    "    Worker 1 assigned to task 3.  Cost = 65\n",
    "    Worker 2 assigned to task 2.  Cost = 90\n",
    "    Worker 3 assigned to task 0.  Cost = 45\n",
    "```\n",
    "\n",
    "Notice that the total cost is higher now than it was for the original problem. This is not surprising, since in the original problem the optimal solution assigned worker 0 to task 3, while in the modified problem that assignment is not allowed.\n",
    "\n",
    "To see what happens if more workers are unable to perform tasks, you can replace more entries of the cost matrix with `'NA'`, to denote additional workers who can't perform certain tasks:\n",
    "\n",
    " ```python   \n",
    "    cost = [\n",
    "        [90, 76, 'NA', 'NA'],\n",
    "        [35, 85, 'NA', 'NA'],\n",
    "        [125, 95, 'NA', 'NA'],\n",
    "        [45, 110, 95, 115]\n",
    "    ]\n",
    "```\n",
    "\n",
    "When you run the program this time, you get a negative result:\n",
    "\n",
    "```text\n",
    "    No assignment is possible.\n",
    "```\n",
    "\n",
    "This means there is no way to assign workers to tasks so that each worker performs a different task. You can see why this is so by looking at the graph for the problem (in which there are no edges corresponding to values of `'NA'` in the cost matrix).\n",
    "\n",
    "<p align = 'center'>\n",
    "    <img src = 'https://developers.google.com/static/optimization/images/assignment/linear_assignment_solution.svg'>\n",
    "</p>\n",
    "\n",
    "Since the nodes for the three workers 0, 1, and 2 are only connected to the two nodes for tasks 0 and 1, it not possible to assign distinct tasks to these workers."
   ]
  },
  {
   "attachments": {},
   "cell_type": "markdown",
   "metadata": {},
   "source": [
    "## The Marriage Theorem"
   ]
  },
  {
   "attachments": {},
   "cell_type": "markdown",
   "metadata": {},
   "source": [
    "There is a well-known result in graph theory, called [The Marriage Theorem](https://en.wikipedia.org/wiki/Hall%27s_marriage_theorem), which tells us **exactly when you can assign each node on the left to a distinct node on the right, in a bipartite graph** like the one above. Such an assignment is called a *perfect matching*. In a nutshell, the theorem says this is possible if there is **no subset of nodes on the left (like the one in the previous example) whose edges lead to a smaller set of nodes on the right**.\n",
    "\n",
    "More precisely, the theorem says that a bipartite graph has a perfect matching if and only if for any subset $S$ of the nodes on the left side of the graph, the set of nodes on the right side of the graph that are connected by an edge to a node in $S$ is at least as large as $S$."
   ]
  },
  {
   "cell_type": "markdown",
   "metadata": {},
   "source": []
  }
 ],
 "metadata": {
  "kernelspec": {
   "display_name": "Python 3",
   "language": "python",
   "name": "python3"
  },
  "language_info": {
   "codemirror_mode": {
    "name": "ipython",
    "version": 3
   },
   "file_extension": ".py",
   "mimetype": "text/x-python",
   "name": "python",
   "nbconvert_exporter": "python",
   "pygments_lexer": "ipython3",
   "version": "3.10.0 (tags/v3.10.0:b494f59, Oct  4 2021, 19:00:18) [MSC v.1929 64 bit (AMD64)]"
  },
  "orig_nbformat": 4,
  "vscode": {
   "interpreter": {
    "hash": "89fcffa4e5c0b8de1000b7bd1cb06ecfe8e894727bdfc6006168278143d46145"
   }
  }
 },
 "nbformat": 4,
 "nbformat_minor": 2
}
