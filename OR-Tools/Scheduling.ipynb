{
 "cells": [
  {
   "attachments": {},
   "cell_type": "markdown",
   "metadata": {},
   "source": [
    "# Packages"
   ]
  },
  {
   "cell_type": "code",
   "execution_count": 38,
   "metadata": {},
   "outputs": [
    {
     "data": {
      "text/plain": [
       "'c:\\\\Users\\\\gilramolete\\\\OneDrive - UNIONBANK of the Philippines\\\\Documents 1\\\\Route Optimization\\\\OR-Tools'"
      ]
     },
     "execution_count": 38,
     "metadata": {},
     "output_type": "execute_result"
    }
   ],
   "source": [
    "import collections\n",
    "\n",
    "from ortools.sat.python import cp_model\n",
    "\n",
    "import os\n",
    "os.getcwd()"
   ]
  },
  {
   "attachments": {},
   "cell_type": "markdown",
   "metadata": {},
   "source": [
    "# Overview"
   ]
  },
  {
   "attachments": {},
   "cell_type": "markdown",
   "metadata": {},
   "source": [
    "Companies that manage extensive operations, which require assigning people and resources to tasks at specific times, need to solve difficult scheduling problems on a regular basis. Here are a couple of examples of such problems:\n",
    "- Schedule employees in **multiple shifts**, subject to a complex set of constraints and staffing requirements.\n",
    "- Schedule a **manufacturing process that involves performing many tasks on a limited set of machines**, each of which can do only one task at a time."
   ]
  },
  {
   "attachments": {},
   "cell_type": "markdown",
   "metadata": {},
   "source": [
    "# Employee Scheduling"
   ]
  },
  {
   "attachments": {},
   "cell_type": "markdown",
   "metadata": {},
   "source": [
    "Organizations whose employees work multiple shifts need to schedule sufficient workers for each daily shift. Typically, the schedules will have constraints, such as \"no employee should work two shifts in a row\". Finding a schedule that satisfies all constraints can be computationally difficult.\n",
    "\n",
    "The following sections present two examples of employee scheduling problems, and show how to solve them using the CP-SAT solver."
   ]
  },
  {
   "attachments": {},
   "cell_type": "markdown",
   "metadata": {},
   "source": [
    "## A nurse scheduling problem"
   ]
  },
  {
   "attachments": {},
   "cell_type": "markdown",
   "metadata": {},
   "source": [
    "In the next example, a hospital supervisor needs to create a schedule for **four nurses over a three-day period**, subject to the following conditions:\n",
    "- Each day is divided into **three 8-hour shifts**.\n",
    "- Every day, each shift is assigned to a **single nurse**, and **no nurse works more than one shift**.\n",
    "- Each nurse is assigned to **at least two shifts during the three-day period**.\n",
    "\n",
    "The following sections present a solution to the nurse scheduling problem."
   ]
  },
  {
   "cell_type": "code",
   "execution_count": 39,
   "metadata": {},
   "outputs": [],
   "source": [
    "# Data\n",
    "num_nurses = 4\n",
    "num_shifts = 3\n",
    "num_days = 3\n",
    "\n",
    "all_nurses = range(num_nurses)\n",
    "all_shifts = range(num_shifts)\n",
    "all_days = range(num_days)\n",
    "\n",
    "# Create model\n",
    "model = cp_model.CpModel()\n",
    "\n",
    "# Create variables\n",
    "shifts = {}\n",
    "for n in all_nurses:\n",
    "    for d in all_days:\n",
    "        for s in all_shifts:\n",
    "            shifts[(n, d, s)] = model.NewBoolVar('shift_n%id%is%i' % (n, d, s))"
   ]
  },
  {
   "attachments": {},
   "cell_type": "markdown",
   "metadata": {},
   "source": [
    "`shifts[(n, d, s)]` equals 1 if shift `s` is assigned to nurse `n` on day `d`, and 0 otherwise.\n",
    "\n",
    "Next, we show how to assign nurses to shifts subject to the following constraints:\n",
    "- Each shift is assigned to a single nurse per day.\n",
    "- Each nurse works at most one shift per day.\n",
    "\n",
    "Here's the code that creates the first condition."
   ]
  },
  {
   "cell_type": "code",
   "execution_count": 40,
   "metadata": {},
   "outputs": [],
   "source": [
    "for d in all_days:\n",
    "    for s in all_shifts:\n",
    "        model.AddExactlyOne(shifts[(n, d, s)] for n in all_nurses)"
   ]
  },
  {
   "attachments": {},
   "cell_type": "markdown",
   "metadata": {},
   "source": [
    "The last line says that for each shift, the sum of the nurses assigned to that shift is 1.\n",
    "\n",
    "Next, here's the code that requires that each nurse works at most one shift per day."
   ]
  },
  {
   "cell_type": "code",
   "execution_count": 41,
   "metadata": {},
   "outputs": [],
   "source": [
    "for n in all_nurses:\n",
    "    for d in all_days:\n",
    "        model.AddAtMostOne(shifts[(n, d, s)] for s in all_shifts)"
   ]
  },
  {
   "attachments": {},
   "cell_type": "markdown",
   "metadata": {},
   "source": [
    "For each nurse, the sum of shifts assigned to that nurse is at most 1 (\"at most\" because a nurse might have the day off).\n",
    "\n",
    "Next, we show how to **assign shifts to nurses as evenly as possible**. Since there are nine shifts over the three-day period, we can assign two shifts to each of the four nurses. After that there will be one shift left over, which can be assigned to any nurse.\n",
    "\n",
    "The following code ensures that each nurse works at least two shifts in the three-day period."
   ]
  },
  {
   "cell_type": "code",
   "execution_count": 42,
   "metadata": {},
   "outputs": [],
   "source": [
    "# Try distributing shifts evenly, so that each nurse works min_shifts_per_nurse shifts\n",
    "# If not possible, because the total number of shifts is not divisible by the number of nurses,\n",
    "# some nurses will be assigned one more shift\n",
    "min_shifts_per_nurse = (num_shifts * num_days) // num_nurses\n",
    "\n",
    "if num_shifts * num_days % num_nurses == 0:\n",
    "    max_shifts_per_nurse = min_shifts_per_nurse\n",
    "else:\n",
    "    max_shifts_per_nurse = min_shifts_per_nurse + 1\n",
    "\n",
    "for n in all_nurses:\n",
    "    shifts_worked = []\n",
    "    for d in all_days:\n",
    "        for s in all_shifts:\n",
    "            shifts_worked.append(shifts[(n, d, s)])\n",
    "    model.Add(min_shifts_per_nurse <= sum(shifts_worked))\n",
    "    model.Add(sum(shifts_worked) <= max_shifts_per_nurse)"
   ]
  },
  {
   "attachments": {},
   "cell_type": "markdown",
   "metadata": {},
   "source": [
    "Since there are `num_shifts` * `num_days` total shifts in the schedule period, you can assign at least\n",
    "\n",
    "```python\n",
    "(num_shifts * num_days) // num_nurses\n",
    "```\n",
    "\n",
    "shifts to each nurse, but some shifts may be left over. (Here, `//` is the Python integer division operator, which returns the floor of the usual quotient.)\n",
    "\n",
    "For the given values of `num_nurses = 4`, `num_shifts = 3`, and `num_days = 3`, the expression `min_shifts_per_nurse` has the value `(3 * 3 // 4) = 2`, so you can assign at least two shifts to each nurse. This is guaranteed by the constraint:\n",
    "\n",
    "```python\n",
    "model.Add(min_shifts_per_nurse <= sum(num_shifts_worked))\n",
    "```\n",
    "\n",
    "Since there are nine total shifts over the three-day period, there is one remaining shift after assigning two shifts to each nurse. The extra shift can be assigned to any nurse.\n",
    "\n",
    "The final line:\n",
    "\n",
    "```python\n",
    "model.Add(sum(num_shifts_worked) <= max_shifts_per_nurse)\n",
    "```\n",
    "\n",
    "ensures that no nurse is assigned more than one extra shift. The constraint isn't necessary in this case, because there's only one extra shift. But for different parameter values, there could be several extra shifts, in which case the constraint is necessary.\n",
    "\n",
    "In a non-optimization model, you can enable the search for all solutions."
   ]
  },
  {
   "cell_type": "code",
   "execution_count": 43,
   "metadata": {},
   "outputs": [
    {
     "name": "stdout",
     "output_type": "stream",
     "text": [
      "Solution 1\n",
      "Day 0\n",
      "   Nurses 0 does not work\n",
      "   Nurse 1 works shift 0\n",
      "   Nurse 2 works shift 1\n",
      "   Nurse 3 works shift 2\n",
      "Day 1\n",
      "   Nurse 0 works shift 2\n",
      "   Nurses 1 does not work\n",
      "   Nurse 2 works shift 1\n",
      "   Nurse 3 works shift 0\n",
      "Day 2\n",
      "   Nurse 0 works shift 2\n",
      "   Nurse 1 works shift 1\n",
      "   Nurse 2 works shift 0\n",
      "   Nurses 3 does not work\n",
      "Solution 2\n",
      "Day 0\n",
      "   Nurse 0 works shift 0\n",
      "   Nurses 1 does not work\n",
      "   Nurse 2 works shift 1\n",
      "   Nurse 3 works shift 2\n",
      "Day 1\n",
      "   Nurses 0 does not work\n",
      "   Nurse 1 works shift 2\n",
      "   Nurse 2 works shift 1\n",
      "   Nurse 3 works shift 0\n",
      "Day 2\n",
      "   Nurse 0 works shift 2\n",
      "   Nurse 1 works shift 1\n",
      "   Nurse 2 works shift 0\n",
      "   Nurses 3 does not work\n",
      "Solution 3\n",
      "Day 0\n",
      "   Nurse 0 works shift 0\n",
      "   Nurses 1 does not work\n",
      "   Nurse 2 works shift 1\n",
      "   Nurse 3 works shift 2\n",
      "Day 1\n",
      "   Nurse 0 works shift 1\n",
      "   Nurse 1 works shift 2\n",
      "   Nurses 2 does not work\n",
      "   Nurse 3 works shift 0\n",
      "Day 2\n",
      "   Nurse 0 works shift 2\n",
      "   Nurse 1 works shift 1\n",
      "   Nurse 2 works shift 0\n",
      "   Nurses 3 does not work\n",
      "Solution 4\n",
      "Day 0\n",
      "   Nurse 0 works shift 0\n",
      "   Nurses 1 does not work\n",
      "   Nurse 2 works shift 1\n",
      "   Nurse 3 works shift 2\n",
      "Day 1\n",
      "   Nurse 0 works shift 2\n",
      "   Nurse 1 works shift 1\n",
      "   Nurses 2 does not work\n",
      "   Nurse 3 works shift 0\n",
      "Day 2\n",
      "   Nurse 0 works shift 2\n",
      "   Nurse 1 works shift 1\n",
      "   Nurse 2 works shift 0\n",
      "   Nurses 3 does not work\n",
      "Solution 5\n",
      "Day 0\n",
      "   Nurses 0 does not work\n",
      "   Nurse 1 works shift 0\n",
      "   Nurse 2 works shift 1\n",
      "   Nurse 3 works shift 2\n",
      "Day 1\n",
      "   Nurse 0 works shift 2\n",
      "   Nurse 1 works shift 1\n",
      "   Nurses 2 does not work\n",
      "   Nurse 3 works shift 0\n",
      "Day 2\n",
      "   Nurse 0 works shift 2\n",
      "   Nurse 1 works shift 1\n",
      "   Nurse 2 works shift 0\n",
      "   Nurses 3 does not work\n",
      "Stop search after 5 solutions\n",
      "\n",
      "Statistics\n",
      "  - conflicts      : 5\n",
      "  - branches       : 142\n",
      "  - wall time      : 0.007303 s\n",
      "  - solutions found: 5\n"
     ]
    }
   ],
   "source": [
    "# Update solver parameters\n",
    "solver = cp_model.CpSolver()\n",
    "solver.parameters.linearization_level = 0\n",
    "\n",
    "# Enumerate all solutions\n",
    "solver.parameters.enumerate_all_solutions = True\n",
    "\n",
    "# Register a Solutions Callback\n",
    "class NursesPartialSolutionPrinter(cp_model.CpSolverSolutionCallback):\n",
    "    '''Print intermediate solutions.'''\n",
    "\n",
    "    def __init__(self, shifts, num_nurses, num_days, num_shifts, limit):\n",
    "        cp_model.CpSolverSolutionCallback.__init__(self)\n",
    "        self._shifts = shifts\n",
    "        self._num_nurses = num_nurses\n",
    "        self._num_days = num_days\n",
    "        self._num_shifts = num_shifts\n",
    "        self._solution_count = 0\n",
    "        self._solution_limit = limit\n",
    "    \n",
    "    def on_solution_callback(self):\n",
    "        self._solution_count += 1\n",
    "        print(f'Solution {self._solution_count}')\n",
    "\n",
    "        for d in range(self._num_days):\n",
    "            print('Day %i' % d)\n",
    "            for n in range(self._num_nurses):\n",
    "                is_working = False\n",
    "                for s in range(self._num_shifts):\n",
    "                    if self.Value(self._shifts[(n, d, s)]):\n",
    "                        is_working = True\n",
    "                        print('   Nurse %i works shift %i' % (n, s))\n",
    "                if not is_working:\n",
    "                    print('   Nurses {} does not work'.format(n))\n",
    "        if self._solution_count >= self._solution_limit:\n",
    "            print('Stop search after %i solutions' % self._solution_limit)\n",
    "            self.StopSearch()\n",
    "    \n",
    "    def solution_count(self):\n",
    "        return self._solution_count\n",
    "\n",
    "# Display the first five solutions\n",
    "solution_limit = 5\n",
    "solution_printer = NursesPartialSolutionPrinter(shifts, num_nurses, num_days, num_shifts, solution_limit)\n",
    "\n",
    "# Invoke solver\n",
    "solver.Solve(model, solution_printer)\n",
    "\n",
    "# Statistics.\n",
    "print('\\nStatistics')\n",
    "print('  - conflicts      : %i' % solver.NumConflicts())\n",
    "print('  - branches       : %i' % solver.NumBranches())\n",
    "print('  - wall time      : %f s' % solver.WallTime())\n",
    "print('  - solutions found: %i' % solution_printer.solution_count())"
   ]
  },
  {
   "attachments": {},
   "cell_type": "markdown",
   "metadata": {},
   "source": [
    "## Scheduling with shift requests"
   ]
  },
  {
   "attachments": {},
   "cell_type": "markdown",
   "metadata": {},
   "source": [
    "In this section, we take the previous example and add nurse requests for specific shifts. We then look for a schedule that maximizes the number of requests that are met. For most scheduling problems, it's best to optimize an objective function, as it is usually not practical to print all possible schedules.\n",
    "\n",
    "This example has the same constraints as the previous example."
   ]
  },
  {
   "cell_type": "code",
   "execution_count": 44,
   "metadata": {},
   "outputs": [],
   "source": [
    "# Data\n",
    "num_nurses = 5\n",
    "num_shifts = 3\n",
    "num_days = 7\n",
    "\n",
    "all_nurses = range(num_nurses)\n",
    "all_shifts = range(num_shifts)\n",
    "all_days = range(num_days)\n",
    "\n",
    "shift_requests = [[[0, 0, 1], [0, 0, 0], [0, 0, 0], [0, 0, 0], [0, 0, 1],\n",
    "                   [0, 1, 0], [0, 0, 1]],\n",
    "                  [[0, 0, 0], [0, 0, 0], [0, 1, 0], [0, 1, 0], [1, 0, 0],\n",
    "                   [0, 0, 0], [0, 0, 1]],\n",
    "                  [[0, 1, 0], [0, 1, 0], [0, 0, 0], [1, 0, 0], [0, 0, 0],\n",
    "                   [0, 1, 0], [0, 0, 0]],\n",
    "                  [[0, 0, 1], [0, 0, 0], [1, 0, 0], [0, 1, 0], [0, 0, 0],\n",
    "                   [1, 0, 0], [0, 0, 0]],\n",
    "                  [[0, 0, 0], [0, 0, 1], [0, 1, 0], [0, 0, 0], [1, 0, 0],\n",
    "                   [0, 1, 0], [0, 0, 0]]]\n",
    "\n",
    "# Create model\n",
    "model = cp_model.CpModel()"
   ]
  },
  {
   "attachments": {},
   "cell_type": "markdown",
   "metadata": {},
   "source": [
    "In addition to the variables from the previous example, the data also contains a set of triples, corresponding to the three shifts per day. Each element of the triple is 0 or 1, indicating whether a shift was requested. For example, the triple [0, 0, 1] in the fifth position of row 1 indicates that nurse 1 requests shift 3 on day 5."
   ]
  },
  {
   "cell_type": "code",
   "execution_count": 45,
   "metadata": {},
   "outputs": [],
   "source": [
    "# Create variables\n",
    "shifts = {}\n",
    "for n in all_nurses:\n",
    "    for d in all_days:\n",
    "        for s in all_shifts:\n",
    "            shifts[(n, d, s)] = model.NewBoolVar('shift_n%id%is%i' % (n, d, s))\n",
    "\n",
    "# Create constraints\n",
    "for d in all_days:\n",
    "    for s in all_shifts:\n",
    "        model.AddExactlyOne(shifts[(n, d, s)] for n in all_nurses)\n",
    "\n",
    "for n in all_nurses:\n",
    "    for d in all_days:\n",
    "        model.AddAtMostOne(shifts[(n, d, s)] for s in all_shifts)\n",
    "\n",
    "# Try to distribute the shifts evenly, so that each nurse works\n",
    "# min_shifts_per_nurse shifts. If this is not possible, because the total\n",
    "# number of shifts is not divisible by the number of nurses, some nurses will\n",
    "# be assigned one more shift.\n",
    "min_shifts_per_nurse = (num_shifts * num_days) // num_nurses\n",
    "if num_shifts * num_days % num_nurses == 0:\n",
    "    max_shifts_per_nurse = min_shifts_per_nurse\n",
    "else:\n",
    "    max_shifts_per_nurse = min_shifts_per_nurse + 1\n",
    "for n in all_nurses:\n",
    "    num_shifts_worked = 0\n",
    "    for d in all_days:\n",
    "        for s in all_shifts:\n",
    "            num_shifts_worked += shifts[(n, d, s)]\n",
    "    model.Add(min_shifts_per_nurse <= num_shifts_worked)\n",
    "    model.Add(num_shifts_worked <= max_shifts_per_nurse)\n",
    "\n",
    "# Objective\n",
    "# pylint: disable=g-complex-comprehension\n",
    "model.Maximize(sum(shift_requests[n][d][s] * shifts[(n, d, s)] for n in all_nurses \n",
    "                for d in all_days for s in all_shifts))\n",
    "   "
   ]
  },
  {
   "attachments": {},
   "cell_type": "markdown",
   "metadata": {},
   "source": [
    "Since `shift_requests[n][d][s] * shifts[(n, d, s)` is 1 if shift `s` is assigned to nurse `n` on day `d` and that nurse requested that shift (and 0 otherwise), the objective is the number shift of assignments that meet a request."
   ]
  },
  {
   "cell_type": "code",
   "execution_count": 46,
   "metadata": {},
   "outputs": [
    {
     "name": "stdout",
     "output_type": "stream",
     "text": [
      "Solution:\n",
      "Day 0\n",
      "Nurse 1 works shift 0 (not requested)\n",
      "Nurse 2 works shifts 1 (requested)\n",
      "Nurse 3 works shifts 2 (requested)\n",
      "\n",
      "Day 1\n",
      "Nurse 1 works shift 0 (not requested)\n",
      "Nurse 2 works shifts 1 (requested)\n",
      "Nurse 4 works shifts 2 (requested)\n",
      "\n",
      "Day 2\n",
      "Nurse 0 works shift 2 (not requested)\n",
      "Nurse 3 works shifts 0 (requested)\n",
      "Nurse 4 works shifts 1 (requested)\n",
      "\n",
      "Day 3\n",
      "Nurse 0 works shift 2 (not requested)\n",
      "Nurse 2 works shifts 0 (requested)\n",
      "Nurse 3 works shifts 1 (requested)\n",
      "\n",
      "Day 4\n",
      "Nurse 0 works shifts 2 (requested)\n",
      "Nurse 1 works shift 1 (not requested)\n",
      "Nurse 4 works shifts 0 (requested)\n",
      "\n",
      "Day 5\n",
      "Nurse 0 works shift 2 (not requested)\n",
      "Nurse 3 works shifts 0 (requested)\n",
      "Nurse 4 works shifts 1 (requested)\n",
      "\n",
      "Day 6\n",
      "Nurse 0 works shifts 2 (requested)\n",
      "Nurse 1 works shift 1 (not requested)\n",
      "Nurse 2 works shift 0 (not requested)\n",
      "\n",
      "Number of shift requests met = 13.0 (out of 20)\n"
     ]
    }
   ],
   "source": [
    "# Invoke solver\n",
    "solver = cp_model.CpSolver()\n",
    "status = solver.Solve(model)\n",
    "\n",
    "# Display results\n",
    "if status == cp_model.OPTIMAL:\n",
    "    print('Solution:')\n",
    "    for d in all_days:\n",
    "        print('Day', d)\n",
    "        for n in all_nurses:\n",
    "            for s in all_shifts:\n",
    "                if solver.Value(shifts[(n, d, s)]) == 1:\n",
    "                    if shift_requests[n][d][s] == 1:\n",
    "                        print(f'Nurse {n} works shifts {s} (requested)')\n",
    "                    else:\n",
    "                        print(f'Nurse {n} works shift {s} (not requested)')\n",
    "        print()\n",
    "    print(f'Number of shift requests met = {solver.ObjectiveValue()}',\n",
    "        f'(out of {num_nurses * min_shifts_per_nurse})')\n",
    "else:\n",
    "    print('No optimal solution found.')"
   ]
  },
  {
   "attachments": {},
   "cell_type": "markdown",
   "metadata": {},
   "source": [
    "# The Job Shop Problem"
   ]
  },
  {
   "attachments": {},
   "cell_type": "markdown",
   "metadata": {},
   "source": [
    "One common scheduling problem is the job shop, in which **multiple jobs are processed on several machines**. Each job consists of a sequence of tasks, which must be performed in a given order, and each task must be processed on a specific machine. For example, the job could be the manufacture of a single consumer item, such as an automobile. The problem is to schedule the tasks on the machines so as to minimize the length of the schedule—the time it takes for all the jobs to be completed.\n",
    "\n",
    "There are several constraints for the job shop problem:\n",
    "- No task for a job can be started **until the previous task for that job is completed**.\n",
    "- A machine can only work on **one task at a time**.\n",
    "- A task, once started, **must run to completion**."
   ]
  },
  {
   "attachments": {},
   "cell_type": "markdown",
   "metadata": {},
   "source": [
    "## Example problem"
   ]
  },
  {
   "attachments": {},
   "cell_type": "markdown",
   "metadata": {},
   "source": [
    "Below is a simple example of a job shop problem, in which each task is labeled by a pair of numbers (m, p) where *m* is the **number of the machine the task must be processed on** and *p* is the **processing time of the task** — the amount of time it requires. (The numbering of jobs and machines starts at 0.)\n",
    "- job 0 = [(0, 3), (1, 2), (2, 2)]\n",
    "- job 1 = [(0, 2), (2, 1), (1, 4)]\n",
    "- job 2 = [(1, 4), (2, 3)]\n",
    "\n",
    "In the example, job 0 has three tasks. The first, (0, 3), must be processed on machine 0 in 3 units of time. The second, (1, 2), must be processed on machine 1 in 2 units of time, and so on. Altogether, there are eight tasks."
   ]
  },
  {
   "attachments": {},
   "cell_type": "markdown",
   "metadata": {},
   "source": [
    "### A solution"
   ]
  },
  {
   "attachments": {},
   "cell_type": "markdown",
   "metadata": {},
   "source": [
    "A solution to the job shop problem is an assignment of a start time for each task, which meets the constraints given above. The diagram below shows one possible solution for the problem:\n",
    "\n",
    "<p align = center>\n",
    "    <img src = https://developers.google.com/static/optimization/images/scheduling/schedule1.png>\n",
    "</p>\n",
    "\n",
    "You can check that the tasks for each job are scheduled at non-overlapping time intervals, in the order given by the problem.\n",
    "\n",
    "The length of this solution is 12, which is the first time when all three jobs are complete. However, this isn't the optimal solution to the problem."
   ]
  },
  {
   "attachments": {},
   "cell_type": "markdown",
   "metadata": {},
   "source": [
    "### Variables and constraints for the problem"
   ]
  },
  {
   "attachments": {},
   "cell_type": "markdown",
   "metadata": {},
   "source": [
    "This section describes how to set up the variables and constraints for the problem. First, let task(i, j) denote the jth task in the sequence for job i. For example, task(0, 2) denotes the second task for job 0, which corresponds to the pair (1, 2) in the problem description.\n",
    "\n",
    "Next, define $t_{i, j}$ to be the start time for task(i, j). Thw $t_{i, j}$ are the variables in the job shop problem. Finding a solution involves determining values for these variables that meet the requirement of the problem. There are two types of constraints for the job shop problem:\n",
    "- *Precendence constraints* -- These arise from the condition that for any two consecutive tasks in the same job, the first must be completed before the second can be started. For example, task(0, 2) and task(0, 3) are consecutive tasks for job 0. Since the processing time for task(0, 2) is 2, the start time for task(0, 3) must be at least 2 units of time after the start time for task 2. (Perhaps task 2 is painting a door, and it takes two hours for the paint to dry.) As a result, you get the following constraint: \n",
    "    \n",
    "    $ t_{0, 2} + \\leq t_{0, 3} $\n",
    "    \n",
    "- *No overlap constraints* - These arise from the restriction that a machine can't work on two tasks at the same time. For example, task(0, 2) and task(2, 1) are both processed on machine 1. Since their processing times are 2 and 4, respectively, one of the following constraints must hold:\n",
    "\n",
    "    $ t_{0, 2} + 2 \\leq t_{2, 1} $ (if task(0, 2) is scheduled before task(2, 1))\n",
    "\n",
    "    or\n",
    "\n",
    "    $ t_{2, 1} + 4 \\leq t_{0, 2} $ (if task(2, 1) is scheduled before task(0, 2))"
   ]
  },
  {
   "attachments": {},
   "cell_type": "markdown",
   "metadata": {},
   "source": [
    "### Objective for the problem"
   ]
  },
  {
   "attachments": {},
   "cell_type": "markdown",
   "metadata": {},
   "source": [
    "The objective of the job shop problem is to minimize the *makespan*: the length of time from the earliest start time of the jobs to the latest end time."
   ]
  },
  {
   "attachments": {},
   "cell_type": "markdown",
   "metadata": {},
   "source": [
    "## A Program solution"
   ]
  },
  {
   "cell_type": "code",
   "execution_count": 47,
   "metadata": {},
   "outputs": [],
   "source": [
    "# Data\n",
    "jobs_data = [ # task = (machine_id, processing_time)\n",
    "    [(0, 3), (1, 2), (2, 2)], # Job 0\n",
    "    [(0, 2), (2, 1), (1, 4)], # Job 1\n",
    "    [(1, 4), (2, 3)] # Job 2\n",
    "]\n",
    "\n",
    "machines_count = 1 + max(task[0] for job in jobs_data for task in job)\n",
    "all_machines = range(machines_count)\n",
    "\n",
    "# Computes horizon dynamically as the sum of all durations\n",
    "horizon = sum(task[1] for job in jobs_data for task in job)\n",
    "\n",
    "# Declare model\n",
    "model = cp_model.CpModel()\n",
    "\n",
    "# Define variables\n",
    "# Named tuple to store info about created variables\n",
    "task_type = collections.namedtuple('task_type', 'start end interval')\n",
    "# Named tuple to manipulat solution information\n",
    "assigned_task_type = collections.namedtuple('assigned_task_type', 'start job index duration')\n",
    "\n",
    "# Creates job intervals and adds to the corresponding machine lists\n",
    "all_tasks = {}\n",
    "machine_to_intervals = collections.defaultdict(list)\n",
    "\n",
    "for job_id, job in enumerate(jobs_data):\n",
    "    for task_id, task in enumerate(job):\n",
    "        machine = task[0]\n",
    "        duration = task[1]\n",
    "        suffix = '_%i_%i' % (job_id, task_id)\n",
    "        start_var = model.NewIntVar(0, horizon, 'start' + suffix)\n",
    "        end_var = model.NewIntVar(0, horizon, 'end' + suffix)\n",
    "        interval_var = model.NewIntervalVar(start_var, duration, end_var, 'interval' + suffix)\n",
    "        all_tasks[job_id, task_id] = task_type(start = start_var, end = end_var, interval = interval_var)\n",
    "        machine_to_intervals[machine].append(interval_var)"
   ]
  },
  {
   "attachments": {},
   "cell_type": "markdown",
   "metadata": {},
   "source": [
    "For each job and task, the program uses the solver's `NewIntVar` method to create the variables:\n",
    "- `start_var`: Start time of the task.\n",
    "- `end_var`: End time of the task.\n",
    "\n",
    "The upper bound for `start_var` and `end_var` is horizon, the sum of the processing times for all tasks in all jobs. `horizon` is sufficiently large to complete all tasks for the following reason: if you schedule the tasks in non-overlapping time intervals (a non-optimal solution), the total length of the schedule is exactly `horizon`. So the duration of the optimal solution can't be any greater than `horizon`.\n",
    "\n",
    "Next, the program uses the `NewIntervalVar` method to create an interval variable—whose value is a variable time interval—for the task. The inputs to `NewIntervalVar` are:\n",
    "- `start_var`: Variable for the start time of the task.\n",
    "- `duration`: Length of the time interval for the task.\n",
    "- `end_var`: Variable for the end time of the task.\n",
    "- `'interval_%i_%i' % (job, task_id))`: Name for the interval variable.\n",
    "\n",
    "In any solution, `end_var` minus `start_var` must equal duration."
   ]
  },
  {
   "cell_type": "code",
   "execution_count": 48,
   "metadata": {},
   "outputs": [],
   "source": [
    "# Define constraints\n",
    "# Craete and add disjunctive constraints\n",
    "for machine in all_machines:\n",
    "    model.AddNoOverlap(machine_to_intervals[machine])\n",
    "\n",
    "# Precendences inside a job\n",
    "for job_id, job in enumerate(jobs_data):\n",
    "    for task_id in range(len(job) - 1):\n",
    "        model.Add(all_tasks[job_id, task_id + 1].start >= all_tasks[job_id, task_id].end)"
   ]
  },
  {
   "attachments": {},
   "cell_type": "markdown",
   "metadata": {},
   "source": [
    "The program uses the solver's `AddNoOverlap` method to create the no overlap constraints, which prevent tasks for the same machine from overlapping in time.\n",
    "\n",
    "Next, the program adds the precedence constraints, which prevent consecutive tasks for the same job from overlapping in time. For each job, the line\n",
    "\n",
    "```python\n",
    "model.Add(all_tasks[job, task_id + 1].start >= all_tasks[job, task_id].end)\n",
    "```\n",
    "\n",
    "requires the end time of a task to occur before the start time of the next task in the job."
   ]
  },
  {
   "cell_type": "code",
   "execution_count": 49,
   "metadata": {},
   "outputs": [],
   "source": [
    "# Makespan objective\n",
    "obj_var = model.NewIntVar(0, horizon, 'makespan')\n",
    "model.AddMaxEquality(obj_var, [\n",
    "    all_tasks[job_id, len(job) - 1].end\n",
    "    for job_id, job in enumerate(jobs_data)\n",
    "])\n",
    "model.Minimize(obj_var)"
   ]
  },
  {
   "attachments": {},
   "cell_type": "markdown",
   "metadata": {},
   "source": [
    "The expression\n",
    "\n",
    "```python\n",
    "   model.AddMaxEquality(\n",
    "      obj_var,\n",
    "      [all_tasks[(job, len(jobs_data[job]) - 1)].end for job in all_jobs])\n",
    "```\n",
    "\n",
    "creates a variable `obj_var` whose value is the maximum of the end times for all jobs —that is, the makespan."
   ]
  },
  {
   "cell_type": "code",
   "execution_count": 50,
   "metadata": {},
   "outputs": [
    {
     "name": "stdout",
     "output_type": "stream",
     "text": [
      "Solution:\n",
      "Optimal Schedule Length: 11.0\n",
      "Machine 0: job_1_task_0   job_0_task_0   \n",
      "           [0, 2]         [2, 5]         \n",
      "Machine 1: job_2_task_0   job_0_task_1   job_1_task_2   \n",
      "           [0, 4]         [5, 7]         [7, 11]        \n",
      "Machine 2: job_1_task_1   job_2_task_1   job_0_task_2   \n",
      "           [2, 3]         [4, 7]         [7, 9]         \n",
      "\n"
     ]
    }
   ],
   "source": [
    "# Invoke solver\n",
    "solver = cp_model.CpSolver()\n",
    "status = solver.Solve(model)\n",
    "\n",
    "# Display results\n",
    "if status == cp_model.OPTIMAL or status == cp_model.FEASIBLE:\n",
    "    print('Solution:')\n",
    "    # Create one list of assigned tasks per machine.\n",
    "    assigned_jobs = collections.defaultdict(list)\n",
    "    for job_id, job in enumerate(jobs_data):\n",
    "        for task_id, task in enumerate(job):\n",
    "            machine = task[0]\n",
    "            assigned_jobs[machine].append(\n",
    "                assigned_task_type(start=solver.Value(\n",
    "                    all_tasks[job_id, task_id].start),\n",
    "                                   job=job_id,\n",
    "                                   index=task_id,\n",
    "                                   duration=task[1]))\n",
    "\n",
    "    # Create per machine output lines.\n",
    "    output = ''\n",
    "    for machine in all_machines:\n",
    "        # Sort by starting time.\n",
    "        assigned_jobs[machine].sort()\n",
    "        sol_line_tasks = 'Machine ' + str(machine) + ': '\n",
    "        sol_line = '           '\n",
    "\n",
    "        for assigned_task in assigned_jobs[machine]:\n",
    "            name = 'job_%i_task_%i' % (assigned_task.job,\n",
    "                                       assigned_task.index)\n",
    "            # Add spaces to output to align columns.\n",
    "            sol_line_tasks += '%-15s' % name\n",
    "\n",
    "            start = assigned_task.start\n",
    "            duration = assigned_task.duration\n",
    "            sol_tmp = '[%i, %i]' % (start, start + duration)\n",
    "            # Add spaces to output to align columns.\n",
    "            sol_line += '%-15s' % sol_tmp\n",
    "\n",
    "        sol_line += '\\n'\n",
    "        sol_line_tasks += '\\n'\n",
    "        output += sol_line_tasks\n",
    "        output += sol_line\n",
    "\n",
    "    # Finally print the solution found.\n",
    "    print(f'Optimal Schedule Length: {solver.ObjectiveValue()}')\n",
    "    print(output)\n",
    "else:\n",
    "    print('No solution found.')"
   ]
  },
  {
   "cell_type": "code",
   "execution_count": null,
   "metadata": {},
   "outputs": [],
   "source": []
  }
 ],
 "metadata": {
  "kernelspec": {
   "display_name": "Python 3",
   "language": "python",
   "name": "python3"
  },
  "language_info": {
   "codemirror_mode": {
    "name": "ipython",
    "version": 3
   },
   "file_extension": ".py",
   "mimetype": "text/x-python",
   "name": "python",
   "nbconvert_exporter": "python",
   "pygments_lexer": "ipython3",
   "version": "3.10.0 (tags/v3.10.0:b494f59, Oct  4 2021, 19:00:18) [MSC v.1929 64 bit (AMD64)]"
  },
  "orig_nbformat": 4,
  "vscode": {
   "interpreter": {
    "hash": "89fcffa4e5c0b8de1000b7bd1cb06ecfe8e894727bdfc6006168278143d46145"
   }
  }
 },
 "nbformat": 4,
 "nbformat_minor": 2
}
