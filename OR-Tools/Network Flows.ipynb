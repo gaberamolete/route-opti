{
 "cells": [
  {
   "attachments": {},
   "cell_type": "markdown",
   "metadata": {},
   "source": [
    "# Packages"
   ]
  },
  {
   "cell_type": "code",
   "execution_count": 50,
   "metadata": {},
   "outputs": [
    {
     "data": {
      "text/plain": [
       "'c:\\\\Users\\\\gilramolete\\\\OneDrive - UNIONBANK of the Philippines\\\\Documents 1\\\\Route Optimization\\\\OR-Tools'"
      ]
     },
     "execution_count": 50,
     "metadata": {},
     "output_type": "execute_result"
    }
   ],
   "source": [
    "import numpy as np\n",
    "\n",
    "from ortools.graph.python import max_flow, min_cost_flow\n",
    "\n",
    "import os\n",
    "os.getcwd()"
   ]
  },
  {
   "attachments": {},
   "cell_type": "markdown",
   "metadata": {},
   "source": [
    "# Overview"
   ]
  },
  {
   "attachments": {},
   "cell_type": "markdown",
   "metadata": {},
   "source": [
    "Many problems in computer science can be represented by a graph consisting of nodes and links between them. Examples are **network flow** problems, which involve transporting goods or material across a network, such as a railway system.\n",
    "\n",
    "You can represent a network flow by a graph whose nodes are cities and whose arcs are rail lines between them. (They're called **flows** because their properties are similar to those of water flowing through a network of pipes.)\n",
    "\n",
    "A key constraint in network flows is that each arc has a **capacity** — the maximum amount that can be transported across the arc in a fixed period of time.\n",
    "\n",
    "The **maximum flow problem** is to determine **the maximum total amount that can be transported across all arcs** in the network, subject to the capacity constraints.\n",
    "\n",
    "The first person to study this problem was the Russian mathematician A.N. Tolstoi, in the 1930s. The map below shows the actual railway network for which he wanted to find a maximum flow.\n",
    "\n",
    "<p align = center>\n",
    "    <img src = https://developers.google.com/static/optimization/images/railway_network.png>\n",
    "</p>"
   ]
  },
  {
   "attachments": {},
   "cell_type": "markdown",
   "metadata": {},
   "source": [
    "# Maximum Flows"
   ]
  },
  {
   "attachments": {},
   "cell_type": "markdown",
   "metadata": {},
   "source": [
    "The problem is defined by the following graph, which represents a transportation network:\n",
    "\n",
    "<p align = center>\n",
    "    <img src = https://developers.google.com/static/optimization/images/flow/max_flow.svg>\n",
    "</p>\n",
    "\n",
    "We wish to transport material from node 0 (the **source**) to node 4 (the **sink**). The numbers next to the arcs are their capacities — the capacity of an arc is the maximum amount that can be transported across it in a fixed period of time. The capacities are the constraints for the problem.\n",
    "\n",
    "A **flow** is an assignment of a non-negative number to each arc (the **flow amount**) that satisfies the following **flow conservation** rule: At each node, other than the source or the sink, the total flow of all arcs leading in to the node equals the total flow of all arcs leading out of it.\n",
    "\n",
    "The max flow problem is to find a flow for which the sum of the flow amounts for the entire network is as large as possible. The following sections present a programs to find the maximum flow from the source (0) to the sink (4)."
   ]
  },
  {
   "cell_type": "code",
   "execution_count": 51,
   "metadata": {},
   "outputs": [],
   "source": [
    "# Declare solver, instantiate a SimpleMaxFlow solver\n",
    "smf = max_flow.SimpleMaxFlow()"
   ]
  },
  {
   "attachments": {},
   "cell_type": "markdown",
   "metadata": {},
   "source": [
    "You define the graph for the problem with three arrays, for the start nodes, end nodes, and capacities of the arcs. The length of each array equals the number of arcs in the graph.\n",
    "\n",
    "For each `i`, arc `i` goes from `start_nodes[i]` to `end_nodes[i]`, and its capacity is given by `capacities[i]`. The next section shows how to create the arcs using this data."
   ]
  },
  {
   "cell_type": "code",
   "execution_count": 52,
   "metadata": {},
   "outputs": [],
   "source": [
    "# Define three paralell arrays: start_nodes, end_nodes, and the capacities\n",
    "# between each pair.\n",
    "# For instance, the arc from node 0 to node 1 has a capacity of 20\n",
    "start_nodes = np.array([0, 0, 0, 1, 1, 2, 2, 3, 3])\n",
    "end_nodes = np.array([1, 2, 3, 2, 4, 3, 4, 2, 4])\n",
    "capacities = np.array([20, 30, 10, 40, 30, 10, 20, 5, 20])"
   ]
  },
  {
   "attachments": {},
   "cell_type": "markdown",
   "metadata": {},
   "source": [
    "For each start node and end node, we create an arc from start node to end node with the given capacity, using the method `AddArcWithCapacity`. The capacities are the constraints for the problem."
   ]
  },
  {
   "cell_type": "code",
   "execution_count": 53,
   "metadata": {},
   "outputs": [],
   "source": [
    "# Add arcs in bulk\n",
    "# We could have used add_arc_with_capacity(start, end, capacity)\n",
    "all_arcs = smf.add_arcs_with_capacity(start_nodes, end_nodes, capacities)"
   ]
  },
  {
   "attachments": {},
   "cell_type": "markdown",
   "metadata": {},
   "source": [
    "Now that all the arcs have been defined, all that remains is to invoke the solver and display the results. We invoke the `Solve()` method, providing the source (0) and sink(4)."
   ]
  },
  {
   "cell_type": "code",
   "execution_count": 54,
   "metadata": {},
   "outputs": [
    {
     "name": "stdout",
     "output_type": "stream",
     "text": [
      "Max flow: 60\n",
      "\n",
      " Arc    Flow / Capacity\n",
      "0 / 1   20  /  20\n",
      "0 / 2   30  /  30\n",
      "0 / 3   10  /  10\n",
      "1 / 2    0  /  40\n",
      "1 / 4   20  /  30\n",
      "2 / 3   10  /  10\n",
      "2 / 4   20  /  20\n",
      "3 / 2    0  /   5\n",
      "3 / 4   20  /  20\n",
      "Source side min-cut: [0]\n",
      "Sink side min-cut: [4, 1]\n"
     ]
    }
   ],
   "source": [
    "# Find the maximum flow between node 0 and node 4\n",
    "status = smf.solve(0, 4)\n",
    "\n",
    "if status != smf.OPTIMAL:\n",
    "    print('There was an issue with the max flow input:')\n",
    "    print(f'Status: {status}')\n",
    "    exit(1)\n",
    "print('Max flow:', smf.optimal_flow())\n",
    "print()\n",
    "print(' Arc    Flow / Capacity')\n",
    "solution_flows = smf.flows(all_arcs)\n",
    "for arc, flow, capacity in zip(all_arcs, solution_flows, capacities):\n",
    "    print(f'{smf.tail(arc)} / {smf.head(arc)}  {flow:3}  / {capacity:3}')\n",
    "print('Source side min-cut:', smf.get_source_side_min_cut())\n",
    "print('Sink side min-cut:', smf.get_sink_side_min_cut())"
   ]
  },
  {
   "attachments": {},
   "cell_type": "markdown",
   "metadata": {},
   "source": [
    "# Minimum Cost Flows"
   ]
  },
  {
   "attachments": {},
   "cell_type": "markdown",
   "metadata": {},
   "source": [
    "Closely related to the max flow problem is the **minimum cost (min cost)** flow problem, in which each arc in the graph has a unit cost for transporting material across it. The problem is to find a flow with the least total cost.\n",
    "\n",
    "The min cost flow problem also has special nodes, called supply nodes or demand nodes, which are similar to the source and sink in the max flow problem. Material is transported from supply nodes to demand nodes.\n",
    "- At a **supply node**, a positive amount — the supply — is added to the flow. A supply could represent production at that node, for example.\n",
    "- At a **demand node**, a negative amount — the demand — is taken away from the flow. A demand could represent consumption at that node, for example.\n",
    "\n",
    "For convenience, we'll assume that all nodes, other than supply or demand nodes, have *zero supply (and demand)*.\n",
    "\n",
    "For the min cost flow problem, we have the following flow conservation rule, which takes the supplies and demands into account: At each node, the *total flow leading out of the node minus the total flow leading in to the node* equals the supply (or demand) at that node.\n",
    "\n",
    "The graph below shows a min cost flow problem. The arcs are labeled with pairs of numbers: the first number is the capacity and the second number is the cost. The numbers in parentheses next to the nodes represent supplies or demands. Node 0 is a supply node with supply 20, while nodes 3 and 4 are demand nodes, with demands -5 and -15, respectively.\n",
    "\n",
    "<p align = center>\n",
    "    <img src = https://developers.google.com/static/optimization/images/flow/min_cost_flow.svg>\n",
    "</p>"
   ]
  },
  {
   "cell_type": "code",
   "execution_count": 55,
   "metadata": {},
   "outputs": [],
   "source": [
    "# Instantiate a SimpleMinCostFlow solver\n",
    "smcf = min_cost_flow.SimpleMinCostFlow()"
   ]
  },
  {
   "attachments": {},
   "cell_type": "markdown",
   "metadata": {},
   "source": [
    "The following code defines the data for the problem. In this case, there are four arrays for the start nodes, end nodes, capacities, and unit costs. Again, the length of the arrays is the number of arcs in the graph."
   ]
  },
  {
   "cell_type": "code",
   "execution_count": 56,
   "metadata": {},
   "outputs": [],
   "source": [
    "# Define four parallel arrays: sources, destinations, capacities, and unit costs between each pair.\n",
    "# For instance, the arc from node 0 to node 1 has a capacity of 15.\n",
    "start_nodes = np.array([0, 0, 1, 1, 1, 2, 2, 3, 4])\n",
    "end_nodes = np.array([1, 2, 2, 3, 4, 3, 4, 4, 2])\n",
    "capacities = np.array([15, 8, 20, 4, 10, 15, 4, 20, 5])\n",
    "unit_costs = np.array([4, 4, 2, 2, 6, 1, 3, 2, 3])\n",
    "\n",
    "# Define an array of supplies at each node.\n",
    "supplies = [20, 0, 0, -5, -15]"
   ]
  },
  {
   "attachments": {},
   "cell_type": "markdown",
   "metadata": {},
   "source": [
    "For each start node and end node, we create an arc from start node to end node with the given capacity and unit cost, using the method `AddArcWithCapacityAndUnitCost`.\n",
    "\n",
    "The solver's `SetNodeSupply` method creates a vector of supplies for the nodes."
   ]
  },
  {
   "cell_type": "code",
   "execution_count": 57,
   "metadata": {},
   "outputs": [
    {
     "name": "stdout",
     "output_type": "stream",
     "text": [
      "Minimum cost: 150\n",
      "\n",
      " Arc    Flow / Capacity Cost\n",
      "0 -> 1   12  /  15\n",
      "0 -> 2    8  /   8\n",
      "1 -> 2    8  /  20\n",
      "1 -> 3    4  /   4\n",
      "1 -> 4    0  /  10\n",
      "2 -> 3   12  /  15\n",
      "2 -> 4    4  /   4\n",
      "3 -> 4   11  /  20\n",
      "4 -> 2    0  /   5\n"
     ]
    }
   ],
   "source": [
    "# Add arcs, capacities, and costs in bulk using numpy\n",
    "all_arcs = smcf.add_arcs_with_capacity_and_unit_cost(\n",
    "    start_nodes, end_nodes, capacities, unit_costs\n",
    ")\n",
    "\n",
    "# Add supply for each nodes\n",
    "smcf.set_nodes_supply(np.arange(0, len(supplies)), supplies)\n",
    "\n",
    "# Find min cost flow\n",
    "status = smcf.solve()\n",
    "\n",
    "# Display results\n",
    "if status != smcf.OPTIMAL:\n",
    "    print('THere was an issue with the min cost flow input.')\n",
    "    print('Status:', status)\n",
    "    exit(1)\n",
    "print(f'Minimum cost: {smcf.optimal_cost()}')\n",
    "print()\n",
    "print(' Arc    Flow / Capacity Cost')\n",
    "solution_flows = smcf.flows(all_arcs)\n",
    "costs = solution_flows * unit_costs\n",
    "for arc, flow, cost in zip(all_arcs, solution_flows, costs):\n",
    "    print(f'{smcf.tail(arc):1} -> {smcf.head(arc)}  {flow:3}  / {smcf.capacity(arc):3}')"
   ]
  },
  {
   "attachments": {},
   "cell_type": "markdown",
   "metadata": {},
   "source": [
    "# Assignment as Min Cost Flow Problem"
   ]
  },
  {
   "attachments": {},
   "cell_type": "markdown",
   "metadata": {},
   "source": [
    "You can use the min cost flow solver to solve special cases of the assignment problem. In fact, min cost flow can often return a solution faster than either the MIP or CP-SAT solver. However, MIP and CP-SAT can solve a larger class of problems than min cost flow, so in most cases MIP or CP-SAT are the best choices.\n",
    "\n",
    "The following sections present Python programs that solve the following assignment problems using the min cost flow solver:\n",
    "- A simple linear assignment example.\n",
    "- An assignment problem with teams of workers."
   ]
  },
  {
   "attachments": {},
   "cell_type": "markdown",
   "metadata": {},
   "source": [
    "## Linear assignment example"
   ]
  },
  {
   "cell_type": "code",
   "execution_count": 58,
   "metadata": {},
   "outputs": [],
   "source": [
    "# Instantiate a SimpleMinCostFlow solver\n",
    "smcf = min_cost_flow.SimpleMinCostFlow()"
   ]
  },
  {
   "attachments": {},
   "cell_type": "markdown",
   "metadata": {},
   "source": [
    "The flow diagram for the problem consists of the bipartite graph for the cost matrix, with a source and sink added.\n",
    "\n",
    "<p align = center>\n",
    "    <img src = https://developers.google.com/static/optimization/images/flow/assignment_min_cost_flow.svg>\n",
    "</p>\n",
    "\n",
    "Note: The numbering of the workers and tasks is slightly different than in the section Linear Assignment Solver, because the min cost flow solver requires all nodes in the graph to be numbered distinctly.\n",
    "\n",
    "The data contains the following four arrays, corresponding to the start nodes, end nodes, capacities, and costs for the problem. The length of each array is the number of arcs in the graph."
   ]
  },
  {
   "cell_type": "code",
   "execution_count": 59,
   "metadata": {},
   "outputs": [],
   "source": [
    "# Define the directed graph for the flow.\n",
    "start_nodes = [0, 0, 0, 0] + [\n",
    "    1, 1, 1, 1, 2, 2, 2, 2, 3, 3, 3, 3, 4, 4, 4, 4\n",
    "] + [5, 6, 7, 8]\n",
    "end_nodes = [1, 2, 3, 4] + [5, 6, 7, 8, 5, 6, 7, 8, 5, 6, 7, 8, 5, 6, 7, 8\n",
    "                           ] + [9, 9, 9, 9]\n",
    "capacities = [1, 1, 1, 1] + [\n",
    "    1, 1, 1, 1, 1, 1, 1, 1, 1, 1, 1, 1, 1, 1, 1, 1\n",
    "] + [1, 1, 1, 1]\n",
    "costs = (\n",
    "    [0, 0, 0, 0] +\n",
    "    [90, 76, 75, 70, 35, 85, 55, 65, 125, 95, 90, 105, 45, 110, 95, 115] +\n",
    "    [0, 0, 0, 0])\n",
    "\n",
    "source = 0\n",
    "sink = 9\n",
    "tasks = 4\n",
    "supplies = [tasks, 0, 0, 0, 0, 0, 0, 0, 0, -tasks]"
   ]
  },
  {
   "attachments": {},
   "cell_type": "markdown",
   "metadata": {},
   "source": [
    "To make clear how the data is set up, each array is divided into three sub-arrays:\n",
    "- The first array corresponds to arcs leading out of the source.\n",
    "- The second array corresponds to the arcs between workers and tasks. For the costs, this is just the cost matrix (used by the linear assignment solver), flattened into a vector.\n",
    "- The third array corresponds to the arcs leading into the sink.\n",
    "\n",
    "The data also includes the vector supplies, which gives the supply at each node.\n",
    "\n",
    "**How does the min cost flow problem above represent an assignment problem?** First, since the capacity of every arc is 1, the supply of 4 at the source forces each of the four arcs leading into the workers to have a flow of 1.\n",
    "\n",
    "Next, the flow-in-equals-flow-out condition forces the flow out of each worker to be 1. If possible, the solver would direct that flow across the minimum cost arc leading out of each worker. However, the solver cannot direct the flows from two different workers to a single task. If it did, there would be a combined flow of 2 at that task, which could not be sent across the single arc with capacity 1 from the task to the sink. This means that the solver can only assign a task to a single worker, as required by the assignment problem.\n",
    "\n",
    "Finally, the flow-in-equals-flow-out condition forces each task to have an outflow of 1, so each task is performed by some worker."
   ]
  },
  {
   "cell_type": "code",
   "execution_count": 60,
   "metadata": {},
   "outputs": [],
   "source": [
    "# Create graph and constraints\n",
    "# Add each arcs\n",
    "for i in range(len(start_nodes)):\n",
    "    smcf.add_arc_with_capacity_and_unit_cost(start_nodes[i], end_nodes[i],\n",
    "                                            capacities[i], costs[i])\n",
    "\n",
    "# Add node supplies\n",
    "for i in range(len(supplies)):\n",
    "    smcf.set_node_supply(i, supplies[i])\n",
    "\n",
    "# Invoke solver, find minimum cost flow between node 0 and node 10\n",
    "status = smcf.solve()"
   ]
  },
  {
   "attachments": {},
   "cell_type": "markdown",
   "metadata": {},
   "source": [
    "The solution consists of the arcs between workers and tasks that are assigned a flow of 1 by the solver. (Arcs connected to the source or sink are not part of the solution.)\n",
    "\n",
    "The program checks each arc to see if it has flow 1, and if so, prints the `Tail` (start node) and the `Head` (end node) of the arc, which correspond to a worker and task in the assignment."
   ]
  },
  {
   "cell_type": "code",
   "execution_count": 61,
   "metadata": {},
   "outputs": [
    {
     "name": "stdout",
     "output_type": "stream",
     "text": [
      "Total cost = 265\n",
      "\n",
      "Worker 1 assigned to task 8. Cost = 70\n",
      "Worker 2 assigned to task 7. Cost = 55\n",
      "Worker 3 assigned to task 6. Cost = 95\n",
      "Worker 4 assigned to task 5. Cost = 45\n"
     ]
    }
   ],
   "source": [
    "if status == smcf.OPTIMAL:\n",
    "    print('Total cost =', smcf.optimal_cost())\n",
    "    print()\n",
    "    for arc in range(smcf.num_arcs()):\n",
    "        # Can ignore arcs leading out of source or into sink\n",
    "        if smcf.tail(arc) != source and smcf.head(arc) != sink:\n",
    "            # Arcs in the solution have a flow value of 1\n",
    "            # Their start and end nodes give an assignment of worker to task\n",
    "            if smcf.flow(arc) > 0:\n",
    "                print('Worker %d assigned to task %d. Cost = %d' %\n",
    "                        (smcf.tail(arc), smcf.head(arc), smcf.unit_cost(arc)))\n",
    "else:\n",
    "    print('There was an issue with the min cost flow input.')\n",
    "    print('Status:', status)"
   ]
  },
  {
   "attachments": {},
   "cell_type": "markdown",
   "metadata": {},
   "source": [
    "## Assignment with teams of workers"
   ]
  },
  {
   "attachments": {},
   "cell_type": "markdown",
   "metadata": {},
   "source": [
    "This section presents a more general assignment problem. In this problem, six workers are divided into two teams. The problem is to assign four tasks to the workers so that the workload is equally balanced between the teams — that is, so each team performs two of the tasks."
   ]
  },
  {
   "cell_type": "code",
   "execution_count": 64,
   "metadata": {},
   "outputs": [],
   "source": [
    "# Declare solver\n",
    "smcf = min_cost_flow.SimpleMinCostFlow()\n",
    "\n",
    "# Define the directed graph for the flow.\n",
    "team_a = [1, 3, 5]\n",
    "team_b = [2, 4, 6]\n",
    "\n",
    "start_nodes = ([0, 0] + [11, 11, 11] + [12, 12, 12] + [\n",
    "    1, 1, 1, 1, 2, 2, 2, 2, 3, 3, 3, 3, 4, 4, 4, 4, 5, 5, 5, 5, 6, 6, 6, 6\n",
    "] + [7, 8, 9, 10])\n",
    "end_nodes = ([11, 12] + team_a + team_b + [\n",
    "    7, 8, 9, 10, 7, 8, 9, 10, 7, 8, 9, 10, 7, 8, 9, 10, 7, 8, 9, 10, 7, 8,\n",
    "    9, 10\n",
    "] + [13, 13, 13, 13])\n",
    "capacities = ([2, 2] + [1, 1, 1] + [1, 1, 1] + [\n",
    "    1, 1, 1, 1, 1, 1, 1, 1, 1, 1, 1, 1, 1, 1, 1, 1, 1, 1, 1, 1, 1, 1, 1, 1\n",
    "] + [1, 1, 1, 1])\n",
    "costs = ([0, 0] + [0, 0, 0] + [0, 0, 0] + [\n",
    "    90, 76, 75, 70, 35, 85, 55, 65, 125, 95, 90, 105, 45, 110, 95, 115, 60,\n",
    "    105, 80, 75, 45, 65, 110, 95\n",
    "] + [0, 0, 0, 0])\n",
    "\n",
    "source = 0\n",
    "sink = 13\n",
    "tasks = 4\n",
    "# Define an array of supplies at each node.\n",
    "supplies = [tasks, 0, 0, 0, 0, 0, 0, 0, 0, 0, 0, 0, 0, -tasks]"
   ]
  },
  {
   "attachments": {},
   "cell_type": "markdown",
   "metadata": {},
   "source": [
    "The workers correspond to nodes 1 - 6. Team A consists of workers 1, 3, and 5, and team B consists of workers 2, 4, and 6. The tasks are numbered 7 - 10.\n",
    "\n",
    "There are two new nodes, 11 and 12, between the source and workers. Node 11 is connected to the nodes for team A, and Node 12 is connected to the nodes for team B, with arcs of capacity 1. The graph below shows just the nodes and arcs from the source to the workers.\n",
    "\n",
    "<p align = center>\n",
    "    <img src = https://developers.google.com/static/optimization/images/flow/assignment_teams_workers.svg>\n",
    "</p>\n",
    "\n",
    "The key to balancing the workload is that the source 0 is connected to nodes 11 and 12 by arcs of capacity 2. This means that nodes 11 and 12 (and therefore teams A and B) can have a maximum flow of 2. As a result, each team can perform at most two of the tasks."
   ]
  },
  {
   "cell_type": "code",
   "execution_count": 65,
   "metadata": {},
   "outputs": [
    {
     "name": "stdout",
     "output_type": "stream",
     "text": [
      "Total cost = 250 \n",
      "\n",
      "Worker 1 assigned to task 9. Cost = 75\n",
      "Worker 2 assigned to task 7. Cost = 35\n",
      "Worker 5 assigned to task 10. Cost = 75\n",
      "Worker 6 assigned to task 8. Cost = 65\n"
     ]
    }
   ],
   "source": [
    "# Create constraints\n",
    "# Add each arc\n",
    "for i in range(0, len(start_nodes)):\n",
    "    smcf.add_arc_with_capacity_and_unit_cost(start_nodes[i], end_nodes[i],\n",
    "                                            capacities[i], costs[i])\n",
    "\n",
    "# Add node supplies\n",
    "for i in range(0, len(supplies)):\n",
    "    smcf.set_node_supply(i, supplies[i])\n",
    "\n",
    "# Invoke solver, find minimum cost flow between node 0 and node 10\n",
    "status = smcf.solve()\n",
    "\n",
    "# Output\n",
    "if status == smcf.OPTIMAL:\n",
    "    smcf.solve()\n",
    "    print('Total cost =', smcf.optimal_cost(), '\\n')\n",
    "    for arc in range(smcf.num_arcs()):\n",
    "        # Can ignore arcs leading out of source or intermediate, or into sink\n",
    "        if (smcf.tail(arc) != source and smcf.tail(arc) != 11 and\n",
    "            smcf.tail(arc) != 12 and smcf.head(arc) != sink):\n",
    "            # Arcs in the solution will have a flow value of 1\n",
    "            # Their start and end nodes give an assignment of worker to task\n",
    "            if smcf.flow(arc) > 0:\n",
    "                print(f'Worker {smcf.tail(arc)} assigned to task {smcf.head(arc)}. Cost = {smcf.unit_cost(arc)}')\n",
    "else:\n",
    "    print('There was an issue with the min cost flow input.')\n",
    "    print('Status:', status)"
   ]
  },
  {
   "cell_type": "code",
   "execution_count": null,
   "metadata": {},
   "outputs": [],
   "source": []
  }
 ],
 "metadata": {
  "kernelspec": {
   "display_name": "Python 3",
   "language": "python",
   "name": "python3"
  },
  "language_info": {
   "codemirror_mode": {
    "name": "ipython",
    "version": 3
   },
   "file_extension": ".py",
   "mimetype": "text/x-python",
   "name": "python",
   "nbconvert_exporter": "python",
   "pygments_lexer": "ipython3"
  },
  "orig_nbformat": 4,
  "vscode": {
   "interpreter": {
    "hash": "89fcffa4e5c0b8de1000b7bd1cb06ecfe8e894727bdfc6006168278143d46145"
   }
  }
 },
 "nbformat": 4,
 "nbformat_minor": 2
}
